{
 "cells": [
  {
   "cell_type": "code",
   "execution_count": 2,
   "metadata": {
    "scrolled": true
   },
   "outputs": [
    {
     "name": "stderr",
     "output_type": "stream",
     "text": [
      "/Users/marylugranja/anaconda3/lib/python3.7/site-packages/IPython/core/interactiveshell.py:3049: DtypeWarning: Columns (8,12,13,14,15,16,50,51,52,53,55,56,57,58,59,60,61,62,63,64,65,66,67,68,69,70,71,72,73,74,75,76,77,78,79,80,81,82,83,84,85,93,94,95,96,97,98,99,100,101,102,103,104,105,106,107,108,109,110,111,112,113,114,115,116,117,118,119,120,121,122,123,124,125,126,127,128) have mixed types. Specify dtype option on import or set low_memory=False.\n",
      "  interactivity=interactivity, compiler=compiler, result=result)\n"
     ]
    },
    {
     "data": {
      "text/html": [
       "<div>\n",
       "<style scoped>\n",
       "    .dataframe tbody tr th:only-of-type {\n",
       "        vertical-align: middle;\n",
       "    }\n",
       "\n",
       "    .dataframe tbody tr th {\n",
       "        vertical-align: top;\n",
       "    }\n",
       "\n",
       "    .dataframe thead th {\n",
       "        text-align: right;\n",
       "    }\n",
       "</style>\n",
       "<table border=\"1\" class=\"dataframe\">\n",
       "  <thead>\n",
       "    <tr style=\"text-align: right;\">\n",
       "      <th></th>\n",
       "      <th>Respondent</th>\n",
       "      <th>Hobby</th>\n",
       "      <th>OpenSource</th>\n",
       "      <th>Country</th>\n",
       "      <th>Student</th>\n",
       "      <th>Employment</th>\n",
       "      <th>FormalEducation</th>\n",
       "      <th>UndergradMajor</th>\n",
       "      <th>CompanySize</th>\n",
       "      <th>DevType</th>\n",
       "      <th>...</th>\n",
       "      <th>Exercise</th>\n",
       "      <th>Gender</th>\n",
       "      <th>SexualOrientation</th>\n",
       "      <th>EducationParents</th>\n",
       "      <th>RaceEthnicity</th>\n",
       "      <th>Age</th>\n",
       "      <th>Dependents</th>\n",
       "      <th>MilitaryUS</th>\n",
       "      <th>SurveyTooLong</th>\n",
       "      <th>SurveyEasy</th>\n",
       "    </tr>\n",
       "  </thead>\n",
       "  <tbody>\n",
       "    <tr>\n",
       "      <th>0</th>\n",
       "      <td>1</td>\n",
       "      <td>Yes</td>\n",
       "      <td>No</td>\n",
       "      <td>Kenya</td>\n",
       "      <td>No</td>\n",
       "      <td>Employed part-time</td>\n",
       "      <td>Bachelor’s degree (BA, BS, B.Eng., etc.)</td>\n",
       "      <td>Mathematics or statistics</td>\n",
       "      <td>20 to 99 employees</td>\n",
       "      <td>Full-stack developer</td>\n",
       "      <td>...</td>\n",
       "      <td>3 - 4 times per week</td>\n",
       "      <td>Male</td>\n",
       "      <td>Straight or heterosexual</td>\n",
       "      <td>Bachelor’s degree (BA, BS, B.Eng., etc.)</td>\n",
       "      <td>Black or of African descent</td>\n",
       "      <td>25 - 34 years old</td>\n",
       "      <td>Yes</td>\n",
       "      <td>NaN</td>\n",
       "      <td>The survey was an appropriate length</td>\n",
       "      <td>Very easy</td>\n",
       "    </tr>\n",
       "    <tr>\n",
       "      <th>1</th>\n",
       "      <td>3</td>\n",
       "      <td>Yes</td>\n",
       "      <td>Yes</td>\n",
       "      <td>United Kingdom</td>\n",
       "      <td>No</td>\n",
       "      <td>Employed full-time</td>\n",
       "      <td>Bachelor’s degree (BA, BS, B.Eng., etc.)</td>\n",
       "      <td>A natural science (ex. biology, chemistry, phy...</td>\n",
       "      <td>10,000 or more employees</td>\n",
       "      <td>Database administrator;DevOps specialist;Full-...</td>\n",
       "      <td>...</td>\n",
       "      <td>Daily or almost every day</td>\n",
       "      <td>Male</td>\n",
       "      <td>Straight or heterosexual</td>\n",
       "      <td>Bachelor’s degree (BA, BS, B.Eng., etc.)</td>\n",
       "      <td>White or of European descent</td>\n",
       "      <td>35 - 44 years old</td>\n",
       "      <td>Yes</td>\n",
       "      <td>NaN</td>\n",
       "      <td>The survey was an appropriate length</td>\n",
       "      <td>Somewhat easy</td>\n",
       "    </tr>\n",
       "    <tr>\n",
       "      <th>2</th>\n",
       "      <td>4</td>\n",
       "      <td>Yes</td>\n",
       "      <td>Yes</td>\n",
       "      <td>United States</td>\n",
       "      <td>No</td>\n",
       "      <td>Employed full-time</td>\n",
       "      <td>Associate degree</td>\n",
       "      <td>Computer science, computer engineering, or sof...</td>\n",
       "      <td>20 to 99 employees</td>\n",
       "      <td>Engineering manager;Full-stack developer</td>\n",
       "      <td>...</td>\n",
       "      <td>NaN</td>\n",
       "      <td>NaN</td>\n",
       "      <td>NaN</td>\n",
       "      <td>NaN</td>\n",
       "      <td>NaN</td>\n",
       "      <td>NaN</td>\n",
       "      <td>NaN</td>\n",
       "      <td>NaN</td>\n",
       "      <td>NaN</td>\n",
       "      <td>NaN</td>\n",
       "    </tr>\n",
       "    <tr>\n",
       "      <th>3</th>\n",
       "      <td>5</td>\n",
       "      <td>No</td>\n",
       "      <td>No</td>\n",
       "      <td>United States</td>\n",
       "      <td>No</td>\n",
       "      <td>Employed full-time</td>\n",
       "      <td>Bachelor’s degree (BA, BS, B.Eng., etc.)</td>\n",
       "      <td>Computer science, computer engineering, or sof...</td>\n",
       "      <td>100 to 499 employees</td>\n",
       "      <td>Full-stack developer</td>\n",
       "      <td>...</td>\n",
       "      <td>I don't typically exercise</td>\n",
       "      <td>Male</td>\n",
       "      <td>Straight or heterosexual</td>\n",
       "      <td>Some college/university study without earning ...</td>\n",
       "      <td>White or of European descent</td>\n",
       "      <td>35 - 44 years old</td>\n",
       "      <td>No</td>\n",
       "      <td>No</td>\n",
       "      <td>The survey was an appropriate length</td>\n",
       "      <td>Somewhat easy</td>\n",
       "    </tr>\n",
       "    <tr>\n",
       "      <th>4</th>\n",
       "      <td>7</td>\n",
       "      <td>Yes</td>\n",
       "      <td>No</td>\n",
       "      <td>South Africa</td>\n",
       "      <td>Yes, part-time</td>\n",
       "      <td>Employed full-time</td>\n",
       "      <td>Some college/university study without earning ...</td>\n",
       "      <td>Computer science, computer engineering, or sof...</td>\n",
       "      <td>10,000 or more employees</td>\n",
       "      <td>Data or business analyst;Desktop or enterprise...</td>\n",
       "      <td>...</td>\n",
       "      <td>3 - 4 times per week</td>\n",
       "      <td>Male</td>\n",
       "      <td>Straight or heterosexual</td>\n",
       "      <td>Some college/university study without earning ...</td>\n",
       "      <td>White or of European descent</td>\n",
       "      <td>18 - 24 years old</td>\n",
       "      <td>Yes</td>\n",
       "      <td>NaN</td>\n",
       "      <td>The survey was an appropriate length</td>\n",
       "      <td>Somewhat easy</td>\n",
       "    </tr>\n",
       "  </tbody>\n",
       "</table>\n",
       "<p>5 rows × 129 columns</p>\n",
       "</div>"
      ],
      "text/plain": [
       "   Respondent Hobby OpenSource         Country         Student  \\\n",
       "0           1   Yes         No           Kenya              No   \n",
       "1           3   Yes        Yes  United Kingdom              No   \n",
       "2           4   Yes        Yes   United States              No   \n",
       "3           5    No         No   United States              No   \n",
       "4           7   Yes         No    South Africa  Yes, part-time   \n",
       "\n",
       "           Employment                                    FormalEducation  \\\n",
       "0  Employed part-time           Bachelor’s degree (BA, BS, B.Eng., etc.)   \n",
       "1  Employed full-time           Bachelor’s degree (BA, BS, B.Eng., etc.)   \n",
       "2  Employed full-time                                   Associate degree   \n",
       "3  Employed full-time           Bachelor’s degree (BA, BS, B.Eng., etc.)   \n",
       "4  Employed full-time  Some college/university study without earning ...   \n",
       "\n",
       "                                      UndergradMajor  \\\n",
       "0                          Mathematics or statistics   \n",
       "1  A natural science (ex. biology, chemistry, phy...   \n",
       "2  Computer science, computer engineering, or sof...   \n",
       "3  Computer science, computer engineering, or sof...   \n",
       "4  Computer science, computer engineering, or sof...   \n",
       "\n",
       "                CompanySize  \\\n",
       "0        20 to 99 employees   \n",
       "1  10,000 or more employees   \n",
       "2        20 to 99 employees   \n",
       "3      100 to 499 employees   \n",
       "4  10,000 or more employees   \n",
       "\n",
       "                                             DevType  ...  \\\n",
       "0                               Full-stack developer  ...   \n",
       "1  Database administrator;DevOps specialist;Full-...  ...   \n",
       "2           Engineering manager;Full-stack developer  ...   \n",
       "3                               Full-stack developer  ...   \n",
       "4  Data or business analyst;Desktop or enterprise...  ...   \n",
       "\n",
       "                     Exercise Gender         SexualOrientation  \\\n",
       "0        3 - 4 times per week   Male  Straight or heterosexual   \n",
       "1   Daily or almost every day   Male  Straight or heterosexual   \n",
       "2                         NaN    NaN                       NaN   \n",
       "3  I don't typically exercise   Male  Straight or heterosexual   \n",
       "4        3 - 4 times per week   Male  Straight or heterosexual   \n",
       "\n",
       "                                    EducationParents  \\\n",
       "0           Bachelor’s degree (BA, BS, B.Eng., etc.)   \n",
       "1           Bachelor’s degree (BA, BS, B.Eng., etc.)   \n",
       "2                                                NaN   \n",
       "3  Some college/university study without earning ...   \n",
       "4  Some college/university study without earning ...   \n",
       "\n",
       "                  RaceEthnicity                Age Dependents  MilitaryUS  \\\n",
       "0   Black or of African descent  25 - 34 years old        Yes         NaN   \n",
       "1  White or of European descent  35 - 44 years old        Yes         NaN   \n",
       "2                           NaN                NaN        NaN         NaN   \n",
       "3  White or of European descent  35 - 44 years old         No          No   \n",
       "4  White or of European descent  18 - 24 years old        Yes         NaN   \n",
       "\n",
       "                          SurveyTooLong     SurveyEasy  \n",
       "0  The survey was an appropriate length      Very easy  \n",
       "1  The survey was an appropriate length  Somewhat easy  \n",
       "2                                   NaN            NaN  \n",
       "3  The survey was an appropriate length  Somewhat easy  \n",
       "4  The survey was an appropriate length  Somewhat easy  \n",
       "\n",
       "[5 rows x 129 columns]"
      ]
     },
     "execution_count": 2,
     "metadata": {},
     "output_type": "execute_result"
    }
   ],
   "source": [
    "%matplotlib inline\n",
    "# Dependencies and Setup\n",
    "import matplotlib.pyplot as plt\n",
    "import pandas as pd\n",
    "import numpy as np\n",
    "import gmaps\n",
    "import scipy.stats as stats\n",
    "\n",
    "Data_Files =pd.read_csv(\"survey_results_public.csv\", encoding ='utf-8')\n",
    "\n",
    "Education_df = Data_Files\n",
    "\n",
    "Education_df.head(5)\n"
   ]
  },
  {
   "cell_type": "markdown",
   "metadata": {},
   "source": [
    "# Data Cleaning\n",
    "Cleaned up the following fields by shortening labels in Formal_Education and Undergraduated Majors. Also bucked Gender into 3 categories.  \n",
    "NAs were removed as needed"
   ]
  },
  {
   "cell_type": "code",
   "execution_count": 3,
   "metadata": {},
   "outputs": [
    {
     "data": {
      "text/plain": [
       "Bachelor’s Degree                       43659\n",
       "Master's Degree                         21396\n",
       "Some College/University Study           11710\n",
       "Secondary School                         8951\n",
       "Associate Degree                         2970\n",
       "Other Doctoral Degree                    2214\n",
       "Elementary school                        1656\n",
       "Professional Degree                      1447\n",
       "Never Completed Any Formal Education      700\n",
       "Name: FormalEducation, dtype: int64"
      ]
     },
     "execution_count": 3,
     "metadata": {},
     "output_type": "execute_result"
    }
   ],
   "source": [
    "Education_df['FormalEducation'] = Education_df['FormalEducation'].replace({\"Professional degree (JD, MD, etc.)\": \"Professional Degree\",\n",
    "                                                                          \"Bachelor’s degree (BA, BS, B.Eng., etc.)\": \"Bachelor’s Degree\",\n",
    "                                                                          \"Master’s degree (MA, MS, M.Eng., MBA, etc.)\" : \"Master's Degree\",\n",
    "                                                                        \"Secondary school (e.g. American high school, German Realschule or Gymnasium, etc.)\":\"Secondary School\",\n",
    "                                                                           \"Associate degree\" : \"Associate Degree\",\n",
    "                                                                          \"Other doctoral degree (Ph.D, Ed.D., etc.)\": \"Other Doctoral Degree\", \n",
    "                                                                           \"I never completed any formal education\": \"Never Completed Any Formal Education\",\n",
    "                                                                          \"Primary/elementary school\": \"Elementary school\",\n",
    "                                                                          \"Some college/university study without earning a degree\":\"Some College/University Study\"})\n",
    "                           \n",
    "\n",
    "#Education_df['FormalEducation'].count()\n",
    "Education_df['FormalEducation'].value_counts()\n",
    "\n"
   ]
  },
  {
   "cell_type": "code",
   "execution_count": 4,
   "metadata": {},
   "outputs": [
    {
     "data": {
      "text/plain": [
       "Computer Science/Computer Engineering         50336\n",
       "Another Engineering Discipline                 6945\n",
       "Information Systems/Information Technology     6507\n",
       "Natural Science                                3050\n",
       "Mathematics or statistics                      2818\n",
       "Web development or web design                  2418\n",
       "Business Discipline                            1921\n",
       "Humanities Discipline                          1590\n",
       "Social Science                                 1377\n",
       "Fine Arts/Performing Arts                      1135\n",
       "I never declared a major                        693\n",
       "Health Science                                  246\n",
       "Name: UndergradMajor, dtype: int64"
      ]
     },
     "execution_count": 4,
     "metadata": {},
     "output_type": "execute_result"
    }
   ],
   "source": [
    "Education_df['UndergradMajor'] = Education_df['UndergradMajor'].replace({\"A health science (ex. nursing, pharmacy, radiology)\": \"Health Science\",\n",
    "                                                                          \"Fine arts or performing arts (ex. graphic design, music, studio art)\": \"Fine Arts/Performing Arts\",\n",
    "                                                                          \"A social science (ex. anthropology, psychology, political science)\" : \"Social Science\",\n",
    "                                                                        \"A humanities discipline (ex. literature, history, philosophy)\":\"Humanities Discipline\",\n",
    "                                                                           \"A business discipline (ex. accounting, finance, marketing)\" : \"Business Discipline\",\n",
    "                                                                          \"Mathematics or statistics\": \"Mathematics or statistics\", \n",
    "                                                                           \"A natural science (ex. biology, chemistry, physics)\": \"Natural Science\",\n",
    "                                                                          \"Information systems, information technology, or system administration\": \"Information Systems/Information Technology\",\n",
    "                                                                          \"Another engineering discipline (ex. civil, electrical, mechanical)\":\"Another Engineering Discipline\",\n",
    "                                                                        \"Computer science, computer engineering, or software engineering\": \"Computer Science/Computer Engineering\"})\n",
    "                           \n",
    "\n",
    "#Education_df['UndergradMajor'].count()\n",
    "Education_df['UndergradMajor'].value_counts()\n"
   ]
  },
  {
   "cell_type": "code",
   "execution_count": 5,
   "metadata": {},
   "outputs": [
    {
     "data": {
      "text/plain": [
       "Male                     59620\n",
       "Female                    4244\n",
       "Other / Non-Disclosed      605\n",
       "Name: Gender, dtype: int64"
      ]
     },
     "execution_count": 5,
     "metadata": {},
     "output_type": "execute_result"
    }
   ],
   "source": [
    "Education_df['Gender'] = Education_df['Gender'].replace({\"Non-binary, genderqueer, or gender non-conforming\":\"Other / Non-Disclosed\",\"Female;Transgender\":\"Female\",\\\n",
    "                                                        \"Male;Non-binary, genderqueer, or gender non-conforming\":\"Male\",\"Transgender\":\"Other / Non-Disclosed\",\"Female;Male\":\"Other / Non-Disclosed\",\\\n",
    "                                                        \"Transgender;Non-binary, genderqueer, or gender non-conforming\":\"Other / Non-Disclosed\",\"Female;Non-binary, genderqueer, or gender non-conforming\":\"Female\",\\\n",
    "                                                         \"Female;Male;Transgender;Non-binary, genderqueer, or gender non-conforming\":\"Other / Non-Disclosed\",\"Male;Transgender\":\"Male\",\"Female;Transgender;Non-binary, genderqueer, or gender non-conforming\":\"Female\",\\\n",
    "                                                         \"Female;Male;Transgender\":\"Other / Non-Disclosed\",\"Male;Transgender;Non-binary, genderqueer, or gender non-conforming\":\"Male\",\\\n",
    "                                                        \"Female;Male;Non-binary, genderqueer, or gender non-conforming\":\"Other / Non-Disclosed\"})\n",
    "\n",
    "Education_df['Gender'].value_counts()\n",
    "\n",
    "\n"
   ]
  },
  {
   "cell_type": "markdown",
   "metadata": {},
   "source": [
    "# Formal Education"
   ]
  },
  {
   "cell_type": "code",
   "execution_count": 6,
   "metadata": {},
   "outputs": [
    {
     "data": {
      "text/html": [
       "<div>\n",
       "<style scoped>\n",
       "    .dataframe tbody tr th:only-of-type {\n",
       "        vertical-align: middle;\n",
       "    }\n",
       "\n",
       "    .dataframe tbody tr th {\n",
       "        vertical-align: top;\n",
       "    }\n",
       "\n",
       "    .dataframe thead th {\n",
       "        text-align: right;\n",
       "    }\n",
       "</style>\n",
       "<table border=\"1\" class=\"dataframe\">\n",
       "  <thead>\n",
       "    <tr style=\"text-align: right;\">\n",
       "      <th></th>\n",
       "      <th>Gender</th>\n",
       "      <th>Percentage Of Developers</th>\n",
       "    </tr>\n",
       "  </thead>\n",
       "  <tbody>\n",
       "    <tr>\n",
       "      <th>Male</th>\n",
       "      <td>58603</td>\n",
       "      <td>92.51</td>\n",
       "    </tr>\n",
       "    <tr>\n",
       "      <th>Female</th>\n",
       "      <td>4157</td>\n",
       "      <td>6.56</td>\n",
       "    </tr>\n",
       "    <tr>\n",
       "      <th>Other / Non-Disclosed</th>\n",
       "      <td>586</td>\n",
       "      <td>0.93</td>\n",
       "    </tr>\n",
       "  </tbody>\n",
       "</table>\n",
       "</div>"
      ],
      "text/plain": [
       "                       Gender  Percentage Of Developers\n",
       "Male                    58603                     92.51\n",
       "Female                   4157                      6.56\n",
       "Other / Non-Disclosed     586                      0.93"
      ]
     },
     "execution_count": 6,
     "metadata": {},
     "output_type": "execute_result"
    }
   ],
   "source": [
    "FE_Gender_df_temp = Education_df.loc[:,[\"FormalEducation\",\"Gender\",\"Respondent\"]]\n",
    "FE_Gender_df = FE_Gender_df_temp.dropna()\n",
    "FE_Gender_df[\"FormalEducation\"].count()\n",
    "\n",
    "\n",
    "Count_Gender= FE_Gender_df[\"Gender\"].value_counts()\n",
    "Gender_df=pd.DataFrame(Count_Gender)\n",
    "Tot= Count_Gender.sum()\n",
    "Gender_df[\"Percentage Of Developers\"]=round(Count_Gender*100/Tot,2)\n",
    "Gender_df\n"
   ]
  },
  {
   "cell_type": "code",
   "execution_count": 7,
   "metadata": {},
   "outputs": [
    {
     "data": {
      "image/png": "[encoded data removed]",
      "text/plain": [
       "<Figure size 432x288 with 1 Axes>"
      ]
     },
     "metadata": {
      "needs_background": "light"
     },
     "output_type": "display_data"
    },
    {
     "name": "stdout",
     "output_type": "stream",
     "text": [
      "Total Formal Education responses: 94703\n"
     ]
    },
    {
     "data": {
      "text/html": [
       "<div>\n",
       "<style scoped>\n",
       "    .dataframe tbody tr th:only-of-type {\n",
       "        vertical-align: middle;\n",
       "    }\n",
       "\n",
       "    .dataframe tbody tr th {\n",
       "        vertical-align: top;\n",
       "    }\n",
       "\n",
       "    .dataframe thead th {\n",
       "        text-align: right;\n",
       "    }\n",
       "</style>\n",
       "<table border=\"1\" class=\"dataframe\">\n",
       "  <thead>\n",
       "    <tr style=\"text-align: right;\">\n",
       "      <th></th>\n",
       "      <th>Labels</th>\n",
       "      <th>Values</th>\n",
       "      <th>% of Respondents</th>\n",
       "    </tr>\n",
       "  </thead>\n",
       "  <tbody>\n",
       "    <tr>\n",
       "      <th>Bachelor’s Degree</th>\n",
       "      <td>Bachelor’s Degree</td>\n",
       "      <td>43659</td>\n",
       "      <td>46.10</td>\n",
       "    </tr>\n",
       "    <tr>\n",
       "      <th>Master's Degree</th>\n",
       "      <td>Master's Degree</td>\n",
       "      <td>21396</td>\n",
       "      <td>22.59</td>\n",
       "    </tr>\n",
       "    <tr>\n",
       "      <th>Some College/University Study</th>\n",
       "      <td>Some College/University Study</td>\n",
       "      <td>11710</td>\n",
       "      <td>12.36</td>\n",
       "    </tr>\n",
       "    <tr>\n",
       "      <th>Secondary School</th>\n",
       "      <td>Secondary School</td>\n",
       "      <td>8951</td>\n",
       "      <td>9.45</td>\n",
       "    </tr>\n",
       "    <tr>\n",
       "      <th>Associate Degree</th>\n",
       "      <td>Associate Degree</td>\n",
       "      <td>2970</td>\n",
       "      <td>3.14</td>\n",
       "    </tr>\n",
       "    <tr>\n",
       "      <th>Other Doctoral Degree</th>\n",
       "      <td>Other Doctoral Degree</td>\n",
       "      <td>2214</td>\n",
       "      <td>2.34</td>\n",
       "    </tr>\n",
       "    <tr>\n",
       "      <th>Elementary school</th>\n",
       "      <td>Elementary school</td>\n",
       "      <td>1656</td>\n",
       "      <td>1.75</td>\n",
       "    </tr>\n",
       "    <tr>\n",
       "      <th>Professional Degree</th>\n",
       "      <td>Professional Degree</td>\n",
       "      <td>1447</td>\n",
       "      <td>1.53</td>\n",
       "    </tr>\n",
       "    <tr>\n",
       "      <th>Never Completed Any Formal Education</th>\n",
       "      <td>Never Completed Any Formal Education</td>\n",
       "      <td>700</td>\n",
       "      <td>0.74</td>\n",
       "    </tr>\n",
       "  </tbody>\n",
       "</table>\n",
       "</div>"
      ],
      "text/plain": [
       "                                                                    Labels  \\\n",
       "Bachelor’s Degree                                        Bachelor’s Degree   \n",
       "Master's Degree                                            Master's Degree   \n",
       "Some College/University Study                Some College/University Study   \n",
       "Secondary School                                          Secondary School   \n",
       "Associate Degree                                          Associate Degree   \n",
       "Other Doctoral Degree                                Other Doctoral Degree   \n",
       "Elementary school                                        Elementary school   \n",
       "Professional Degree                                    Professional Degree   \n",
       "Never Completed Any Formal Education  Never Completed Any Formal Education   \n",
       "\n",
       "                                      Values  % of Respondents  \n",
       "Bachelor’s Degree                      43659             46.10  \n",
       "Master's Degree                        21396             22.59  \n",
       "Some College/University Study          11710             12.36  \n",
       "Secondary School                        8951              9.45  \n",
       "Associate Degree                        2970              3.14  \n",
       "Other Doctoral Degree                   2214              2.34  \n",
       "Elementary school                       1656              1.75  \n",
       "Professional Degree                     1447              1.53  \n",
       "Never Completed Any Formal Education     700              0.74  "
      ]
     },
     "execution_count": 7,
     "metadata": {},
     "output_type": "execute_result"
    }
   ],
   "source": [
    "formaleducation_temp = Education_df[['Respondent','FormalEducation']]\n",
    "formaleducation = formaleducation_temp.dropna()\n",
    "\n",
    "formaleducation_count = formaleducation['FormalEducation'].value_counts()\n",
    "Per_Total = round(((formaleducation_count/formaleducation_count.sum())*100),2)\n",
    "\n",
    "formaleducation_df = pd.DataFrame({'Labels' : formaleducation_count.index,\n",
    "                            'Values' : formaleducation_count.values,\n",
    "                             \"% of Respondents\" : Per_Total      \n",
    "})\n",
    "\n",
    "plt.barh(formaleducation_df['Labels'], formaleducation_df['Values'], color='c', alpha=0.5, align=\"center\")\n",
    "plt.gca().invert_yaxis()\n",
    "plt.grid(alpha = 0.33)\n",
    "plt.title(\"Formal Education\")\n",
    "plt.xlabel(\"# of Respondents\")\n",
    "plt.tight_layout()\n",
    "plt.savefig(\"Images/Formal_Education.png\")\n",
    "plt.show()\n",
    "\n",
    "print(f\"Total Formal Education responses: {formaleducation_count.sum()}\")\n",
    "\n",
    "\n",
    "formaleducation_df"
   ]
  },
  {
   "cell_type": "code",
   "execution_count": 8,
   "metadata": {},
   "outputs": [
    {
     "data": {
      "image/png": "[encoded data removed]",
      "text/plain": [
       "<Figure size 432x288 with 1 Axes>"
      ]
     },
     "metadata": {
      "needs_background": "light"
     },
     "output_type": "display_data"
    },
    {
     "name": "stdout",
     "output_type": "stream",
     "text": [
      "Total Formal Education responses: 4157\n"
     ]
    },
    {
     "data": {
      "text/html": [
       "<div>\n",
       "<style scoped>\n",
       "    .dataframe tbody tr th:only-of-type {\n",
       "        vertical-align: middle;\n",
       "    }\n",
       "\n",
       "    .dataframe tbody tr th {\n",
       "        vertical-align: top;\n",
       "    }\n",
       "\n",
       "    .dataframe thead th {\n",
       "        text-align: right;\n",
       "    }\n",
       "</style>\n",
       "<table border=\"1\" class=\"dataframe\">\n",
       "  <thead>\n",
       "    <tr style=\"text-align: right;\">\n",
       "      <th></th>\n",
       "      <th>Labels</th>\n",
       "      <th>Female_Values</th>\n",
       "      <th>% of Respondents</th>\n",
       "    </tr>\n",
       "  </thead>\n",
       "  <tbody>\n",
       "    <tr>\n",
       "      <th>Bachelor’s Degree</th>\n",
       "      <td>Bachelor’s Degree</td>\n",
       "      <td>2140</td>\n",
       "      <td>51.48</td>\n",
       "    </tr>\n",
       "    <tr>\n",
       "      <th>Master's Degree</th>\n",
       "      <td>Master's Degree</td>\n",
       "      <td>1028</td>\n",
       "      <td>24.73</td>\n",
       "    </tr>\n",
       "    <tr>\n",
       "      <th>Some College/University Study</th>\n",
       "      <td>Some College/University Study</td>\n",
       "      <td>383</td>\n",
       "      <td>9.21</td>\n",
       "    </tr>\n",
       "    <tr>\n",
       "      <th>Secondary School</th>\n",
       "      <td>Secondary School</td>\n",
       "      <td>244</td>\n",
       "      <td>5.87</td>\n",
       "    </tr>\n",
       "    <tr>\n",
       "      <th>Associate Degree</th>\n",
       "      <td>Associate Degree</td>\n",
       "      <td>133</td>\n",
       "      <td>3.20</td>\n",
       "    </tr>\n",
       "    <tr>\n",
       "      <th>Other Doctoral Degree</th>\n",
       "      <td>Other Doctoral Degree</td>\n",
       "      <td>126</td>\n",
       "      <td>3.03</td>\n",
       "    </tr>\n",
       "    <tr>\n",
       "      <th>Professional Degree</th>\n",
       "      <td>Professional Degree</td>\n",
       "      <td>46</td>\n",
       "      <td>1.11</td>\n",
       "    </tr>\n",
       "    <tr>\n",
       "      <th>Elementary school</th>\n",
       "      <td>Elementary school</td>\n",
       "      <td>36</td>\n",
       "      <td>0.87</td>\n",
       "    </tr>\n",
       "    <tr>\n",
       "      <th>Never Completed Any Formal Education</th>\n",
       "      <td>Never Completed Any Formal Education</td>\n",
       "      <td>21</td>\n",
       "      <td>0.51</td>\n",
       "    </tr>\n",
       "  </tbody>\n",
       "</table>\n",
       "</div>"
      ],
      "text/plain": [
       "                                                                    Labels  \\\n",
       "Bachelor’s Degree                                        Bachelor’s Degree   \n",
       "Master's Degree                                            Master's Degree   \n",
       "Some College/University Study                Some College/University Study   \n",
       "Secondary School                                          Secondary School   \n",
       "Associate Degree                                          Associate Degree   \n",
       "Other Doctoral Degree                                Other Doctoral Degree   \n",
       "Professional Degree                                    Professional Degree   \n",
       "Elementary school                                        Elementary school   \n",
       "Never Completed Any Formal Education  Never Completed Any Formal Education   \n",
       "\n",
       "                                      Female_Values  % of Respondents  \n",
       "Bachelor’s Degree                              2140             51.48  \n",
       "Master's Degree                                1028             24.73  \n",
       "Some College/University Study                   383              9.21  \n",
       "Secondary School                                244              5.87  \n",
       "Associate Degree                                133              3.20  \n",
       "Other Doctoral Degree                           126              3.03  \n",
       "Professional Degree                              46              1.11  \n",
       "Elementary school                                36              0.87  \n",
       "Never Completed Any Formal Education             21              0.51  "
      ]
     },
     "execution_count": 8,
     "metadata": {},
     "output_type": "execute_result"
    }
   ],
   "source": [
    "FE_Female_df_temp = FE_Gender_df.loc[FE_Gender_df[\"Gender\"]==\"Female\",:]\n",
    "FE_Female_df = FE_Female_df_temp.dropna()\n",
    "\n",
    "FE_Female_df_count = FE_Female_df['FormalEducation'].value_counts()\n",
    "Per_Female = round(((FE_Female_df_count/FE_Female_df_count.sum())*100),2)\n",
    "\n",
    "FE_Female_df = pd.DataFrame({'Labels' : FE_Female_df_count.index,\n",
    "                            'Female_Values' : FE_Female_df_count.values,\n",
    "                             \"% of Respondents\" : Per_Female\n",
    "})\n",
    "\n",
    "plt.barh(FE_Female_df['Labels'],FE_Female_df['Female_Values'], color='hotpink', alpha=0.5, align=\"center\")\n",
    "plt.gca().invert_yaxis()\n",
    "plt.grid(alpha = 0.33)\n",
    "plt.title(\"Formal Education (Female)\")\n",
    "plt.xlabel(\"# of Respondents\")\n",
    "plt.tight_layout()\n",
    "plt.savefig(\"Images/Formal_Education_Female.png\")\n",
    "plt.show()\n",
    "\n",
    "print(f\"Total Formal Education responses: {FE_Female_df_count.sum()}\")\n",
    "\n",
    "\n",
    "FE_Female_df\n",
    "\n",
    "\n"
   ]
  },
  {
   "cell_type": "code",
   "execution_count": 9,
   "metadata": {},
   "outputs": [
    {
     "data": {
      "image/png": "[encoded data removed]",
      "text/plain": [
       "<Figure size 432x288 with 1 Axes>"
      ]
     },
     "metadata": {
      "needs_background": "light"
     },
     "output_type": "display_data"
    },
    {
     "name": "stdout",
     "output_type": "stream",
     "text": [
      "Total Formal Education responses: 58603\n"
     ]
    },
    {
     "data": {
      "text/html": [
       "<div>\n",
       "<style scoped>\n",
       "    .dataframe tbody tr th:only-of-type {\n",
       "        vertical-align: middle;\n",
       "    }\n",
       "\n",
       "    .dataframe tbody tr th {\n",
       "        vertical-align: top;\n",
       "    }\n",
       "\n",
       "    .dataframe thead th {\n",
       "        text-align: right;\n",
       "    }\n",
       "</style>\n",
       "<table border=\"1\" class=\"dataframe\">\n",
       "  <thead>\n",
       "    <tr style=\"text-align: right;\">\n",
       "      <th></th>\n",
       "      <th>Labels</th>\n",
       "      <th>Male_Values</th>\n",
       "      <th>% of Respondents</th>\n",
       "    </tr>\n",
       "  </thead>\n",
       "  <tbody>\n",
       "    <tr>\n",
       "      <th>Bachelor’s Degree</th>\n",
       "      <td>Bachelor’s Degree</td>\n",
       "      <td>26876</td>\n",
       "      <td>45.86</td>\n",
       "    </tr>\n",
       "    <tr>\n",
       "      <th>Master's Degree</th>\n",
       "      <td>Master's Degree</td>\n",
       "      <td>13488</td>\n",
       "      <td>23.02</td>\n",
       "    </tr>\n",
       "    <tr>\n",
       "      <th>Some College/University Study</th>\n",
       "      <td>Some College/University Study</td>\n",
       "      <td>7679</td>\n",
       "      <td>13.10</td>\n",
       "    </tr>\n",
       "    <tr>\n",
       "      <th>Secondary School</th>\n",
       "      <td>Secondary School</td>\n",
       "      <td>5262</td>\n",
       "      <td>8.98</td>\n",
       "    </tr>\n",
       "    <tr>\n",
       "      <th>Associate Degree</th>\n",
       "      <td>Associate Degree</td>\n",
       "      <td>1817</td>\n",
       "      <td>3.10</td>\n",
       "    </tr>\n",
       "    <tr>\n",
       "      <th>Other Doctoral Degree</th>\n",
       "      <td>Other Doctoral Degree</td>\n",
       "      <td>1562</td>\n",
       "      <td>2.67</td>\n",
       "    </tr>\n",
       "    <tr>\n",
       "      <th>Elementary school</th>\n",
       "      <td>Elementary school</td>\n",
       "      <td>854</td>\n",
       "      <td>1.46</td>\n",
       "    </tr>\n",
       "    <tr>\n",
       "      <th>Professional Degree</th>\n",
       "      <td>Professional Degree</td>\n",
       "      <td>806</td>\n",
       "      <td>1.38</td>\n",
       "    </tr>\n",
       "    <tr>\n",
       "      <th>Never Completed Any Formal Education</th>\n",
       "      <td>Never Completed Any Formal Education</td>\n",
       "      <td>259</td>\n",
       "      <td>0.44</td>\n",
       "    </tr>\n",
       "  </tbody>\n",
       "</table>\n",
       "</div>"
      ],
      "text/plain": [
       "                                                                    Labels  \\\n",
       "Bachelor’s Degree                                        Bachelor’s Degree   \n",
       "Master's Degree                                            Master's Degree   \n",
       "Some College/University Study                Some College/University Study   \n",
       "Secondary School                                          Secondary School   \n",
       "Associate Degree                                          Associate Degree   \n",
       "Other Doctoral Degree                                Other Doctoral Degree   \n",
       "Elementary school                                        Elementary school   \n",
       "Professional Degree                                    Professional Degree   \n",
       "Never Completed Any Formal Education  Never Completed Any Formal Education   \n",
       "\n",
       "                                      Male_Values  % of Respondents  \n",
       "Bachelor’s Degree                           26876             45.86  \n",
       "Master's Degree                             13488             23.02  \n",
       "Some College/University Study                7679             13.10  \n",
       "Secondary School                             5262              8.98  \n",
       "Associate Degree                             1817              3.10  \n",
       "Other Doctoral Degree                        1562              2.67  \n",
       "Elementary school                             854              1.46  \n",
       "Professional Degree                           806              1.38  \n",
       "Never Completed Any Formal Education          259              0.44  "
      ]
     },
     "execution_count": 9,
     "metadata": {},
     "output_type": "execute_result"
    }
   ],
   "source": [
    "FE_Male_df_temp = FE_Gender_df.loc[FE_Gender_df[\"Gender\"]==\"Male\",:]\n",
    "FE_Male_df = FE_Male_df_temp.dropna()\n",
    "\n",
    "FE_Male_df_count = FE_Male_df['FormalEducation'].value_counts()\n",
    "Per_Male = round(((FE_Male_df_count/FE_Male_df_count.sum())*100),2)\n",
    "\n",
    "\n",
    "FE_Male_df = pd.DataFrame({'Labels' : FE_Male_df_count.index,\n",
    "                            'Male_Values' : FE_Male_df_count.values,\n",
    "                           \"% of Respondents\" : Per_Male\n",
    "                           \n",
    "})\n",
    "\n",
    "plt.barh(FE_Male_df['Labels'],FE_Male_df['Male_Values'], color='blue', alpha=0.5, align=\"center\")\n",
    "plt.gca().invert_yaxis()\n",
    "plt.grid(alpha = 0.33)\n",
    "plt.title(\"Formal Education (Male)\")\n",
    "plt.xlabel(\"# of Respondents\")\n",
    "plt.tight_layout()\n",
    "plt.savefig(\"Images/Formal_Education_Male.png\")\n",
    "plt.show()\n",
    "\n",
    "print(f\"Total Formal Education responses: {FE_Male_df_count.sum()}\")\n",
    "FE_Male_df"
   ]
  },
  {
   "cell_type": "code",
   "execution_count": 10,
   "metadata": {},
   "outputs": [
    {
     "data": {
      "image/png": "[encoded data removed]",
      "text/plain": [
       "<Figure size 432x288 with 1 Axes>"
      ]
     },
     "metadata": {
      "needs_background": "light"
     },
     "output_type": "display_data"
    },
    {
     "name": "stdout",
     "output_type": "stream",
     "text": [
      "Total Formal Education responses: 586\n"
     ]
    },
    {
     "data": {
      "text/html": [
       "<div>\n",
       "<style scoped>\n",
       "    .dataframe tbody tr th:only-of-type {\n",
       "        vertical-align: middle;\n",
       "    }\n",
       "\n",
       "    .dataframe tbody tr th {\n",
       "        vertical-align: top;\n",
       "    }\n",
       "\n",
       "    .dataframe thead th {\n",
       "        text-align: right;\n",
       "    }\n",
       "</style>\n",
       "<table border=\"1\" class=\"dataframe\">\n",
       "  <thead>\n",
       "    <tr style=\"text-align: right;\">\n",
       "      <th></th>\n",
       "      <th>Labels</th>\n",
       "      <th>Values</th>\n",
       "      <th>% of Respondents</th>\n",
       "    </tr>\n",
       "  </thead>\n",
       "  <tbody>\n",
       "    <tr>\n",
       "      <th>Bachelor’s Degree</th>\n",
       "      <td>Bachelor’s Degree</td>\n",
       "      <td>259</td>\n",
       "      <td>44.20</td>\n",
       "    </tr>\n",
       "    <tr>\n",
       "      <th>Master's Degree</th>\n",
       "      <td>Master's Degree</td>\n",
       "      <td>90</td>\n",
       "      <td>15.36</td>\n",
       "    </tr>\n",
       "    <tr>\n",
       "      <th>Some College/University Study</th>\n",
       "      <td>Some College/University Study</td>\n",
       "      <td>85</td>\n",
       "      <td>14.51</td>\n",
       "    </tr>\n",
       "    <tr>\n",
       "      <th>Secondary School</th>\n",
       "      <td>Secondary School</td>\n",
       "      <td>70</td>\n",
       "      <td>11.95</td>\n",
       "    </tr>\n",
       "    <tr>\n",
       "      <th>Elementary school</th>\n",
       "      <td>Elementary school</td>\n",
       "      <td>24</td>\n",
       "      <td>4.10</td>\n",
       "    </tr>\n",
       "    <tr>\n",
       "      <th>Associate Degree</th>\n",
       "      <td>Associate Degree</td>\n",
       "      <td>20</td>\n",
       "      <td>3.41</td>\n",
       "    </tr>\n",
       "    <tr>\n",
       "      <th>Never Completed Any Formal Education</th>\n",
       "      <td>Never Completed Any Formal Education</td>\n",
       "      <td>15</td>\n",
       "      <td>2.56</td>\n",
       "    </tr>\n",
       "    <tr>\n",
       "      <th>Other Doctoral Degree</th>\n",
       "      <td>Other Doctoral Degree</td>\n",
       "      <td>14</td>\n",
       "      <td>2.39</td>\n",
       "    </tr>\n",
       "    <tr>\n",
       "      <th>Professional Degree</th>\n",
       "      <td>Professional Degree</td>\n",
       "      <td>9</td>\n",
       "      <td>1.54</td>\n",
       "    </tr>\n",
       "  </tbody>\n",
       "</table>\n",
       "</div>"
      ],
      "text/plain": [
       "                                                                    Labels  \\\n",
       "Bachelor’s Degree                                        Bachelor’s Degree   \n",
       "Master's Degree                                            Master's Degree   \n",
       "Some College/University Study                Some College/University Study   \n",
       "Secondary School                                          Secondary School   \n",
       "Elementary school                                        Elementary school   \n",
       "Associate Degree                                          Associate Degree   \n",
       "Never Completed Any Formal Education  Never Completed Any Formal Education   \n",
       "Other Doctoral Degree                                Other Doctoral Degree   \n",
       "Professional Degree                                    Professional Degree   \n",
       "\n",
       "                                      Values  % of Respondents  \n",
       "Bachelor’s Degree                        259             44.20  \n",
       "Master's Degree                           90             15.36  \n",
       "Some College/University Study             85             14.51  \n",
       "Secondary School                          70             11.95  \n",
       "Elementary school                         24              4.10  \n",
       "Associate Degree                          20              3.41  \n",
       "Never Completed Any Formal Education      15              2.56  \n",
       "Other Doctoral Degree                     14              2.39  \n",
       "Professional Degree                        9              1.54  "
      ]
     },
     "execution_count": 10,
     "metadata": {},
     "output_type": "execute_result"
    }
   ],
   "source": [
    "FE_Other_df_temp = FE_Gender_df.loc[FE_Gender_df[\"Gender\"]==\"Other / Non-Disclosed\",:]\n",
    "FE_Other_df = FE_Other_df_temp.dropna()\n",
    "\n",
    "FE_Other_df_count = FE_Other_df['FormalEducation'].value_counts()\n",
    "Per_Other = round(((FE_Other_df_count/FE_Other_df_count.sum())*100),2)\n",
    "\n",
    "\n",
    "FE_Other_df = pd.DataFrame({'Labels' : FE_Other_df_count.index,\n",
    "                            'Values' : FE_Other_df_count.values,\n",
    "                            \"% of Respondents\" : Per_Other\n",
    "})\n",
    "\n",
    "plt.barh(FE_Other_df['Labels'],FE_Other_df['Values'], color='green', alpha=0.5, align=\"center\")\n",
    "plt.gca().invert_yaxis()\n",
    "plt.grid(alpha = 0.33)\n",
    "plt.title(\"Formal Education (Other)\")\n",
    "plt.xlabel(\"# of Respondents\")\n",
    "plt.tight_layout()\n",
    "plt.savefig(\"Images/Formal_Education_Other.png\")\n",
    "plt.show()\n",
    "\n",
    "print(f\"Total Formal Education responses: {FE_Other_df_count.sum()}\")\n",
    "FE_Other_df"
   ]
  },
  {
   "cell_type": "code",
   "execution_count": 11,
   "metadata": {},
   "outputs": [
    {
     "data": {
      "text/plain": [
       "<function matplotlib.pyplot.show(*args, **kw)>"
      ]
     },
     "execution_count": 11,
     "metadata": {},
     "output_type": "execute_result"
    },
    {
     "data": {
      "image/png": "[encoded data removed]",
      "text/plain": [
       "<Figure size 432x288 with 1 Axes>"
      ]
     },
     "metadata": {
      "needs_background": "light"
     },
     "output_type": "display_data"
    }
   ],
   "source": [
    "plt.barh(FE_Male_df['Labels'],FE_Male_df['Male_Values'])\n",
    "plt.barh(FE_Female_df['Labels'],FE_Female_df['Female_Values'],color=\"pink\")\n",
    "plt.barh(FE_Other_df['Labels'],FE_Other_df['Values'],color=\"green\")\n",
    "plt.grid(alpha = 0.33)\n",
    "plt.gca().invert_yaxis()\n",
    "plt.xticks(rotation=75)\n",
    "plt.title(\"Formal Education by Gender\")\n",
    "plt.xlabel(\"# of Respondents\")\n",
    "plt.savefig(\"Images/Formal_Education_by_gender_all.png\")\n",
    "plt.show"
   ]
  },
  {
   "cell_type": "code",
   "execution_count": 12,
   "metadata": {},
   "outputs": [],
   "source": [
    "# FE_pivot_df_temp = FE_Gender_df\n",
    "# FE_pivot_df = FE_pivot_df_temp.dropna()\n",
    "\n",
    "# FE_pivot_df2 = pd.DataFrame(np.random.rand(10, 2), columns=['FormalEducation', 'Gender'])\n",
    "\n",
    "# FE_pivot_df2.plot.bar();\n",
    "# plt.show()"
   ]
  },
  {
   "cell_type": "code",
   "execution_count": 13,
   "metadata": {},
   "outputs": [],
   "source": [
    "# FormalEducation_df = Education_df.groupby('FormalEducation')\n",
    "# FormalEducation_Count = FormalEducation_df['FormalEducation'].count()\n",
    "# FormalEducation_sum = FormalEducation_df[\"FormalEducation\"].sum()\n",
    "# Total_Responses = Education_df['FormalEducation'].count()\n",
    "\n",
    "# summary_table = pd.DataFrame({\"FormalEducation_Count\": (FormalEducation_Count)\n",
    "#                                                       })\n",
    "\n",
    "# summary_table\n",
    "# summary_table_reset = summary_table.reset_index()\n",
    "# summary_sorted = summary_table_reset.sort_values(\"FormalEducation_Count\", ascending = True)\n",
    "# summary_sorted"
   ]
  },
  {
   "cell_type": "code",
   "execution_count": 14,
   "metadata": {},
   "outputs": [],
   "source": [
    "\n",
    "# users = summary_sorted[\"FormalEducation_Count\"]\n",
    "# x_axis = summary_sorted[\"FormalEducation\"]\n",
    "# plt.barh(x_axis, users, color='blue', alpha=0.5, align=\"center\",)\n",
    "# #plt.xticks(rotation=90)\n",
    "# plt.title(\"Formal Education\")\n",
    "# plt.xlabel(\"# of Respondents\")\n",
    "# plt.grid(alpha = .25)\n",
    "# #plt.savefig(\"../Images/sin_cos_with_markers.png\")\n",
    "# #plt.ylabel(\"Number of People Using Programming Languages\")\n",
    "# plt.show()#\n",
    " \n",
    "\n",
    "# print(f\"Total Responses : {Total_Responses}\")\n"
   ]
  },
  {
   "cell_type": "markdown",
   "metadata": {},
   "source": [
    "# UnderGraduate_Majors"
   ]
  },
  {
   "cell_type": "code",
   "execution_count": 15,
   "metadata": {},
   "outputs": [
    {
     "data": {
      "text/plain": [
       "55173"
      ]
     },
     "execution_count": 15,
     "metadata": {},
     "output_type": "execute_result"
    }
   ],
   "source": [
    "Under_Gender_df_temp = Education_df.loc[:,[\"UndergradMajor\",\"Gender\",\"Respondent\"]]\n",
    "Under_Gender_df = Under_Gender_df_temp.dropna()\n",
    "Under_Gender_df[\"UndergradMajor\"].count()\n",
    "\n",
    "\n",
    "# Count_Gender= Under_Gender_df[\"Gender\"].value_counts()\n",
    "# Gender_df=pd.DataFrame(Count_Gender)\n",
    "# Tot= Count_Gender.sum()\n",
    "# Gender_df[\"Percentage Of Developers\"]=round(Count_Gender*100/Tot,2)\n",
    "# Gender_df\n",
    "\n"
   ]
  },
  {
   "cell_type": "code",
   "execution_count": 16,
   "metadata": {},
   "outputs": [
    {
     "data": {
      "image/png": "[encoded data removed]",
      "text/plain": [
       "<Figure size 432x288 with 1 Axes>"
      ]
     },
     "metadata": {
      "needs_background": "light"
     },
     "output_type": "display_data"
    },
    {
     "name": "stdout",
     "output_type": "stream",
     "text": [
      "Total Undergraduate Major responses: 79036\n"
     ]
    },
    {
     "data": {
      "text/html": [
       "<div>\n",
       "<style scoped>\n",
       "    .dataframe tbody tr th:only-of-type {\n",
       "        vertical-align: middle;\n",
       "    }\n",
       "\n",
       "    .dataframe tbody tr th {\n",
       "        vertical-align: top;\n",
       "    }\n",
       "\n",
       "    .dataframe thead th {\n",
       "        text-align: right;\n",
       "    }\n",
       "</style>\n",
       "<table border=\"1\" class=\"dataframe\">\n",
       "  <thead>\n",
       "    <tr style=\"text-align: right;\">\n",
       "      <th></th>\n",
       "      <th>Labels</th>\n",
       "      <th>Values</th>\n",
       "      <th>% of Respondents</th>\n",
       "    </tr>\n",
       "  </thead>\n",
       "  <tbody>\n",
       "    <tr>\n",
       "      <th>Computer Science/Computer Engineering</th>\n",
       "      <td>Computer Science/Computer Engineering</td>\n",
       "      <td>50336</td>\n",
       "      <td>63.69</td>\n",
       "    </tr>\n",
       "    <tr>\n",
       "      <th>Another Engineering Discipline</th>\n",
       "      <td>Another Engineering Discipline</td>\n",
       "      <td>6945</td>\n",
       "      <td>8.79</td>\n",
       "    </tr>\n",
       "    <tr>\n",
       "      <th>Information Systems/Information Technology</th>\n",
       "      <td>Information Systems/Information Technology</td>\n",
       "      <td>6507</td>\n",
       "      <td>8.23</td>\n",
       "    </tr>\n",
       "    <tr>\n",
       "      <th>Natural Science</th>\n",
       "      <td>Natural Science</td>\n",
       "      <td>3050</td>\n",
       "      <td>3.86</td>\n",
       "    </tr>\n",
       "    <tr>\n",
       "      <th>Mathematics or statistics</th>\n",
       "      <td>Mathematics or statistics</td>\n",
       "      <td>2818</td>\n",
       "      <td>3.57</td>\n",
       "    </tr>\n",
       "    <tr>\n",
       "      <th>Web development or web design</th>\n",
       "      <td>Web development or web design</td>\n",
       "      <td>2418</td>\n",
       "      <td>3.06</td>\n",
       "    </tr>\n",
       "    <tr>\n",
       "      <th>Business Discipline</th>\n",
       "      <td>Business Discipline</td>\n",
       "      <td>1921</td>\n",
       "      <td>2.43</td>\n",
       "    </tr>\n",
       "    <tr>\n",
       "      <th>Humanities Discipline</th>\n",
       "      <td>Humanities Discipline</td>\n",
       "      <td>1590</td>\n",
       "      <td>2.01</td>\n",
       "    </tr>\n",
       "    <tr>\n",
       "      <th>Social Science</th>\n",
       "      <td>Social Science</td>\n",
       "      <td>1377</td>\n",
       "      <td>1.74</td>\n",
       "    </tr>\n",
       "    <tr>\n",
       "      <th>Fine Arts/Performing Arts</th>\n",
       "      <td>Fine Arts/Performing Arts</td>\n",
       "      <td>1135</td>\n",
       "      <td>1.44</td>\n",
       "    </tr>\n",
       "    <tr>\n",
       "      <th>I never declared a major</th>\n",
       "      <td>I never declared a major</td>\n",
       "      <td>693</td>\n",
       "      <td>0.88</td>\n",
       "    </tr>\n",
       "    <tr>\n",
       "      <th>Health Science</th>\n",
       "      <td>Health Science</td>\n",
       "      <td>246</td>\n",
       "      <td>0.31</td>\n",
       "    </tr>\n",
       "  </tbody>\n",
       "</table>\n",
       "</div>"
      ],
      "text/plain": [
       "                                                                                Labels  \\\n",
       "Computer Science/Computer Engineering            Computer Science/Computer Engineering   \n",
       "Another Engineering Discipline                          Another Engineering Discipline   \n",
       "Information Systems/Information Technology  Information Systems/Information Technology   \n",
       "Natural Science                                                        Natural Science   \n",
       "Mathematics or statistics                                    Mathematics or statistics   \n",
       "Web development or web design                            Web development or web design   \n",
       "Business Discipline                                                Business Discipline   \n",
       "Humanities Discipline                                            Humanities Discipline   \n",
       "Social Science                                                          Social Science   \n",
       "Fine Arts/Performing Arts                                    Fine Arts/Performing Arts   \n",
       "I never declared a major                                      I never declared a major   \n",
       "Health Science                                                          Health Science   \n",
       "\n",
       "                                            Values  % of Respondents  \n",
       "Computer Science/Computer Engineering        50336             63.69  \n",
       "Another Engineering Discipline                6945              8.79  \n",
       "Information Systems/Information Technology    6507              8.23  \n",
       "Natural Science                               3050              3.86  \n",
       "Mathematics or statistics                     2818              3.57  \n",
       "Web development or web design                 2418              3.06  \n",
       "Business Discipline                           1921              2.43  \n",
       "Humanities Discipline                         1590              2.01  \n",
       "Social Science                                1377              1.74  \n",
       "Fine Arts/Performing Arts                     1135              1.44  \n",
       "I never declared a major                       693              0.88  \n",
       "Health Science                                 246              0.31  "
      ]
     },
     "execution_count": 16,
     "metadata": {},
     "output_type": "execute_result"
    }
   ],
   "source": [
    "UndergradMajor_temp = Education_df[['Respondent','UndergradMajor']]\n",
    "UndergradMajor = UndergradMajor_temp.dropna()\n",
    "\n",
    "UndergradMajor_count = UndergradMajor['UndergradMajor'].value_counts()\n",
    "Per_All = round(((UndergradMajor_count/UndergradMajor_count.sum())*100),2)\n",
    "\n",
    "UndergradMajor_df = pd.DataFrame({'Labels' : UndergradMajor_count.index,\n",
    "                            'Values' : UndergradMajor_count.values,\n",
    "                                  '% of Respondents' : Per_All\n",
    "})\n",
    "\n",
    "\n",
    "plt.barh(UndergradMajor_df['Labels'], UndergradMajor_df['Values'], color='green', alpha=0.5, align=\"center\")\n",
    "plt.gca().invert_yaxis()\n",
    "plt.grid(alpha = 0.33)\n",
    "plt.title(\"Undergraduate Majors\")\n",
    "plt.xlabel(\"# of Respondents\")\n",
    "plt.tight_layout()\n",
    "plt.savefig(\"Images/Undergraduate_Majors.png\")\n",
    "plt.show()\n",
    "\n",
    "print(f\"Total Undergraduate Major responses: {UndergradMajor_count.sum()}\")\n",
    "UndergradMajor_df"
   ]
  },
  {
   "cell_type": "code",
   "execution_count": 17,
   "metadata": {},
   "outputs": [
    {
     "data": {
      "image/png": "[encoded data removed]",
      "text/plain": [
       "<Figure size 432x288 with 1 Axes>"
      ]
     },
     "metadata": {
      "needs_background": "light"
     },
     "output_type": "display_data"
    },
    {
     "name": "stdout",
     "output_type": "stream",
     "text": [
      "Total Student Responses: 94901\n"
     ]
    },
    {
     "data": {
      "text/html": [
       "<div>\n",
       "<style scoped>\n",
       "    .dataframe tbody tr th:only-of-type {\n",
       "        vertical-align: middle;\n",
       "    }\n",
       "\n",
       "    .dataframe tbody tr th {\n",
       "        vertical-align: top;\n",
       "    }\n",
       "\n",
       "    .dataframe thead th {\n",
       "        text-align: right;\n",
       "    }\n",
       "</style>\n",
       "<table border=\"1\" class=\"dataframe\">\n",
       "  <thead>\n",
       "    <tr style=\"text-align: right;\">\n",
       "      <th></th>\n",
       "      <th>Labels</th>\n",
       "      <th>Values</th>\n",
       "      <th>% of Respondents</th>\n",
       "    </tr>\n",
       "  </thead>\n",
       "  <tbody>\n",
       "    <tr>\n",
       "      <th>No</th>\n",
       "      <td>No</td>\n",
       "      <td>70399</td>\n",
       "      <td>74.18</td>\n",
       "    </tr>\n",
       "    <tr>\n",
       "      <th>Yes, full-time</th>\n",
       "      <td>Yes, full-time</td>\n",
       "      <td>18394</td>\n",
       "      <td>19.38</td>\n",
       "    </tr>\n",
       "    <tr>\n",
       "      <th>Yes, part-time</th>\n",
       "      <td>Yes, part-time</td>\n",
       "      <td>6108</td>\n",
       "      <td>6.44</td>\n",
       "    </tr>\n",
       "  </tbody>\n",
       "</table>\n",
       "</div>"
      ],
      "text/plain": [
       "                        Labels  Values  % of Respondents\n",
       "No                          No   70399             74.18\n",
       "Yes, full-time  Yes, full-time   18394             19.38\n",
       "Yes, part-time  Yes, part-time    6108              6.44"
      ]
     },
     "execution_count": 17,
     "metadata": {},
     "output_type": "execute_result"
    }
   ],
   "source": [
    "student_temp = Education_df[['Respondent','Student']]\n",
    "student = student_temp.dropna()\n",
    "\n",
    "student_count = student['Student'].value_counts()\n",
    "Student_Per = round(((student_count/student_count.sum())*100),2)\n",
    "\n",
    "student_df = pd.DataFrame({'Labels' : student_count.index,\n",
    "                            'Values' : student_count.values,\n",
    "                           \"% of Respondents\" : Student_Per\n",
    "})\n",
    "\n",
    "\n",
    "plt.bar(student_df['Labels'], student_df['Values'], color='blue', alpha=0.5, align=\"center\")\n",
    "plt.grid(alpha = 0.33)\n",
    "plt.title(\"Students\")\n",
    "plt.xlabel(\"# of Respondents\")\n",
    "plt.tight_layout()\n",
    "plt.savefig(\"Images/Students.png\")\n",
    "plt.show()\n",
    "\n",
    "print(f\"Total Student Responses: {student_count.sum()}\")\n",
    "student_df"
   ]
  },
  {
   "cell_type": "code",
   "execution_count": 28,
   "metadata": {},
   "outputs": [
    {
     "data": {
      "text/plain": [
       "<function matplotlib.pyplot.show(*args, **kw)>"
      ]
     },
     "execution_count": 28,
     "metadata": {},
     "output_type": "execute_result"
    },
    {
     "data": {
      "image/png": "[encoded data removed]",
      "text/plain": [
       "<Figure size 432x288 with 1 Axes>"
      ]
     },
     "metadata": {},
     "output_type": "display_data"
    }
   ],
   "source": [
    "Hobby_Yes_df = Education_df.loc[Education_df[\"Hobby\"] == \"Yes\", :]\n",
    "Hobby_No_df = Education_df.loc[Education_df[\"Hobby\"] == \"No\", :]\n",
    "No_count = Hobby_No_df['Hobby'].count()\n",
    "Yes_count = Hobby_Yes_df['Hobby'].count()\n",
    "\n",
    "labels = [\"Yes\", \"No\"]\n",
    "\n",
    "# The values of each section of the pie chart\n",
    "sizes = [Yes_count, No_count]\n",
    "\n",
    "# The colors of each section of the pie chart\n",
    "colors = [\"plum\", \"m\"]\n",
    "\n",
    "\n",
    "plt.pie(sizes, labels=labels, colors=colors,  autopct=\"%1.1f%%\", shadow=True, startangle=270, )\n",
    "plt.title(\"% of Developers that Code as a Hobby\")\n",
    "\n",
    "# Save Figure\n",
    "plt.savefig(\"Images/Hobby_Percentage.png\")\n",
    "plt.show\n",
    "\n"
   ]
  },
  {
   "cell_type": "code",
   "execution_count": 81,
   "metadata": {
    "scrolled": true
   },
   "outputs": [
    {
     "data": {
      "image/png": "[encoded data removed]",
      "text/plain": [
       "<Figure size 432x288 with 1 Axes>"
      ]
     },
     "metadata": {
      "needs_background": "light"
     },
     "output_type": "display_data"
    },
    {
     "name": "stdout",
     "output_type": "stream",
     "text": [
      "Total Employment Responses: 95321\n"
     ]
    },
    {
     "data": {
      "text/html": [
       "<div>\n",
       "<style scoped>\n",
       "    .dataframe tbody tr th:only-of-type {\n",
       "        vertical-align: middle;\n",
       "    }\n",
       "\n",
       "    .dataframe tbody tr th {\n",
       "        vertical-align: top;\n",
       "    }\n",
       "\n",
       "    .dataframe thead th {\n",
       "        text-align: right;\n",
       "    }\n",
       "</style>\n",
       "<table border=\"1\" class=\"dataframe\">\n",
       "  <thead>\n",
       "    <tr style=\"text-align: right;\">\n",
       "      <th></th>\n",
       "      <th>Labels</th>\n",
       "      <th>Values</th>\n",
       "      <th>% of Respondents</th>\n",
       "    </tr>\n",
       "  </thead>\n",
       "  <tbody>\n",
       "    <tr>\n",
       "      <th>Employed full-time</th>\n",
       "      <td>Employed full-time</td>\n",
       "      <td>70495</td>\n",
       "      <td>73.96</td>\n",
       "    </tr>\n",
       "    <tr>\n",
       "      <th>Independent contractor, freelancer, or self-employed</th>\n",
       "      <td>Independent contractor, freelancer, or self-em...</td>\n",
       "      <td>9282</td>\n",
       "      <td>9.74</td>\n",
       "    </tr>\n",
       "    <tr>\n",
       "      <th>Not employed, but looking for work</th>\n",
       "      <td>Not employed, but looking for work</td>\n",
       "      <td>5805</td>\n",
       "      <td>6.09</td>\n",
       "    </tr>\n",
       "    <tr>\n",
       "      <th>Employed part-time</th>\n",
       "      <td>Employed part-time</td>\n",
       "      <td>5380</td>\n",
       "      <td>5.64</td>\n",
       "    </tr>\n",
       "    <tr>\n",
       "      <th>Not employed, and not looking for work</th>\n",
       "      <td>Not employed, and not looking for work</td>\n",
       "      <td>4132</td>\n",
       "      <td>4.33</td>\n",
       "    </tr>\n",
       "    <tr>\n",
       "      <th>Retired</th>\n",
       "      <td>Retired</td>\n",
       "      <td>227</td>\n",
       "      <td>0.24</td>\n",
       "    </tr>\n",
       "  </tbody>\n",
       "</table>\n",
       "</div>"
      ],
      "text/plain": [
       "                                                                                               Labels  \\\n",
       "Employed full-time                                                                 Employed full-time   \n",
       "Independent contractor, freelancer, or self-emp...  Independent contractor, freelancer, or self-em...   \n",
       "Not employed, but looking for work                                 Not employed, but looking for work   \n",
       "Employed part-time                                                                 Employed part-time   \n",
       "Not employed, and not looking for work                         Not employed, and not looking for work   \n",
       "Retired                                                                                       Retired   \n",
       "\n",
       "                                                    Values  % of Respondents  \n",
       "Employed full-time                                   70495             73.96  \n",
       "Independent contractor, freelancer, or self-emp...    9282              9.74  \n",
       "Not employed, but looking for work                    5805              6.09  \n",
       "Employed part-time                                    5380              5.64  \n",
       "Not employed, and not looking for work                4132              4.33  \n",
       "Retired                                                227              0.24  "
      ]
     },
     "execution_count": 81,
     "metadata": {},
     "output_type": "execute_result"
    }
   ],
   "source": [
    "Employment_temp = Education_df[['Respondent','Employment']]\n",
    "Employment = Employment_temp.dropna()\n",
    "\n",
    "Employment_count = Employment['Employment'].value_counts()\n",
    "Employment_Per = round(((Employment_count/Employment_count.sum())*100),2)\n",
    "\n",
    "Employment_df = pd.DataFrame({'Labels' : Employment_count.index,\n",
    "                            'Values' : Employment_count.values,\n",
    "                              '% of Respondents' : Employment_Per\n",
    "})\n",
    "\n",
    "\n",
    "plt.barh(Employment_df['Labels'], Employment_df['Values'], color='forestgreen', alpha=0.5,align=\"center\")\n",
    "plt.grid(alpha = 0.33)\n",
    "plt.title(\"Employment\")\n",
    "plt.xticks(rotation=90)\n",
    "plt.xlabel(\"# of Respondents\")\n",
    "plt.tight_layout()\n",
    "plt.savefig(\"Images/Employment.png\")\n",
    "plt.show()\n",
    "\n",
    "print(f\"Total Employment Responses: {Employment_count.sum()}\")\n",
    "Employment_df"
   ]
  },
  {
   "cell_type": "code",
   "execution_count": 18,
   "metadata": {},
   "outputs": [
    {
     "name": "stderr",
     "output_type": "stream",
     "text": [
      "/Users/marylugranja/anaconda3/lib/python3.7/site-packages/matplotlib/tight_layout.py:176: UserWarning: Tight layout not applied. The left and right margins cannot be made large enough to accommodate all axes decorations. \n",
      "  warnings.warn('Tight layout not applied. The left and right margins '\n"
     ]
    },
    {
     "data": {
      "image/png": "[encoded data removed]",
      "text/plain": [
       "<Figure size 432x288 with 1 Axes>"
      ]
     },
     "metadata": {
      "needs_background": "light"
     },
     "output_type": "display_data"
    },
    {
     "name": "stdout",
     "output_type": "stream",
     "text": [
      "Total Hope Five Years Responses: 75718\n"
     ]
    },
    {
     "data": {
      "text/html": [
       "<div>\n",
       "<style scoped>\n",
       "    .dataframe tbody tr th:only-of-type {\n",
       "        vertical-align: middle;\n",
       "    }\n",
       "\n",
       "    .dataframe tbody tr th {\n",
       "        vertical-align: top;\n",
       "    }\n",
       "\n",
       "    .dataframe thead th {\n",
       "        text-align: right;\n",
       "    }\n",
       "</style>\n",
       "<table border=\"1\" class=\"dataframe\">\n",
       "  <thead>\n",
       "    <tr style=\"text-align: right;\">\n",
       "      <th></th>\n",
       "      <th>Labels</th>\n",
       "      <th>Values</th>\n",
       "    </tr>\n",
       "  </thead>\n",
       "  <tbody>\n",
       "    <tr>\n",
       "      <th>0</th>\n",
       "      <td>Working in a different or more specialized tec...</td>\n",
       "      <td>25643</td>\n",
       "    </tr>\n",
       "    <tr>\n",
       "      <th>1</th>\n",
       "      <td>Working as a founder or co-founder of my own c...</td>\n",
       "      <td>19444</td>\n",
       "    </tr>\n",
       "    <tr>\n",
       "      <th>2</th>\n",
       "      <td>Doing the same work</td>\n",
       "      <td>14724</td>\n",
       "    </tr>\n",
       "    <tr>\n",
       "      <th>3</th>\n",
       "      <td>Working as an engineering manager or other fun...</td>\n",
       "      <td>7483</td>\n",
       "    </tr>\n",
       "    <tr>\n",
       "      <th>4</th>\n",
       "      <td>Working as a product manager or project manager</td>\n",
       "      <td>5004</td>\n",
       "    </tr>\n",
       "    <tr>\n",
       "      <th>5</th>\n",
       "      <td>Working in a career completely unrelated to so...</td>\n",
       "      <td>2151</td>\n",
       "    </tr>\n",
       "    <tr>\n",
       "      <th>6</th>\n",
       "      <td>Retirement</td>\n",
       "      <td>1269</td>\n",
       "    </tr>\n",
       "  </tbody>\n",
       "</table>\n",
       "</div>"
      ],
      "text/plain": [
       "                                              Labels  Values\n",
       "0  Working in a different or more specialized tec...   25643\n",
       "1  Working as a founder or co-founder of my own c...   19444\n",
       "2                                Doing the same work   14724\n",
       "3  Working as an engineering manager or other fun...    7483\n",
       "4    Working as a product manager or project manager    5004\n",
       "5  Working in a career completely unrelated to so...    2151\n",
       "6                                         Retirement    1269"
      ]
     },
     "execution_count": 18,
     "metadata": {},
     "output_type": "execute_result"
    }
   ],
   "source": [
    "HopeFiveYears_temp = Education_df[['Respondent','HopeFiveYears']]\n",
    "HopeFiveYears = HopeFiveYears_temp.dropna()\n",
    "\n",
    "HopeFiveYears_count = HopeFiveYears['HopeFiveYears'].value_counts()\n",
    "\n",
    "\n",
    "HopeFiveYears_df = pd.DataFrame({'Labels' : HopeFiveYears_count.index,\n",
    "                            'Values' : HopeFiveYears_count.values   \n",
    "})\n",
    "\n",
    "\n",
    "plt.barh(HopeFiveYears_df['Labels'], HopeFiveYears_df['Values'], color='orchid', alpha=0.5, align=\"center\")\n",
    "plt.grid(alpha = 0.33)\n",
    "plt.title(\"Hope Five Years\")\n",
    "plt.xlabel(\"# of Respondents\")\n",
    "plt.tight_layout()\n",
    "plt.savefig(\"Images/Hope_Five_Years.png\")\n",
    "\n",
    "plt.show()\n",
    "\n",
    "print(f\"Total Hope Five Years Responses: {HopeFiveYears_count.sum()}\")\n",
    "HopeFiveYears_df"
   ]
  },
  {
   "cell_type": "markdown",
   "metadata": {},
   "source": [
    "# Career Satisfaction"
   ]
  },
  {
   "cell_type": "code",
   "execution_count": 60,
   "metadata": {},
   "outputs": [
    {
     "data": {
      "image/png": "[encoded data removed]",
      "text/plain": [
       "<Figure size 432x288 with 1 Axes>"
      ]
     },
     "metadata": {
      "needs_background": "light"
     },
     "output_type": "display_data"
    },
    {
     "name": "stdout",
     "output_type": "stream",
     "text": [
      "Total Career Satisfaction Responses: 76504\n"
     ]
    },
    {
     "data": {
      "text/html": [
       "<div>\n",
       "<style scoped>\n",
       "    .dataframe tbody tr th:only-of-type {\n",
       "        vertical-align: middle;\n",
       "    }\n",
       "\n",
       "    .dataframe tbody tr th {\n",
       "        vertical-align: top;\n",
       "    }\n",
       "\n",
       "    .dataframe thead th {\n",
       "        text-align: right;\n",
       "    }\n",
       "</style>\n",
       "<table border=\"1\" class=\"dataframe\">\n",
       "  <thead>\n",
       "    <tr style=\"text-align: right;\">\n",
       "      <th></th>\n",
       "      <th>Labels</th>\n",
       "      <th>Values</th>\n",
       "      <th>% of Respondents</th>\n",
       "    </tr>\n",
       "  </thead>\n",
       "  <tbody>\n",
       "    <tr>\n",
       "      <th>Moderately satisfied</th>\n",
       "      <td>Moderately satisfied</td>\n",
       "      <td>27926</td>\n",
       "      <td>36.50</td>\n",
       "    </tr>\n",
       "    <tr>\n",
       "      <th>Extremely satisfied</th>\n",
       "      <td>Extremely satisfied</td>\n",
       "      <td>14316</td>\n",
       "      <td>18.71</td>\n",
       "    </tr>\n",
       "    <tr>\n",
       "      <th>Slightly satisfied</th>\n",
       "      <td>Slightly satisfied</td>\n",
       "      <td>13484</td>\n",
       "      <td>17.63</td>\n",
       "    </tr>\n",
       "    <tr>\n",
       "      <th>Slightly dissatisfied</th>\n",
       "      <td>Slightly dissatisfied</td>\n",
       "      <td>6587</td>\n",
       "      <td>8.61</td>\n",
       "    </tr>\n",
       "    <tr>\n",
       "      <th>Neither satisfied nor dissatisfied</th>\n",
       "      <td>Neither satisfied nor dissatisfied</td>\n",
       "      <td>6316</td>\n",
       "      <td>8.26</td>\n",
       "    </tr>\n",
       "    <tr>\n",
       "      <th>Moderately dissatisfied</th>\n",
       "      <td>Moderately dissatisfied</td>\n",
       "      <td>5262</td>\n",
       "      <td>6.88</td>\n",
       "    </tr>\n",
       "    <tr>\n",
       "      <th>Extremely dissatisfied</th>\n",
       "      <td>Extremely dissatisfied</td>\n",
       "      <td>2613</td>\n",
       "      <td>3.42</td>\n",
       "    </tr>\n",
       "  </tbody>\n",
       "</table>\n",
       "</div>"
      ],
      "text/plain": [
       "                                                                Labels  \\\n",
       "Moderately satisfied                              Moderately satisfied   \n",
       "Extremely satisfied                                Extremely satisfied   \n",
       "Slightly satisfied                                  Slightly satisfied   \n",
       "Slightly dissatisfied                            Slightly dissatisfied   \n",
       "Neither satisfied nor dissatisfied  Neither satisfied nor dissatisfied   \n",
       "Moderately dissatisfied                        Moderately dissatisfied   \n",
       "Extremely dissatisfied                          Extremely dissatisfied   \n",
       "\n",
       "                                    Values  % of Respondents  \n",
       "Moderately satisfied                 27926             36.50  \n",
       "Extremely satisfied                  14316             18.71  \n",
       "Slightly satisfied                   13484             17.63  \n",
       "Slightly dissatisfied                 6587              8.61  \n",
       "Neither satisfied nor dissatisfied    6316              8.26  \n",
       "Moderately dissatisfied               5262              6.88  \n",
       "Extremely dissatisfied                2613              3.42  "
      ]
     },
     "execution_count": 60,
     "metadata": {},
     "output_type": "execute_result"
    }
   ],
   "source": [
    "CareerSat_temp = Education_df[['Respondent','CareerSatisfaction']]\n",
    "CareerSat = CareerSat_temp.dropna()\n",
    "\n",
    "CareerSat_count = CareerSat['CareerSatisfaction'].value_counts()\n",
    "CareerSat_Per = round(((CareerSat_count/CareerSat_count.sum())*100),2)\n",
    "\n",
    "CareerSat_df = pd.DataFrame({'Labels' : CareerSat_count.index,\n",
    "                            'Values' : CareerSat_count.values,\n",
    "                             '% of Respondents' : CareerSat_Per\n",
    "})\n",
    "\n",
    "\n",
    "plt.barh(CareerSat_df['Labels'], CareerSat_df['Values'], color='navy', alpha=0.5, align=\"center\")\n",
    "plt.grid(alpha = 0.33)\n",
    "plt.title(\"Career Satisfaction\")\n",
    "plt.xlabel(\"# of Respondents\")\n",
    "plt.xticks(rotation=90)\n",
    "plt.tight_layout()\n",
    "plt.savefig(\"Images/Career_Satisfaction.png\")\n",
    "plt.show()\n",
    "\n",
    "print(f\"Total Career Satisfaction Responses: {CareerSat_count.sum()}\")\n",
    "CareerSat_df"
   ]
  },
  {
   "cell_type": "code",
   "execution_count": 61,
   "metadata": {},
   "outputs": [],
   "source": [
    "CareerSatisfaction_df = Education_df\n",
    "CareerSatisfaction_df[\"Ratings\"] = \"\"\n",
    "CareerSatisfaction_df[\"Hobby_convert\"] = \"\"\n",
    "\n",
    "\n",
    "def label_rating (row):\n",
    "      if row[\"CareerSatisfaction\"] == \"Extremely dissatisfied\":\n",
    "        return 1\n",
    "      if row[\"CareerSatisfaction\"] == \"Extremely satisfied\":\n",
    "        return 7\n",
    "      if row[\"CareerSatisfaction\"] == \"Moderately dissatisfied\":\n",
    "        return 2\n",
    "      if row[\"CareerSatisfaction\"] == \"Moderately satisfied\":\n",
    "        return 6\n",
    "      if row[\"CareerSatisfaction\"] == \"Neither satisfied nor dissatisfied\":\n",
    "        return 3\n",
    "      if row[\"CareerSatisfaction\"] == \"Slightly dissatisfied\":\n",
    "        return 4\n",
    "      if row[\"CareerSatisfaction\"] == \"Slightly satisfied\":\n",
    "        return 5\n",
    "      return 0\n",
    "\n",
    "CareerSatisfaction_df[\"Ratings\"] = CareerSatisfaction_df.apply(lambda row: label_rating(row), axis=1)\n",
    "\n",
    "def label_hobby (row):\n",
    "      if row[\"Hobby\"] == \"Yes\":\n",
    "        return 1\n",
    "      if row[\"Hobby\"] == \"No\":\n",
    "        return 2\n",
    "      return 0\n",
    "    \n",
    "CareerSatisfaction_df[\"Hobby_convert\"] = CareerSatisfaction_df.apply(lambda row: label_hobby(row), axis=1)    \n",
    "\n",
    "CareerSatisfaction_clean_temp = CareerSatisfaction_df\n",
    "CareerSatisfaction_clean = CareerSatisfaction_clean_temp.dropna(subset=['CareerSatisfaction'], how='all')\n"
   ]
  },
  {
   "cell_type": "code",
   "execution_count": 62,
   "metadata": {},
   "outputs": [],
   "source": [
    "CS_Anova_df = CareerSatisfaction_clean[['Respondent','Ratings', 'Hobby_convert']]\n"
   ]
  },
  {
   "cell_type": "code",
   "execution_count": 63,
   "metadata": {},
   "outputs": [
    {
     "data": {
      "text/plain": [
       "6    27926\n",
       "7    14316\n",
       "5    13484\n",
       "4     6587\n",
       "3     6316\n",
       "2     5262\n",
       "1     2613\n",
       "Name: Ratings, dtype: int64"
      ]
     },
     "execution_count": 63,
     "metadata": {},
     "output_type": "execute_result"
    }
   ],
   "source": [
    "CS_group = CS_Anova_df[\"Ratings\"].value_counts()\n",
    "CS_group"
   ]
  },
  {
   "cell_type": "code",
   "execution_count": 64,
   "metadata": {
    "scrolled": true
   },
   "outputs": [
    {
     "data": {
      "text/plain": [
       "F_onewayResult(statistic=154.62562425799004, pvalue=1.8294933058496393e-35)"
      ]
     },
     "execution_count": 64,
     "metadata": {},
     "output_type": "execute_result"
    }
   ],
   "source": [
    "group1 = CS_Anova_df[CS_Anova_df[\"Hobby_convert\"] == 1][\"Ratings\"]\n",
    "group2 = CS_Anova_df[CS_Anova_df[\"Hobby_convert\"] == 2][\"Ratings\"]\n",
    "\n",
    "\n",
    "stats.f_oneway(group1, group2)"
   ]
  },
  {
   "cell_type": "code",
   "execution_count": 65,
   "metadata": {},
   "outputs": [
    {
     "data": {
      "image/png": "[encoded data removed]",
      "text/plain": [
       "<Figure size 1440x720 with 1 Axes>"
      ]
     },
     "metadata": {
      "needs_background": "light"
     },
     "output_type": "display_data"
    }
   ],
   "source": [
    "CS_Anova_df.boxplot(\"Ratings\", by=\"Hobby_convert\", figsize=(20, 10))\n",
    "plt.savefig(\"Images/Hobby_CSat.png\")"
   ]
  },
  {
   "cell_type": "markdown",
   "metadata": {},
   "source": [
    "# Career Satisfaction by Gender"
   ]
  },
  {
   "cell_type": "code",
   "execution_count": 66,
   "metadata": {},
   "outputs": [
    {
     "data": {
      "text/html": [
       "<div>\n",
       "<style scoped>\n",
       "    .dataframe tbody tr th:only-of-type {\n",
       "        vertical-align: middle;\n",
       "    }\n",
       "\n",
       "    .dataframe tbody tr th {\n",
       "        vertical-align: top;\n",
       "    }\n",
       "\n",
       "    .dataframe thead th {\n",
       "        text-align: right;\n",
       "    }\n",
       "</style>\n",
       "<table border=\"1\" class=\"dataframe\">\n",
       "  <thead>\n",
       "    <tr style=\"text-align: right;\">\n",
       "      <th></th>\n",
       "      <th>CareerSatisfaction</th>\n",
       "      <th>Percentage Of Developers</th>\n",
       "    </tr>\n",
       "  </thead>\n",
       "  <tbody>\n",
       "    <tr>\n",
       "      <th>Moderately satisfied</th>\n",
       "      <td>22617</td>\n",
       "      <td>37.39</td>\n",
       "    </tr>\n",
       "    <tr>\n",
       "      <th>Extremely satisfied</th>\n",
       "      <td>11513</td>\n",
       "      <td>19.03</td>\n",
       "    </tr>\n",
       "    <tr>\n",
       "      <th>Slightly satisfied</th>\n",
       "      <td>10612</td>\n",
       "      <td>17.54</td>\n",
       "    </tr>\n",
       "    <tr>\n",
       "      <th>Slightly dissatisfied</th>\n",
       "      <td>5150</td>\n",
       "      <td>8.51</td>\n",
       "    </tr>\n",
       "    <tr>\n",
       "      <th>Neither satisfied nor dissatisfied</th>\n",
       "      <td>4655</td>\n",
       "      <td>7.70</td>\n",
       "    </tr>\n",
       "    <tr>\n",
       "      <th>Moderately dissatisfied</th>\n",
       "      <td>4037</td>\n",
       "      <td>6.67</td>\n",
       "    </tr>\n",
       "    <tr>\n",
       "      <th>Extremely dissatisfied</th>\n",
       "      <td>1902</td>\n",
       "      <td>3.14</td>\n",
       "    </tr>\n",
       "  </tbody>\n",
       "</table>\n",
       "</div>"
      ],
      "text/plain": [
       "                                    CareerSatisfaction  \\\n",
       "Moderately satisfied                             22617   \n",
       "Extremely satisfied                              11513   \n",
       "Slightly satisfied                               10612   \n",
       "Slightly dissatisfied                             5150   \n",
       "Neither satisfied nor dissatisfied                4655   \n",
       "Moderately dissatisfied                           4037   \n",
       "Extremely dissatisfied                            1902   \n",
       "\n",
       "                                    Percentage Of Developers  \n",
       "Moderately satisfied                                   37.39  \n",
       "Extremely satisfied                                    19.03  \n",
       "Slightly satisfied                                     17.54  \n",
       "Slightly dissatisfied                                   8.51  \n",
       "Neither satisfied nor dissatisfied                      7.70  \n",
       "Moderately dissatisfied                                 6.67  \n",
       "Extremely dissatisfied                                  3.14  "
      ]
     },
     "execution_count": 66,
     "metadata": {},
     "output_type": "execute_result"
    }
   ],
   "source": [
    "CS_Gender_df_temp = Education_df.loc[:,[\"CareerSatisfaction\",\"Gender\",\"Respondent\"]]\n",
    "CS_Gender_df = CS_Gender_df_temp.dropna()\n",
    "CS_Gender_df[\"CareerSatisfaction\"].count()\n",
    "\n",
    "\n",
    "Count_Gender= CS_Gender_df[\"CareerSatisfaction\"].value_counts()\n",
    "Gender_df=pd.DataFrame(Count_Gender)\n",
    "Tot= Count_Gender.sum()\n",
    "Gender_df[\"Percentage Of Developers\"]=round(Count_Gender*100/Tot,2)\n",
    "Gender_df"
   ]
  },
  {
   "cell_type": "code",
   "execution_count": 67,
   "metadata": {},
   "outputs": [
    {
     "data": {
      "image/png": "[encoded data removed]",
      "text/plain": [
       "<Figure size 432x288 with 1 Axes>"
      ]
     },
     "metadata": {
      "needs_background": "light"
     },
     "output_type": "display_data"
    },
    {
     "name": "stdout",
     "output_type": "stream",
     "text": [
      "Total Career Satisfaction responses: 3866\n"
     ]
    },
    {
     "data": {
      "text/html": [
       "<div>\n",
       "<style scoped>\n",
       "    .dataframe tbody tr th:only-of-type {\n",
       "        vertical-align: middle;\n",
       "    }\n",
       "\n",
       "    .dataframe tbody tr th {\n",
       "        vertical-align: top;\n",
       "    }\n",
       "\n",
       "    .dataframe thead th {\n",
       "        text-align: right;\n",
       "    }\n",
       "</style>\n",
       "<table border=\"1\" class=\"dataframe\">\n",
       "  <thead>\n",
       "    <tr style=\"text-align: right;\">\n",
       "      <th></th>\n",
       "      <th>Labels</th>\n",
       "      <th>Values</th>\n",
       "      <th>% of Respondents</th>\n",
       "    </tr>\n",
       "  </thead>\n",
       "  <tbody>\n",
       "    <tr>\n",
       "      <th>Moderately satisfied</th>\n",
       "      <td>Moderately satisfied</td>\n",
       "      <td>1423</td>\n",
       "      <td>36.81</td>\n",
       "    </tr>\n",
       "    <tr>\n",
       "      <th>Extremely satisfied</th>\n",
       "      <td>Extremely satisfied</td>\n",
       "      <td>722</td>\n",
       "      <td>18.68</td>\n",
       "    </tr>\n",
       "    <tr>\n",
       "      <th>Slightly satisfied</th>\n",
       "      <td>Slightly satisfied</td>\n",
       "      <td>651</td>\n",
       "      <td>16.84</td>\n",
       "    </tr>\n",
       "    <tr>\n",
       "      <th>Slightly dissatisfied</th>\n",
       "      <td>Slightly dissatisfied</td>\n",
       "      <td>335</td>\n",
       "      <td>8.67</td>\n",
       "    </tr>\n",
       "    <tr>\n",
       "      <th>Neither satisfied nor dissatisfied</th>\n",
       "      <td>Neither satisfied nor dissatisfied</td>\n",
       "      <td>320</td>\n",
       "      <td>8.28</td>\n",
       "    </tr>\n",
       "    <tr>\n",
       "      <th>Moderately dissatisfied</th>\n",
       "      <td>Moderately dissatisfied</td>\n",
       "      <td>281</td>\n",
       "      <td>7.27</td>\n",
       "    </tr>\n",
       "    <tr>\n",
       "      <th>Extremely dissatisfied</th>\n",
       "      <td>Extremely dissatisfied</td>\n",
       "      <td>134</td>\n",
       "      <td>3.47</td>\n",
       "    </tr>\n",
       "  </tbody>\n",
       "</table>\n",
       "</div>"
      ],
      "text/plain": [
       "                                                                Labels  \\\n",
       "Moderately satisfied                              Moderately satisfied   \n",
       "Extremely satisfied                                Extremely satisfied   \n",
       "Slightly satisfied                                  Slightly satisfied   \n",
       "Slightly dissatisfied                            Slightly dissatisfied   \n",
       "Neither satisfied nor dissatisfied  Neither satisfied nor dissatisfied   \n",
       "Moderately dissatisfied                        Moderately dissatisfied   \n",
       "Extremely dissatisfied                          Extremely dissatisfied   \n",
       "\n",
       "                                    Values  % of Respondents  \n",
       "Moderately satisfied                  1423             36.81  \n",
       "Extremely satisfied                    722             18.68  \n",
       "Slightly satisfied                     651             16.84  \n",
       "Slightly dissatisfied                  335              8.67  \n",
       "Neither satisfied nor dissatisfied     320              8.28  \n",
       "Moderately dissatisfied                281              7.27  \n",
       "Extremely dissatisfied                 134              3.47  "
      ]
     },
     "execution_count": 67,
     "metadata": {},
     "output_type": "execute_result"
    }
   ],
   "source": [
    "CS_Female_df_temp = CS_Gender_df.loc[CS_Gender_df[\"Gender\"]==\"Female\",:]\n",
    "CS_Female_df = CS_Female_df_temp.dropna()\n",
    "\n",
    "CS_Female_df_count = CS_Female_df['CareerSatisfaction'].value_counts()\n",
    "CS_Per_Female = round(((CS_Female_df_count/CS_Female_df_count.sum())*100),2)\n",
    "\n",
    "CS_Female_df = pd.DataFrame({'Labels' : CS_Female_df_count.index,\n",
    "                            'Values' : CS_Female_df_count.values,\n",
    "                             \"% of Respondents\" : CS_Per_Female\n",
    "})\n",
    "\n",
    "plt.barh(CS_Female_df['Labels'],CS_Female_df['Values'], color='hotpink', alpha=0.5, align=\"center\")\n",
    "plt.gca().invert_yaxis()\n",
    "plt.grid(alpha = 0.33)\n",
    "plt.title(\"Career Satisfaction (Female)\")\n",
    "plt.xlabel(\"# of Respondents\")\n",
    "plt.tight_layout()\n",
    "plt.savefig(\"Images/CareerSatisfaction_Female.png\")\n",
    "plt.show()\n",
    "\n",
    "print(f\"Total Career Satisfaction responses: {CS_Female_df_count.sum()}\")\n",
    "\n",
    "\n",
    "CS_Female_df\n"
   ]
  },
  {
   "cell_type": "code",
   "execution_count": 75,
   "metadata": {},
   "outputs": [
    {
     "data": {
      "image/png": "[encoded data removed]",
      "text/plain": [
       "<Figure size 432x288 with 1 Axes>"
      ]
     },
     "metadata": {
      "needs_background": "light"
     },
     "output_type": "display_data"
    },
    {
     "name": "stdout",
     "output_type": "stream",
     "text": [
      "Total Career Satifaction responses: 56072\n"
     ]
    },
    {
     "data": {
      "text/html": [
       "<div>\n",
       "<style scoped>\n",
       "    .dataframe tbody tr th:only-of-type {\n",
       "        vertical-align: middle;\n",
       "    }\n",
       "\n",
       "    .dataframe tbody tr th {\n",
       "        vertical-align: top;\n",
       "    }\n",
       "\n",
       "    .dataframe thead th {\n",
       "        text-align: right;\n",
       "    }\n",
       "</style>\n",
       "<table border=\"1\" class=\"dataframe\">\n",
       "  <thead>\n",
       "    <tr style=\"text-align: right;\">\n",
       "      <th></th>\n",
       "      <th>Labels</th>\n",
       "      <th>Values</th>\n",
       "      <th>% of Respondents</th>\n",
       "    </tr>\n",
       "  </thead>\n",
       "  <tbody>\n",
       "    <tr>\n",
       "      <th>Moderately satisfied</th>\n",
       "      <td>Moderately satisfied</td>\n",
       "      <td>21035</td>\n",
       "      <td>37.51</td>\n",
       "    </tr>\n",
       "    <tr>\n",
       "      <th>Extremely satisfied</th>\n",
       "      <td>Extremely satisfied</td>\n",
       "      <td>10690</td>\n",
       "      <td>19.06</td>\n",
       "    </tr>\n",
       "    <tr>\n",
       "      <th>Slightly satisfied</th>\n",
       "      <td>Slightly satisfied</td>\n",
       "      <td>9867</td>\n",
       "      <td>17.60</td>\n",
       "    </tr>\n",
       "    <tr>\n",
       "      <th>Slightly dissatisfied</th>\n",
       "      <td>Slightly dissatisfied</td>\n",
       "      <td>4761</td>\n",
       "      <td>8.49</td>\n",
       "    </tr>\n",
       "    <tr>\n",
       "      <th>Neither satisfied nor dissatisfied</th>\n",
       "      <td>Neither satisfied nor dissatisfied</td>\n",
       "      <td>4272</td>\n",
       "      <td>7.62</td>\n",
       "    </tr>\n",
       "    <tr>\n",
       "      <th>Moderately dissatisfied</th>\n",
       "      <td>Moderately dissatisfied</td>\n",
       "      <td>3714</td>\n",
       "      <td>6.62</td>\n",
       "    </tr>\n",
       "    <tr>\n",
       "      <th>Extremely dissatisfied</th>\n",
       "      <td>Extremely dissatisfied</td>\n",
       "      <td>1733</td>\n",
       "      <td>3.09</td>\n",
       "    </tr>\n",
       "  </tbody>\n",
       "</table>\n",
       "</div>"
      ],
      "text/plain": [
       "                                                                Labels  \\\n",
       "Moderately satisfied                              Moderately satisfied   \n",
       "Extremely satisfied                                Extremely satisfied   \n",
       "Slightly satisfied                                  Slightly satisfied   \n",
       "Slightly dissatisfied                            Slightly dissatisfied   \n",
       "Neither satisfied nor dissatisfied  Neither satisfied nor dissatisfied   \n",
       "Moderately dissatisfied                        Moderately dissatisfied   \n",
       "Extremely dissatisfied                          Extremely dissatisfied   \n",
       "\n",
       "                                    Values  % of Respondents  \n",
       "Moderately satisfied                 21035             37.51  \n",
       "Extremely satisfied                  10690             19.06  \n",
       "Slightly satisfied                    9867             17.60  \n",
       "Slightly dissatisfied                 4761              8.49  \n",
       "Neither satisfied nor dissatisfied    4272              7.62  \n",
       "Moderately dissatisfied               3714              6.62  \n",
       "Extremely dissatisfied                1733              3.09  "
      ]
     },
     "execution_count": 75,
     "metadata": {},
     "output_type": "execute_result"
    }
   ],
   "source": [
    "CS_Male_df_temp = CS_Gender_df.loc[CS_Gender_df[\"Gender\"]==\"Male\",:]\n",
    "CS_Male_df = CS_Male_df_temp.dropna()\n",
    "\n",
    "CS_Male_df_count = CS_Male_df['CareerSatisfaction'].value_counts()\n",
    "CS_Per_Male = round(((CS_Male_df_count/CS_Male_df_count.sum())*100),2)\n",
    "\n",
    "CS_Male_df = pd.DataFrame({'Labels' : CS_Male_df_count.index,\n",
    "                            'Values' : CS_Male_df_count.values,\n",
    "                             \"% of Respondents\" : CS_Per_Male\n",
    "})\n",
    "\n",
    "plt.barh(CS_Male_df['Labels'],CS_Male_df['Values'], color='mediumblue', alpha=0.5, align=\"center\")\n",
    "plt.gca().invert_yaxis()\n",
    "plt.grid(alpha = 0.33)\n",
    "plt.title(\"Career Satisfaction (Male)\")\n",
    "plt.xlabel(\"# of Respondents\")\n",
    "plt.tight_layout()\n",
    "plt.savefig(\"Images/CareerSatisfaction_Male.png\")\n",
    "plt.show()\n",
    "\n",
    "print(f\"Total Career Satifaction responses: {CS_Male_df_count.sum()}\")\n",
    "\n",
    "\n",
    "CS_Male_df"
   ]
  },
  {
   "cell_type": "code",
   "execution_count": 68,
   "metadata": {
    "scrolled": false
   },
   "outputs": [
    {
     "data": {
      "image/png": "[encoded data removed]",
      "text/plain": [
       "<Figure size 432x288 with 1 Axes>"
      ]
     },
     "metadata": {
      "needs_background": "light"
     },
     "output_type": "display_data"
    },
    {
     "name": "stdout",
     "output_type": "stream",
     "text": [
      "Total Career Satifaction responses: 548\n"
     ]
    },
    {
     "data": {
      "text/html": [
       "<div>\n",
       "<style scoped>\n",
       "    .dataframe tbody tr th:only-of-type {\n",
       "        vertical-align: middle;\n",
       "    }\n",
       "\n",
       "    .dataframe tbody tr th {\n",
       "        vertical-align: top;\n",
       "    }\n",
       "\n",
       "    .dataframe thead th {\n",
       "        text-align: right;\n",
       "    }\n",
       "</style>\n",
       "<table border=\"1\" class=\"dataframe\">\n",
       "  <thead>\n",
       "    <tr style=\"text-align: right;\">\n",
       "      <th></th>\n",
       "      <th>Labels</th>\n",
       "      <th>Values</th>\n",
       "      <th>% of Respondents</th>\n",
       "    </tr>\n",
       "  </thead>\n",
       "  <tbody>\n",
       "    <tr>\n",
       "      <th>Moderately satisfied</th>\n",
       "      <td>Moderately satisfied</td>\n",
       "      <td>159</td>\n",
       "      <td>29.01</td>\n",
       "    </tr>\n",
       "    <tr>\n",
       "      <th>Extremely satisfied</th>\n",
       "      <td>Extremely satisfied</td>\n",
       "      <td>101</td>\n",
       "      <td>18.43</td>\n",
       "    </tr>\n",
       "    <tr>\n",
       "      <th>Slightly satisfied</th>\n",
       "      <td>Slightly satisfied</td>\n",
       "      <td>94</td>\n",
       "      <td>17.15</td>\n",
       "    </tr>\n",
       "    <tr>\n",
       "      <th>Neither satisfied nor dissatisfied</th>\n",
       "      <td>Neither satisfied nor dissatisfied</td>\n",
       "      <td>63</td>\n",
       "      <td>11.50</td>\n",
       "    </tr>\n",
       "    <tr>\n",
       "      <th>Slightly dissatisfied</th>\n",
       "      <td>Slightly dissatisfied</td>\n",
       "      <td>54</td>\n",
       "      <td>9.85</td>\n",
       "    </tr>\n",
       "    <tr>\n",
       "      <th>Moderately dissatisfied</th>\n",
       "      <td>Moderately dissatisfied</td>\n",
       "      <td>42</td>\n",
       "      <td>7.66</td>\n",
       "    </tr>\n",
       "    <tr>\n",
       "      <th>Extremely dissatisfied</th>\n",
       "      <td>Extremely dissatisfied</td>\n",
       "      <td>35</td>\n",
       "      <td>6.39</td>\n",
       "    </tr>\n",
       "  </tbody>\n",
       "</table>\n",
       "</div>"
      ],
      "text/plain": [
       "                                                                Labels  \\\n",
       "Moderately satisfied                              Moderately satisfied   \n",
       "Extremely satisfied                                Extremely satisfied   \n",
       "Slightly satisfied                                  Slightly satisfied   \n",
       "Neither satisfied nor dissatisfied  Neither satisfied nor dissatisfied   \n",
       "Slightly dissatisfied                            Slightly dissatisfied   \n",
       "Moderately dissatisfied                        Moderately dissatisfied   \n",
       "Extremely dissatisfied                          Extremely dissatisfied   \n",
       "\n",
       "                                    Values  % of Respondents  \n",
       "Moderately satisfied                   159             29.01  \n",
       "Extremely satisfied                    101             18.43  \n",
       "Slightly satisfied                      94             17.15  \n",
       "Neither satisfied nor dissatisfied      63             11.50  \n",
       "Slightly dissatisfied                   54              9.85  \n",
       "Moderately dissatisfied                 42              7.66  \n",
       "Extremely dissatisfied                  35              6.39  "
      ]
     },
     "execution_count": 68,
     "metadata": {},
     "output_type": "execute_result"
    }
   ],
   "source": [
    "CS_Other_df_temp = CS_Gender_df.loc[CS_Gender_df[\"Gender\"]==\"Other / Non-Disclosed\",:]\n",
    "CS_Other_df = CS_Other_df_temp.dropna()\n",
    "\n",
    "CS_Other_df_count = CS_Other_df['CareerSatisfaction'].value_counts()\n",
    "CS_Per_Other = round(((CS_Other_df_count/CS_Other_df_count.sum())*100),2)\n",
    "\n",
    "CS_Other_df = pd.DataFrame({'Labels' : CS_Other_df_count.index,\n",
    "                            'Values' : CS_Other_df_count.values,\n",
    "                             \"% of Respondents\" : CS_Per_Other\n",
    "})\n",
    "\n",
    "plt.barh(CS_Other_df['Labels'],CS_Other_df['Values'], color='orange', alpha=0.5, align=\"center\")\n",
    "plt.gca().invert_yaxis()\n",
    "plt.grid(alpha = 0.33)\n",
    "plt.title(\"Career Satisfaction (Other)\")\n",
    "plt.xlabel(\"# of Respondents\")\n",
    "plt.tight_layout()\n",
    "plt.savefig(\"Images/CareerSatisfaction_Other.png\")\n",
    "plt.show()\n",
    "\n",
    "print(f\"Total Career Satifaction responses: {CS_Other_df_count.sum()}\")\n",
    "\n",
    "\n",
    "CS_Other_df"
   ]
  },
  {
   "cell_type": "code",
   "execution_count": 79,
   "metadata": {},
   "outputs": [
    {
     "data": {
      "text/plain": [
       "<function matplotlib.pyplot.show(*args, **kw)>"
      ]
     },
     "execution_count": 79,
     "metadata": {},
     "output_type": "execute_result"
    },
    {
     "data": {
      "image/png": "[encoded data removed]",
      "text/plain": [
       "<Figure size 432x288 with 1 Axes>"
      ]
     },
     "metadata": {
      "needs_background": "light"
     },
     "output_type": "display_data"
    }
   ],
   "source": [
    "plt.barh(CS_Male_df['Labels'],CS_Male_df['Values'])\n",
    "plt.barh(CS_Female_df['Labels'],CS_Female_df['Values'],color=\"magenta\")\n",
    "plt.barh(CS_Other_df['Labels'],CS_Other_df['Values'],color=\"limegreen\")\n",
    "plt.grid(alpha = 0.33)\n",
    "#plt.gca().invert_yaxis()\n",
    "#plt.xticks(rotation=75)\n",
    "plt.title(\"Career Satisfaction by Gender\")\n",
    "plt.xlabel(\"# of Respondents\")\n",
    "plt.tight_layout()\n",
    "plt.savefig(\"Images/CareerSatisfaction_by_gender_all.png\")\n",
    "plt.show"
   ]
  },
  {
   "cell_type": "code",
   "execution_count": 69,
   "metadata": {},
   "outputs": [
    {
     "data": {
      "image/png": "[encoded data removed]",
      "text/plain": [
       "<Figure size 432x288 with 1 Axes>"
      ]
     },
     "metadata": {
      "needs_background": "light"
     },
     "output_type": "display_data"
    },
    {
     "name": "stdout",
     "output_type": "stream",
     "text": [
      "Total TimeAfterBootcamp responses: 6652\n"
     ]
    },
    {
     "data": {
      "text/html": [
       "<div>\n",
       "<style scoped>\n",
       "    .dataframe tbody tr th:only-of-type {\n",
       "        vertical-align: middle;\n",
       "    }\n",
       "\n",
       "    .dataframe tbody tr th {\n",
       "        vertical-align: top;\n",
       "    }\n",
       "\n",
       "    .dataframe thead th {\n",
       "        text-align: right;\n",
       "    }\n",
       "</style>\n",
       "<table border=\"1\" class=\"dataframe\">\n",
       "  <thead>\n",
       "    <tr style=\"text-align: right;\">\n",
       "      <th></th>\n",
       "      <th>Labels</th>\n",
       "      <th>Values</th>\n",
       "    </tr>\n",
       "  </thead>\n",
       "  <tbody>\n",
       "    <tr>\n",
       "      <th>0</th>\n",
       "      <td>Already a full-time developer</td>\n",
       "      <td>3025</td>\n",
       "    </tr>\n",
       "    <tr>\n",
       "      <th>1</th>\n",
       "      <td>Immediately after graduating</td>\n",
       "      <td>1085</td>\n",
       "    </tr>\n",
       "    <tr>\n",
       "      <th>2</th>\n",
       "      <td>One to three months</td>\n",
       "      <td>668</td>\n",
       "    </tr>\n",
       "    <tr>\n",
       "      <th>3</th>\n",
       "      <td>I haven’t gotten a developer job</td>\n",
       "      <td>581</td>\n",
       "    </tr>\n",
       "    <tr>\n",
       "      <th>4</th>\n",
       "      <td>Less than a month</td>\n",
       "      <td>496</td>\n",
       "    </tr>\n",
       "    <tr>\n",
       "      <th>5</th>\n",
       "      <td>Four to six months</td>\n",
       "      <td>347</td>\n",
       "    </tr>\n",
       "    <tr>\n",
       "      <th>6</th>\n",
       "      <td>Six months to a year</td>\n",
       "      <td>239</td>\n",
       "    </tr>\n",
       "    <tr>\n",
       "      <th>7</th>\n",
       "      <td>Longer than a year</td>\n",
       "      <td>211</td>\n",
       "    </tr>\n",
       "  </tbody>\n",
       "</table>\n",
       "</div>"
      ],
      "text/plain": [
       "                             Labels  Values\n",
       "0     Already a full-time developer    3025\n",
       "1      Immediately after graduating    1085\n",
       "2               One to three months     668\n",
       "3  I haven’t gotten a developer job     581\n",
       "4                 Less than a month     496\n",
       "5                Four to six months     347\n",
       "6              Six months to a year     239\n",
       "7                Longer than a year     211"
      ]
     },
     "execution_count": 69,
     "metadata": {},
     "output_type": "execute_result"
    }
   ],
   "source": [
    "bootcamp_temp = Education_df[['Respondent','TimeAfterBootcamp']]\n",
    "bootcamp = bootcamp_temp.dropna()\n",
    "\n",
    "bootcamp_count = bootcamp['TimeAfterBootcamp'].value_counts()\n",
    "\n",
    "bootcamp_df = pd.DataFrame({'Labels' : bootcamp_count.index,\n",
    "                            'Values' : bootcamp_count.values   \n",
    "})\n",
    "\n",
    "bootcamp_df['Labels'] = bootcamp_df['Labels'].replace({\"I already had a full-time job as a developer when I began the program\": \"Already a full-time developer\"})\n",
    "\n",
    "\n",
    "plt.barh(bootcamp_df['Labels'], bootcamp_df['Values'], color='orange', alpha=0.5, align=\"center\")\n",
    "#plt.gca().invert_yaxis()\n",
    "plt.grid(alpha = .25)\n",
    "plt.xticks(rotation=75)\n",
    "plt.title(\"Time After BootCamp\")\n",
    "plt.xlabel(\"# of Respondents\")\n",
    "plt.tight_layout()\n",
    "plt.savefig(\"Images/Time_After_BootCamp.png\")\n",
    "plt.show()\n",
    "\n",
    "print(f\"Total TimeAfterBootcamp responses: {bootcamp_count.sum()}\")\n",
    "bootcamp_df"
   ]
  },
  {
   "cell_type": "code",
   "execution_count": 70,
   "metadata": {},
   "outputs": [
    {
     "data": {
      "text/html": [
       "<div>\n",
       "<style scoped>\n",
       "    .dataframe tbody tr th:only-of-type {\n",
       "        vertical-align: middle;\n",
       "    }\n",
       "\n",
       "    .dataframe tbody tr th {\n",
       "        vertical-align: top;\n",
       "    }\n",
       "\n",
       "    .dataframe thead th {\n",
       "        text-align: right;\n",
       "    }\n",
       "</style>\n",
       "<table border=\"1\" class=\"dataframe\">\n",
       "  <thead>\n",
       "    <tr style=\"text-align: right;\">\n",
       "      <th></th>\n",
       "      <th>Hobby</th>\n",
       "      <th>Percentage Of Respondents</th>\n",
       "    </tr>\n",
       "  </thead>\n",
       "  <tbody>\n",
       "    <tr>\n",
       "      <th>Yes</th>\n",
       "      <td>52790</td>\n",
       "      <td>81.88</td>\n",
       "    </tr>\n",
       "    <tr>\n",
       "      <th>No</th>\n",
       "      <td>11679</td>\n",
       "      <td>18.12</td>\n",
       "    </tr>\n",
       "  </tbody>\n",
       "</table>\n",
       "</div>"
      ],
      "text/plain": [
       "     Hobby  Percentage Of Respondents\n",
       "Yes  52790                      81.88\n",
       "No   11679                      18.12"
      ]
     },
     "execution_count": 70,
     "metadata": {},
     "output_type": "execute_result"
    }
   ],
   "source": [
    "Hobby_Gender_df_temp = Education_df.loc[:,[\"Hobby\",\"Gender\",\"Respondent\"]]\n",
    "Hobby_Gender_df = Hobby_Gender_df_temp.dropna()\n",
    "Hobby_Gender_df[\"Hobby\"].count()\n",
    "\n",
    "\n",
    "Count_Gender= Hobby_Gender_df[\"Hobby\"].value_counts()\n",
    "Gender_df=pd.DataFrame(Count_Gender)\n",
    "Tot= Count_Gender.sum()\n",
    "Gender_df[\"Percentage Of Respondents\"]=round(Count_Gender*100/Tot,2)\n",
    "Gender_df"
   ]
  },
  {
   "cell_type": "code",
   "execution_count": 71,
   "metadata": {},
   "outputs": [
    {
     "data": {
      "image/png": "[encoded data removed]",
      "text/plain": [
       "<Figure size 432x288 with 1 Axes>"
      ]
     },
     "metadata": {
      "needs_background": "light"
     },
     "output_type": "display_data"
    },
    {
     "name": "stdout",
     "output_type": "stream",
     "text": [
      "Total Hobby responses: 4244\n"
     ]
    },
    {
     "data": {
      "text/html": [
       "<div>\n",
       "<style scoped>\n",
       "    .dataframe tbody tr th:only-of-type {\n",
       "        vertical-align: middle;\n",
       "    }\n",
       "\n",
       "    .dataframe tbody tr th {\n",
       "        vertical-align: top;\n",
       "    }\n",
       "\n",
       "    .dataframe thead th {\n",
       "        text-align: right;\n",
       "    }\n",
       "</style>\n",
       "<table border=\"1\" class=\"dataframe\">\n",
       "  <thead>\n",
       "    <tr style=\"text-align: right;\">\n",
       "      <th></th>\n",
       "      <th>Labels</th>\n",
       "      <th>Female_Values</th>\n",
       "      <th>% of Respondents</th>\n",
       "    </tr>\n",
       "  </thead>\n",
       "  <tbody>\n",
       "    <tr>\n",
       "      <th>Yes</th>\n",
       "      <td>Yes</td>\n",
       "      <td>2881</td>\n",
       "      <td>67.88</td>\n",
       "    </tr>\n",
       "    <tr>\n",
       "      <th>No</th>\n",
       "      <td>No</td>\n",
       "      <td>1363</td>\n",
       "      <td>32.12</td>\n",
       "    </tr>\n",
       "  </tbody>\n",
       "</table>\n",
       "</div>"
      ],
      "text/plain": [
       "    Labels  Female_Values  % of Respondents\n",
       "Yes    Yes           2881             67.88\n",
       "No      No           1363             32.12"
      ]
     },
     "execution_count": 71,
     "metadata": {},
     "output_type": "execute_result"
    }
   ],
   "source": [
    "Hobby_Female_df_temp = Hobby_Gender_df.loc[Hobby_Gender_df[\"Gender\"]==\"Female\",:]\n",
    "Hobby_Female_df = Hobby_Female_df_temp.dropna()\n",
    "\n",
    "Hobby_Female_df_count = Hobby_Female_df['Hobby'].value_counts()\n",
    "Hobby_Per_Female = round(((Hobby_Female_df_count/Hobby_Female_df_count.sum())*100),2)\n",
    "\n",
    "Hobby_Female_df = pd.DataFrame({'Labels' : Hobby_Female_df_count.index,\n",
    "                            'Female_Values' : Hobby_Female_df_count.values,\n",
    "                             \"% of Respondents\" : Hobby_Per_Female\n",
    "})\n",
    "\n",
    "plt.bar(Hobby_Female_df['Labels'],Hobby_Female_df['Female_Values'], color='pink', alpha=0.5, align=\"center\")\n",
    "\n",
    "plt.grid(alpha = 0.33)\n",
    "plt.title(\"Hobby (Female)\")\n",
    "plt.xlabel(\"# of Respondents\")\n",
    "plt.savefig(\"Images/Hobby_Female_Other.png\")\n",
    "plt.show()\n",
    "\n",
    "print(f\"Total Hobby responses: {Hobby_Female_df_count.sum()}\")\n",
    "\n",
    "\n",
    "Hobby_Female_df"
   ]
  },
  {
   "cell_type": "code",
   "execution_count": 72,
   "metadata": {},
   "outputs": [
    {
     "data": {
      "image/png": "[encoded data removed]",
      "text/plain": [
       "<Figure size 432x288 with 1 Axes>"
      ]
     },
     "metadata": {
      "needs_background": "light"
     },
     "output_type": "display_data"
    },
    {
     "name": "stdout",
     "output_type": "stream",
     "text": [
      "Total Hobby responses: 59620\n"
     ]
    },
    {
     "data": {
      "text/html": [
       "<div>\n",
       "<style scoped>\n",
       "    .dataframe tbody tr th:only-of-type {\n",
       "        vertical-align: middle;\n",
       "    }\n",
       "\n",
       "    .dataframe tbody tr th {\n",
       "        vertical-align: top;\n",
       "    }\n",
       "\n",
       "    .dataframe thead th {\n",
       "        text-align: right;\n",
       "    }\n",
       "</style>\n",
       "<table border=\"1\" class=\"dataframe\">\n",
       "  <thead>\n",
       "    <tr style=\"text-align: right;\">\n",
       "      <th></th>\n",
       "      <th>Labels</th>\n",
       "      <th>Male_Values</th>\n",
       "      <th>% of Respondents</th>\n",
       "    </tr>\n",
       "  </thead>\n",
       "  <tbody>\n",
       "    <tr>\n",
       "      <th>Yes</th>\n",
       "      <td>Yes</td>\n",
       "      <td>49396</td>\n",
       "      <td>82.85</td>\n",
       "    </tr>\n",
       "    <tr>\n",
       "      <th>No</th>\n",
       "      <td>No</td>\n",
       "      <td>10224</td>\n",
       "      <td>17.15</td>\n",
       "    </tr>\n",
       "  </tbody>\n",
       "</table>\n",
       "</div>"
      ],
      "text/plain": [
       "    Labels  Male_Values  % of Respondents\n",
       "Yes    Yes        49396             82.85\n",
       "No      No        10224             17.15"
      ]
     },
     "execution_count": 72,
     "metadata": {},
     "output_type": "execute_result"
    }
   ],
   "source": [
    "Hobby_Male_df_temp = Hobby_Gender_df.loc[Hobby_Gender_df[\"Gender\"]==\"Male\",:]\n",
    "Hobby_Male_df = Hobby_Male_df_temp.dropna()\n",
    "\n",
    "Hobby_Male_df_count = Hobby_Male_df['Hobby'].value_counts()\n",
    "Hobby_Per_Male = round(((Hobby_Male_df_count/Hobby_Male_df_count.sum())*100),2)\n",
    "\n",
    "Hobby_Male_df = pd.DataFrame({'Labels' : Hobby_Male_df_count.index,\n",
    "                            'Male_Values' : Hobby_Male_df_count.values,\n",
    "                             \"% of Respondents\" : Hobby_Per_Male\n",
    "})\n",
    "\n",
    "plt.bar(Hobby_Male_df['Labels'],Hobby_Male_df['Male_Values'], color='blue', alpha=0.5, align=\"center\")\n",
    "\n",
    "plt.grid(alpha = 0.33)\n",
    "plt.title(\"Hobby (Male)\")\n",
    "plt.xlabel(\"# of Respondents\")\n",
    "plt.savefig(\"Images/Hobby_Male_Other.png\")\n",
    "plt.show()\n",
    "\n",
    "print(f\"Total Hobby responses: {Hobby_Male_df_count.sum()}\")\n",
    "\n",
    "\n",
    "Hobby_Male_df"
   ]
  },
  {
   "cell_type": "code",
   "execution_count": 73,
   "metadata": {},
   "outputs": [
    {
     "data": {
      "image/png": "[encoded data removed]",
      "text/plain": [
       "<Figure size 432x288 with 1 Axes>"
      ]
     },
     "metadata": {
      "needs_background": "light"
     },
     "output_type": "display_data"
    },
    {
     "name": "stdout",
     "output_type": "stream",
     "text": [
      "Total Hobby responses: 605\n"
     ]
    },
    {
     "data": {
      "text/html": [
       "<div>\n",
       "<style scoped>\n",
       "    .dataframe tbody tr th:only-of-type {\n",
       "        vertical-align: middle;\n",
       "    }\n",
       "\n",
       "    .dataframe tbody tr th {\n",
       "        vertical-align: top;\n",
       "    }\n",
       "\n",
       "    .dataframe thead th {\n",
       "        text-align: right;\n",
       "    }\n",
       "</style>\n",
       "<table border=\"1\" class=\"dataframe\">\n",
       "  <thead>\n",
       "    <tr style=\"text-align: right;\">\n",
       "      <th></th>\n",
       "      <th>Labels</th>\n",
       "      <th>Values</th>\n",
       "      <th>% of Respondents</th>\n",
       "    </tr>\n",
       "  </thead>\n",
       "  <tbody>\n",
       "    <tr>\n",
       "      <th>Yes</th>\n",
       "      <td>Yes</td>\n",
       "      <td>513</td>\n",
       "      <td>84.79</td>\n",
       "    </tr>\n",
       "    <tr>\n",
       "      <th>No</th>\n",
       "      <td>No</td>\n",
       "      <td>92</td>\n",
       "      <td>15.21</td>\n",
       "    </tr>\n",
       "  </tbody>\n",
       "</table>\n",
       "</div>"
      ],
      "text/plain": [
       "    Labels  Values  % of Respondents\n",
       "Yes    Yes     513             84.79\n",
       "No      No      92             15.21"
      ]
     },
     "execution_count": 73,
     "metadata": {},
     "output_type": "execute_result"
    }
   ],
   "source": [
    "Hobby_Other_df_temp = Hobby_Gender_df.loc[Hobby_Gender_df[\"Gender\"]==\"Other / Non-Disclosed\",:]\n",
    "Hobby_Other_df = Hobby_Other_df_temp.dropna()\n",
    "\n",
    "Hobby_Other_df_count = Hobby_Other_df['Hobby'].value_counts()\n",
    "Hobby_Per_Other = round(((Hobby_Other_df_count/Hobby_Other_df_count.sum())*100),2)\n",
    "\n",
    "Hobby_Other_df = pd.DataFrame({'Labels' : Hobby_Other_df_count.index,\n",
    "                            'Values' : Hobby_Other_df_count.values,\n",
    "                             \"% of Respondents\" : Hobby_Per_Other\n",
    "})\n",
    "\n",
    "plt.bar(Hobby_Other_df['Labels'],Hobby_Other_df['Values'], color='orange', alpha=0.5, align=\"center\")\n",
    "\n",
    "plt.grid(alpha = 0.33)\n",
    "plt.title(\"Hobby (Other)\")\n",
    "plt.xlabel(\"# of Respondents\")\n",
    "plt.savefig(\"Images/CMale_other_Other.png\")\n",
    "plt.show()\n",
    "\n",
    "print(f\"Total Hobby responses: {Hobby_Other_df_count.sum()}\")\n",
    "\n",
    "\n",
    "Hobby_Other_df"
   ]
  },
  {
   "cell_type": "code",
   "execution_count": 74,
   "metadata": {},
   "outputs": [
    {
     "data": {
      "text/plain": [
       "<function matplotlib.pyplot.show(*args, **kw)>"
      ]
     },
     "execution_count": 74,
     "metadata": {},
     "output_type": "execute_result"
    },
    {
     "data": {
      "image/png": "[encoded data removed]",
      "text/plain": [
       "<Figure size 432x288 with 1 Axes>"
      ]
     },
     "metadata": {
      "needs_background": "light"
     },
     "output_type": "display_data"
    }
   ],
   "source": [
    "plt.bar(Hobby_Male_df['Labels'],Hobby_Male_df['Male_Values'])\n",
    "plt.bar(Hobby_Female_df['Labels'],Hobby_Female_df['Female_Values'],color=\"pink\")\n",
    "plt.bar(Hobby_Other_df['Labels'],Hobby_Other_df['Values'])\n",
    "plt.grid(alpha = 0.33)\n",
    "#plt.gca().invert_yaxis()\n",
    "\n",
    "plt.title(\"Code as a Hobby by Gender\")\n",
    "plt.xlabel(\"# of Respondents\")\n",
    "plt.savefig(\"Images/Hobby_gender_all.png\")\n",
    "plt.show"
   ]
  },
  {
   "cell_type": "code",
   "execution_count": null,
   "metadata": {},
   "outputs": [],
   "source": []
  }
 ],
 "metadata": {
  "kernelspec": {
   "display_name": "Python 3",
   "language": "python",
   "name": "python3"
  },
  "language_info": {
   "codemirror_mode": {
    "name": "ipython",
    "version": 3
   },
   "file_extension": ".py",
   "mimetype": "text/x-python",
   "name": "python",
   "nbconvert_exporter": "python",
   "pygments_lexer": "ipython3",
   "version": "3.7.3"
  }
 },
 "nbformat": 4,
 "nbformat_minor": 2
}
