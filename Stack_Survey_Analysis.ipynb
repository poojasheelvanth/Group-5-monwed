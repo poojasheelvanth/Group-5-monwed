{
 "cells": [
  {
   "cell_type": "code",
   "execution_count": 1,
   "metadata": {
    "scrolled": true
   },
   "outputs": [
    {
     "name": "stderr",
     "output_type": "stream",
     "text": [
      "/Users/marylugranja/anaconda3/lib/python3.7/site-packages/IPython/core/interactiveshell.py:3049: DtypeWarning: Columns (8,12,13,14,15,16,50,51,52,53,55,56,57,58,59,60,61,62,63,64,65,66,67,68,69,70,71,72,73,74,75,76,77,78,79,80,81,82,83,84,85,93,94,95,96,97,98,99,100,101,102,103,104,105,106,107,108,109,110,111,112,113,114,115,116,117,118,119,120,121,122,123,124,125,126,127,128) have mixed types. Specify dtype option on import or set low_memory=False.\n",
      "  interactivity=interactivity, compiler=compiler, result=result)\n"
     ]
    },
    {
     "data": {
      "text/html": [
       "<div>\n",
       "<style scoped>\n",
       "    .dataframe tbody tr th:only-of-type {\n",
       "        vertical-align: middle;\n",
       "    }\n",
       "\n",
       "    .dataframe tbody tr th {\n",
       "        vertical-align: top;\n",
       "    }\n",
       "\n",
       "    .dataframe thead th {\n",
       "        text-align: right;\n",
       "    }\n",
       "</style>\n",
       "<table border=\"1\" class=\"dataframe\">\n",
       "  <thead>\n",
       "    <tr style=\"text-align: right;\">\n",
       "      <th></th>\n",
       "      <th>Respondent</th>\n",
       "      <th>Hobby</th>\n",
       "      <th>OpenSource</th>\n",
       "      <th>Country</th>\n",
       "      <th>Student</th>\n",
       "      <th>Employment</th>\n",
       "      <th>FormalEducation</th>\n",
       "      <th>UndergradMajor</th>\n",
       "      <th>CompanySize</th>\n",
       "      <th>DevType</th>\n",
       "      <th>...</th>\n",
       "      <th>Exercise</th>\n",
       "      <th>Gender</th>\n",
       "      <th>SexualOrientation</th>\n",
       "      <th>EducationParents</th>\n",
       "      <th>RaceEthnicity</th>\n",
       "      <th>Age</th>\n",
       "      <th>Dependents</th>\n",
       "      <th>MilitaryUS</th>\n",
       "      <th>SurveyTooLong</th>\n",
       "      <th>SurveyEasy</th>\n",
       "    </tr>\n",
       "  </thead>\n",
       "  <tbody>\n",
       "    <tr>\n",
       "      <th>0</th>\n",
       "      <td>1</td>\n",
       "      <td>Yes</td>\n",
       "      <td>No</td>\n",
       "      <td>Kenya</td>\n",
       "      <td>No</td>\n",
       "      <td>Employed part-time</td>\n",
       "      <td>Bachelor’s degree (BA, BS, B.Eng., etc.)</td>\n",
       "      <td>Mathematics or statistics</td>\n",
       "      <td>20 to 99 employees</td>\n",
       "      <td>Full-stack developer</td>\n",
       "      <td>...</td>\n",
       "      <td>3 - 4 times per week</td>\n",
       "      <td>Male</td>\n",
       "      <td>Straight or heterosexual</td>\n",
       "      <td>Bachelor’s degree (BA, BS, B.Eng., etc.)</td>\n",
       "      <td>Black or of African descent</td>\n",
       "      <td>25 - 34 years old</td>\n",
       "      <td>Yes</td>\n",
       "      <td>NaN</td>\n",
       "      <td>The survey was an appropriate length</td>\n",
       "      <td>Very easy</td>\n",
       "    </tr>\n",
       "    <tr>\n",
       "      <th>1</th>\n",
       "      <td>3</td>\n",
       "      <td>Yes</td>\n",
       "      <td>Yes</td>\n",
       "      <td>United Kingdom</td>\n",
       "      <td>No</td>\n",
       "      <td>Employed full-time</td>\n",
       "      <td>Bachelor’s degree (BA, BS, B.Eng., etc.)</td>\n",
       "      <td>A natural science (ex. biology, chemistry, phy...</td>\n",
       "      <td>10,000 or more employees</td>\n",
       "      <td>Database administrator;DevOps specialist;Full-...</td>\n",
       "      <td>...</td>\n",
       "      <td>Daily or almost every day</td>\n",
       "      <td>Male</td>\n",
       "      <td>Straight or heterosexual</td>\n",
       "      <td>Bachelor’s degree (BA, BS, B.Eng., etc.)</td>\n",
       "      <td>White or of European descent</td>\n",
       "      <td>35 - 44 years old</td>\n",
       "      <td>Yes</td>\n",
       "      <td>NaN</td>\n",
       "      <td>The survey was an appropriate length</td>\n",
       "      <td>Somewhat easy</td>\n",
       "    </tr>\n",
       "    <tr>\n",
       "      <th>2</th>\n",
       "      <td>4</td>\n",
       "      <td>Yes</td>\n",
       "      <td>Yes</td>\n",
       "      <td>United States</td>\n",
       "      <td>No</td>\n",
       "      <td>Employed full-time</td>\n",
       "      <td>Associate degree</td>\n",
       "      <td>Computer science, computer engineering, or sof...</td>\n",
       "      <td>20 to 99 employees</td>\n",
       "      <td>Engineering manager;Full-stack developer</td>\n",
       "      <td>...</td>\n",
       "      <td>NaN</td>\n",
       "      <td>NaN</td>\n",
       "      <td>NaN</td>\n",
       "      <td>NaN</td>\n",
       "      <td>NaN</td>\n",
       "      <td>NaN</td>\n",
       "      <td>NaN</td>\n",
       "      <td>NaN</td>\n",
       "      <td>NaN</td>\n",
       "      <td>NaN</td>\n",
       "    </tr>\n",
       "    <tr>\n",
       "      <th>3</th>\n",
       "      <td>5</td>\n",
       "      <td>No</td>\n",
       "      <td>No</td>\n",
       "      <td>United States</td>\n",
       "      <td>No</td>\n",
       "      <td>Employed full-time</td>\n",
       "      <td>Bachelor’s degree (BA, BS, B.Eng., etc.)</td>\n",
       "      <td>Computer science, computer engineering, or sof...</td>\n",
       "      <td>100 to 499 employees</td>\n",
       "      <td>Full-stack developer</td>\n",
       "      <td>...</td>\n",
       "      <td>I don't typically exercise</td>\n",
       "      <td>Male</td>\n",
       "      <td>Straight or heterosexual</td>\n",
       "      <td>Some college/university study without earning ...</td>\n",
       "      <td>White or of European descent</td>\n",
       "      <td>35 - 44 years old</td>\n",
       "      <td>No</td>\n",
       "      <td>No</td>\n",
       "      <td>The survey was an appropriate length</td>\n",
       "      <td>Somewhat easy</td>\n",
       "    </tr>\n",
       "    <tr>\n",
       "      <th>4</th>\n",
       "      <td>7</td>\n",
       "      <td>Yes</td>\n",
       "      <td>No</td>\n",
       "      <td>South Africa</td>\n",
       "      <td>Yes, part-time</td>\n",
       "      <td>Employed full-time</td>\n",
       "      <td>Some college/university study without earning ...</td>\n",
       "      <td>Computer science, computer engineering, or sof...</td>\n",
       "      <td>10,000 or more employees</td>\n",
       "      <td>Data or business analyst;Desktop or enterprise...</td>\n",
       "      <td>...</td>\n",
       "      <td>3 - 4 times per week</td>\n",
       "      <td>Male</td>\n",
       "      <td>Straight or heterosexual</td>\n",
       "      <td>Some college/university study without earning ...</td>\n",
       "      <td>White or of European descent</td>\n",
       "      <td>18 - 24 years old</td>\n",
       "      <td>Yes</td>\n",
       "      <td>NaN</td>\n",
       "      <td>The survey was an appropriate length</td>\n",
       "      <td>Somewhat easy</td>\n",
       "    </tr>\n",
       "  </tbody>\n",
       "</table>\n",
       "<p>5 rows × 129 columns</p>\n",
       "</div>"
      ],
      "text/plain": [
       "   Respondent Hobby OpenSource         Country         Student  \\\n",
       "0           1   Yes         No           Kenya              No   \n",
       "1           3   Yes        Yes  United Kingdom              No   \n",
       "2           4   Yes        Yes   United States              No   \n",
       "3           5    No         No   United States              No   \n",
       "4           7   Yes         No    South Africa  Yes, part-time   \n",
       "\n",
       "           Employment                                    FormalEducation  \\\n",
       "0  Employed part-time           Bachelor’s degree (BA, BS, B.Eng., etc.)   \n",
       "1  Employed full-time           Bachelor’s degree (BA, BS, B.Eng., etc.)   \n",
       "2  Employed full-time                                   Associate degree   \n",
       "3  Employed full-time           Bachelor’s degree (BA, BS, B.Eng., etc.)   \n",
       "4  Employed full-time  Some college/university study without earning ...   \n",
       "\n",
       "                                      UndergradMajor  \\\n",
       "0                          Mathematics or statistics   \n",
       "1  A natural science (ex. biology, chemistry, phy...   \n",
       "2  Computer science, computer engineering, or sof...   \n",
       "3  Computer science, computer engineering, or sof...   \n",
       "4  Computer science, computer engineering, or sof...   \n",
       "\n",
       "                CompanySize  \\\n",
       "0        20 to 99 employees   \n",
       "1  10,000 or more employees   \n",
       "2        20 to 99 employees   \n",
       "3      100 to 499 employees   \n",
       "4  10,000 or more employees   \n",
       "\n",
       "                                             DevType  ...  \\\n",
       "0                               Full-stack developer  ...   \n",
       "1  Database administrator;DevOps specialist;Full-...  ...   \n",
       "2           Engineering manager;Full-stack developer  ...   \n",
       "3                               Full-stack developer  ...   \n",
       "4  Data or business analyst;Desktop or enterprise...  ...   \n",
       "\n",
       "                     Exercise Gender         SexualOrientation  \\\n",
       "0        3 - 4 times per week   Male  Straight or heterosexual   \n",
       "1   Daily or almost every day   Male  Straight or heterosexual   \n",
       "2                         NaN    NaN                       NaN   \n",
       "3  I don't typically exercise   Male  Straight or heterosexual   \n",
       "4        3 - 4 times per week   Male  Straight or heterosexual   \n",
       "\n",
       "                                    EducationParents  \\\n",
       "0           Bachelor’s degree (BA, BS, B.Eng., etc.)   \n",
       "1           Bachelor’s degree (BA, BS, B.Eng., etc.)   \n",
       "2                                                NaN   \n",
       "3  Some college/university study without earning ...   \n",
       "4  Some college/university study without earning ...   \n",
       "\n",
       "                  RaceEthnicity                Age Dependents  MilitaryUS  \\\n",
       "0   Black or of African descent  25 - 34 years old        Yes         NaN   \n",
       "1  White or of European descent  35 - 44 years old        Yes         NaN   \n",
       "2                           NaN                NaN        NaN         NaN   \n",
       "3  White or of European descent  35 - 44 years old         No          No   \n",
       "4  White or of European descent  18 - 24 years old        Yes         NaN   \n",
       "\n",
       "                          SurveyTooLong     SurveyEasy  \n",
       "0  The survey was an appropriate length      Very easy  \n",
       "1  The survey was an appropriate length  Somewhat easy  \n",
       "2                                   NaN            NaN  \n",
       "3  The survey was an appropriate length  Somewhat easy  \n",
       "4  The survey was an appropriate length  Somewhat easy  \n",
       "\n",
       "[5 rows x 129 columns]"
      ]
     },
     "execution_count": 1,
     "metadata": {},
     "output_type": "execute_result"
    }
   ],
   "source": [
    "%matplotlib inline\n",
    "# Dependencies and Setup\n",
    "import matplotlib.pyplot as plt\n",
    "import pandas as pd\n",
    "import numpy as np\n",
    "import gmaps\n",
    "import scipy.stats as stats\n",
    "\n",
    "Data_Files =pd.read_csv(\"survey_results_public.csv\", encoding ='utf-8')\n",
    "\n",
    "Education_df = Data_Files\n",
    "\n",
    "Education_df.head(5)\n",
    "\n"
   ]
  },
  {
   "cell_type": "code",
   "execution_count": 3,
   "metadata": {},
   "outputs": [
    {
     "data": {
      "text/plain": [
       "Bachelor’s Degree                       43659\n",
       "Master's Degree                         21396\n",
       "Some College/University Study           11710\n",
       "Secondary School                         8951\n",
       "Associate Degree                         2970\n",
       "Other Doctoral Degree                    2214\n",
       "Elementary school                        1656\n",
       "Professional Degree                      1447\n",
       "Never Completed Any Formal Education      700\n",
       "Name: FormalEducation, dtype: int64"
      ]
     },
     "execution_count": 3,
     "metadata": {},
     "output_type": "execute_result"
    }
   ],
   "source": [
    "Education_df['FormalEducation'] = Education_df['FormalEducation'].replace({\"Professional degree (JD, MD, etc.)\": \"Professional Degree\",\n",
    "                                                                          \"Bachelor’s degree (BA, BS, B.Eng., etc.)\": \"Bachelor’s Degree\",\n",
    "                                                                          \"Master’s degree (MA, MS, M.Eng., MBA, etc.)\" : \"Master's Degree\",\n",
    "                                                                        \"Secondary school (e.g. American high school, German Realschule or Gymnasium, etc.)\":\"Secondary School\",\n",
    "                                                                           \"Associate degree\" : \"Associate Degree\",\n",
    "                                                                          \"Other doctoral degree (Ph.D, Ed.D., etc.)\": \"Other Doctoral Degree\", \n",
    "                                                                           \"I never completed any formal education\": \"Never Completed Any Formal Education\",\n",
    "                                                                          \"Primary/elementary school\": \"Elementary school\",\n",
    "                                                                          \"Some college/university study without earning a degree\":\"Some College/University Study\"})\n",
    "                           \n",
    "\n",
    "#Education_df['FormalEducation'].count()\n",
    "Education_df['FormalEducation'].value_counts()\n",
    "\n"
   ]
  },
  {
   "cell_type": "code",
   "execution_count": 4,
   "metadata": {},
   "outputs": [
    {
     "data": {
      "text/plain": [
       "Computer Science/Computer Engineering         50336\n",
       "Another Engineering Discipline                 6945\n",
       "Information Systems/Information Technology     6507\n",
       "Natural Science                                3050\n",
       "Mathematics or statistics                      2818\n",
       "Web development or web design                  2418\n",
       "Business Discipline                            1921\n",
       "Humanities Discipline                          1590\n",
       "Social Science                                 1377\n",
       "Fine Arts/Performing Arts                      1135\n",
       "I never declared a major                        693\n",
       "Health Science                                  246\n",
       "Name: UndergradMajor, dtype: int64"
      ]
     },
     "execution_count": 4,
     "metadata": {},
     "output_type": "execute_result"
    }
   ],
   "source": [
    "Education_df['UndergradMajor'] = Education_df['UndergradMajor'].replace({\"A health science (ex. nursing, pharmacy, radiology)\": \"Health Science\",\n",
    "                                                                          \"Fine arts or performing arts (ex. graphic design, music, studio art)\": \"Fine Arts/Performing Arts\",\n",
    "                                                                          \"A social science (ex. anthropology, psychology, political science)\" : \"Social Science\",\n",
    "                                                                        \"A humanities discipline (ex. literature, history, philosophy)\":\"Humanities Discipline\",\n",
    "                                                                           \"A business discipline (ex. accounting, finance, marketing)\" : \"Business Discipline\",\n",
    "                                                                          \"Mathematics or statistics\": \"Mathematics or statistics\", \n",
    "                                                                           \"A natural science (ex. biology, chemistry, physics)\": \"Natural Science\",\n",
    "                                                                          \"Information systems, information technology, or system administration\": \"Information Systems/Information Technology\",\n",
    "                                                                          \"Another engineering discipline (ex. civil, electrical, mechanical)\":\"Another Engineering Discipline\",\n",
    "                                                                        \"Computer science, computer engineering, or software engineering\": \"Computer Science/Computer Engineering\"})\n",
    "                           \n",
    "\n",
    "#Education_df['UndergradMajor'].count()\n",
    "Education_df['UndergradMajor'].value_counts()\n"
   ]
  },
  {
   "cell_type": "code",
   "execution_count": 5,
   "metadata": {},
   "outputs": [],
   "source": [
    "# FormalEducation_df = Education_df.groupby('FormalEducation')\n",
    "# FormalEducation_Count = FormalEducation_df['FormalEducation'].count()\n",
    "# FormalEducation_sum = FormalEducation_df[\"FormalEducation\"].sum()\n",
    "# Total_Responses = Education_df['FormalEducation'].count()\n",
    "\n",
    "# summary_table = pd.DataFrame({\"FormalEducation_Count\": (FormalEducation_Count)\n",
    "#                                                       })\n",
    "\n",
    "# summary_table\n",
    "# summary_table_reset = summary_table.reset_index()\n",
    "# summary_sorted = summary_table_reset.sort_values(\"FormalEducation_Count\", ascending = True)\n",
    "# summary_sorted"
   ]
  },
  {
   "cell_type": "code",
   "execution_count": 6,
   "metadata": {},
   "outputs": [],
   "source": [
    "\n",
    "# users = summary_sorted[\"FormalEducation_Count\"]\n",
    "# x_axis = summary_sorted[\"FormalEducation\"]\n",
    "# plt.barh(x_axis, users, color='blue', alpha=0.5, align=\"center\",)\n",
    "# #plt.xticks(rotation=90)\n",
    "# plt.title(\"Formal Education\")\n",
    "# plt.xlabel(\"# of Respondents\")\n",
    "# plt.grid(alpha = .25)\n",
    "# #plt.savefig(\"../Images/sin_cos_with_markers.png\")\n",
    "# #plt.ylabel(\"Number of People Using Programming Languages\")\n",
    "# plt.show()#\n",
    " \n",
    "\n",
    "# print(f\"Total Responses : {Total_Responses}\")\n"
   ]
  },
  {
   "cell_type": "code",
   "execution_count": 7,
   "metadata": {},
   "outputs": [
    {
     "data": {
      "image/png": "[encoded data removed]",
      "text/plain": [
       "<Figure size 432x288 with 1 Axes>"
      ]
     },
     "metadata": {
      "needs_background": "light"
     },
     "output_type": "display_data"
    },
    {
     "name": "stdout",
     "output_type": "stream",
     "text": [
      "Total Formal Education responses: 94703\n"
     ]
    },
    {
     "data": {
      "text/html": [
       "<div>\n",
       "<style scoped>\n",
       "    .dataframe tbody tr th:only-of-type {\n",
       "        vertical-align: middle;\n",
       "    }\n",
       "\n",
       "    .dataframe tbody tr th {\n",
       "        vertical-align: top;\n",
       "    }\n",
       "\n",
       "    .dataframe thead th {\n",
       "        text-align: right;\n",
       "    }\n",
       "</style>\n",
       "<table border=\"1\" class=\"dataframe\">\n",
       "  <thead>\n",
       "    <tr style=\"text-align: right;\">\n",
       "      <th></th>\n",
       "      <th>Labels</th>\n",
       "      <th>Values</th>\n",
       "    </tr>\n",
       "  </thead>\n",
       "  <tbody>\n",
       "    <tr>\n",
       "      <th>0</th>\n",
       "      <td>Bachelor’s Degree</td>\n",
       "      <td>43659</td>\n",
       "    </tr>\n",
       "    <tr>\n",
       "      <th>1</th>\n",
       "      <td>Master's Degree</td>\n",
       "      <td>21396</td>\n",
       "    </tr>\n",
       "    <tr>\n",
       "      <th>2</th>\n",
       "      <td>Some College/University Study</td>\n",
       "      <td>11710</td>\n",
       "    </tr>\n",
       "    <tr>\n",
       "      <th>3</th>\n",
       "      <td>Secondary School</td>\n",
       "      <td>8951</td>\n",
       "    </tr>\n",
       "    <tr>\n",
       "      <th>4</th>\n",
       "      <td>Associate Degree</td>\n",
       "      <td>2970</td>\n",
       "    </tr>\n",
       "    <tr>\n",
       "      <th>5</th>\n",
       "      <td>Other Doctoral Degree</td>\n",
       "      <td>2214</td>\n",
       "    </tr>\n",
       "    <tr>\n",
       "      <th>6</th>\n",
       "      <td>Elementary school</td>\n",
       "      <td>1656</td>\n",
       "    </tr>\n",
       "    <tr>\n",
       "      <th>7</th>\n",
       "      <td>Professional Degree</td>\n",
       "      <td>1447</td>\n",
       "    </tr>\n",
       "    <tr>\n",
       "      <th>8</th>\n",
       "      <td>Never Completed Any Formal Education</td>\n",
       "      <td>700</td>\n",
       "    </tr>\n",
       "  </tbody>\n",
       "</table>\n",
       "</div>"
      ],
      "text/plain": [
       "                                 Labels  Values\n",
       "0                     Bachelor’s Degree   43659\n",
       "1                       Master's Degree   21396\n",
       "2         Some College/University Study   11710\n",
       "3                      Secondary School    8951\n",
       "4                      Associate Degree    2970\n",
       "5                 Other Doctoral Degree    2214\n",
       "6                     Elementary school    1656\n",
       "7                   Professional Degree    1447\n",
       "8  Never Completed Any Formal Education     700"
      ]
     },
     "execution_count": 7,
     "metadata": {},
     "output_type": "execute_result"
    }
   ],
   "source": [
    "formaleducation_temp = Education_df[['Respondent','FormalEducation']]\n",
    "formaleducation = formaleducation_temp.dropna()\n",
    "\n",
    "formaleducation_count = formaleducation['FormalEducation'].value_counts()\n",
    "\n",
    "formaleducation_df = pd.DataFrame({'Labels' : formaleducation_count.index,\n",
    "                            'Values' : formaleducation_count.values   \n",
    "})\n",
    "\n",
    "plt.barh(formaleducation_df['Labels'], formaleducation_df['Values'], color='b', alpha=0.5, align=\"center\")\n",
    "plt.gca().invert_yaxis()\n",
    "plt.grid(alpha = 0.33)\n",
    "plt.title(\"Formal Education\")\n",
    "plt.xlabel(\"# of Respondents\")\n",
    "plt.savefig(\"Images/Formal_Education.png\")\n",
    "plt.show()\n",
    "\n",
    "print(f\"Total Formal Education responses: {formaleducation_count.sum()}\")\n",
    "formaleducation_df"
   ]
  },
  {
   "cell_type": "code",
   "execution_count": 8,
   "metadata": {},
   "outputs": [
    {
     "data": {
      "image/png": "[encoded data removed]",
      "text/plain": [
       "<Figure size 432x288 with 1 Axes>"
      ]
     },
     "metadata": {
      "needs_background": "light"
     },
     "output_type": "display_data"
    },
    {
     "name": "stdout",
     "output_type": "stream",
     "text": [
      "Total Undergraduate Major responses: 79036\n"
     ]
    },
    {
     "data": {
      "text/html": [
       "<div>\n",
       "<style scoped>\n",
       "    .dataframe tbody tr th:only-of-type {\n",
       "        vertical-align: middle;\n",
       "    }\n",
       "\n",
       "    .dataframe tbody tr th {\n",
       "        vertical-align: top;\n",
       "    }\n",
       "\n",
       "    .dataframe thead th {\n",
       "        text-align: right;\n",
       "    }\n",
       "</style>\n",
       "<table border=\"1\" class=\"dataframe\">\n",
       "  <thead>\n",
       "    <tr style=\"text-align: right;\">\n",
       "      <th></th>\n",
       "      <th>Labels</th>\n",
       "      <th>Values</th>\n",
       "    </tr>\n",
       "  </thead>\n",
       "  <tbody>\n",
       "    <tr>\n",
       "      <th>0</th>\n",
       "      <td>Computer Science/Computer Engineering</td>\n",
       "      <td>50336</td>\n",
       "    </tr>\n",
       "    <tr>\n",
       "      <th>1</th>\n",
       "      <td>Another Engineering Discipline</td>\n",
       "      <td>6945</td>\n",
       "    </tr>\n",
       "    <tr>\n",
       "      <th>2</th>\n",
       "      <td>Information Systems/Information Technology</td>\n",
       "      <td>6507</td>\n",
       "    </tr>\n",
       "    <tr>\n",
       "      <th>3</th>\n",
       "      <td>Natural Science</td>\n",
       "      <td>3050</td>\n",
       "    </tr>\n",
       "    <tr>\n",
       "      <th>4</th>\n",
       "      <td>Mathematics or statistics</td>\n",
       "      <td>2818</td>\n",
       "    </tr>\n",
       "    <tr>\n",
       "      <th>5</th>\n",
       "      <td>Web development or web design</td>\n",
       "      <td>2418</td>\n",
       "    </tr>\n",
       "    <tr>\n",
       "      <th>6</th>\n",
       "      <td>Business Discipline</td>\n",
       "      <td>1921</td>\n",
       "    </tr>\n",
       "    <tr>\n",
       "      <th>7</th>\n",
       "      <td>Humanities Discipline</td>\n",
       "      <td>1590</td>\n",
       "    </tr>\n",
       "    <tr>\n",
       "      <th>8</th>\n",
       "      <td>Social Science</td>\n",
       "      <td>1377</td>\n",
       "    </tr>\n",
       "    <tr>\n",
       "      <th>9</th>\n",
       "      <td>Fine Arts/Performing Arts</td>\n",
       "      <td>1135</td>\n",
       "    </tr>\n",
       "    <tr>\n",
       "      <th>10</th>\n",
       "      <td>I never declared a major</td>\n",
       "      <td>693</td>\n",
       "    </tr>\n",
       "    <tr>\n",
       "      <th>11</th>\n",
       "      <td>Health Science</td>\n",
       "      <td>246</td>\n",
       "    </tr>\n",
       "  </tbody>\n",
       "</table>\n",
       "</div>"
      ],
      "text/plain": [
       "                                        Labels  Values\n",
       "0        Computer Science/Computer Engineering   50336\n",
       "1               Another Engineering Discipline    6945\n",
       "2   Information Systems/Information Technology    6507\n",
       "3                              Natural Science    3050\n",
       "4                    Mathematics or statistics    2818\n",
       "5                Web development or web design    2418\n",
       "6                          Business Discipline    1921\n",
       "7                        Humanities Discipline    1590\n",
       "8                               Social Science    1377\n",
       "9                    Fine Arts/Performing Arts    1135\n",
       "10                    I never declared a major     693\n",
       "11                              Health Science     246"
      ]
     },
     "execution_count": 8,
     "metadata": {},
     "output_type": "execute_result"
    }
   ],
   "source": [
    "UndergradMajor_temp = Education_df[['Respondent','UndergradMajor']]\n",
    "UndergradMajor = UndergradMajor_temp.dropna()\n",
    "\n",
    "UndergradMajor_count = UndergradMajor['UndergradMajor'].value_counts()\n",
    "\n",
    "UndergradMajor_df = pd.DataFrame({'Labels' : UndergradMajor_count.index,\n",
    "                            'Values' : UndergradMajor_count.values   \n",
    "})\n",
    "\n",
    "\n",
    "plt.barh(UndergradMajor_df['Labels'], UndergradMajor_df['Values'], color='green', alpha=0.5, align=\"center\")\n",
    "plt.gca().invert_yaxis()\n",
    "plt.grid(alpha = 0.33)\n",
    "plt.title(\"Undergraduate Majors\")\n",
    "plt.xlabel(\"# of Respondents\")\n",
    "plt.savefig(\"Images/Undergraduate_Majors.png\")\n",
    "plt.show()\n",
    "\n",
    "print(f\"Total Undergraduate Major responses: {UndergradMajor_count.sum()}\")\n",
    "UndergradMajor_df"
   ]
  },
  {
   "cell_type": "code",
   "execution_count": 9,
   "metadata": {},
   "outputs": [
    {
     "data": {
      "image/png": "[encoded data removed]",
      "text/plain": [
       "<Figure size 432x288 with 1 Axes>"
      ]
     },
     "metadata": {
      "needs_background": "light"
     },
     "output_type": "display_data"
    },
    {
     "name": "stdout",
     "output_type": "stream",
     "text": [
      "Total Student Responses: 94901\n"
     ]
    },
    {
     "data": {
      "text/html": [
       "<div>\n",
       "<style scoped>\n",
       "    .dataframe tbody tr th:only-of-type {\n",
       "        vertical-align: middle;\n",
       "    }\n",
       "\n",
       "    .dataframe tbody tr th {\n",
       "        vertical-align: top;\n",
       "    }\n",
       "\n",
       "    .dataframe thead th {\n",
       "        text-align: right;\n",
       "    }\n",
       "</style>\n",
       "<table border=\"1\" class=\"dataframe\">\n",
       "  <thead>\n",
       "    <tr style=\"text-align: right;\">\n",
       "      <th></th>\n",
       "      <th>Labels</th>\n",
       "      <th>Values</th>\n",
       "    </tr>\n",
       "  </thead>\n",
       "  <tbody>\n",
       "    <tr>\n",
       "      <th>0</th>\n",
       "      <td>No</td>\n",
       "      <td>70399</td>\n",
       "    </tr>\n",
       "    <tr>\n",
       "      <th>1</th>\n",
       "      <td>Yes, full-time</td>\n",
       "      <td>18394</td>\n",
       "    </tr>\n",
       "    <tr>\n",
       "      <th>2</th>\n",
       "      <td>Yes, part-time</td>\n",
       "      <td>6108</td>\n",
       "    </tr>\n",
       "  </tbody>\n",
       "</table>\n",
       "</div>"
      ],
      "text/plain": [
       "           Labels  Values\n",
       "0              No   70399\n",
       "1  Yes, full-time   18394\n",
       "2  Yes, part-time    6108"
      ]
     },
     "execution_count": 9,
     "metadata": {},
     "output_type": "execute_result"
    }
   ],
   "source": [
    "student_temp = Education_df[['Respondent','Student']]\n",
    "student = student_temp.dropna()\n",
    "\n",
    "student_count = student['Student'].value_counts()\n",
    "\n",
    "student_df = pd.DataFrame({'Labels' : student_count.index,\n",
    "                            'Values' : student_count.values   \n",
    "})\n",
    "\n",
    "\n",
    "plt.bar(student_df['Labels'], student_df['Values'], color='blue', alpha=0.5, align=\"center\")\n",
    "plt.grid(alpha = 0.33)\n",
    "plt.title(\"Students\")\n",
    "plt.xlabel(\"# of Respondents\")\n",
    "plt.savefig(\"Images/Students.png\")\n",
    "plt.show()\n",
    "\n",
    "print(f\"Total Student Responses: {student_count.sum()}\")\n",
    "student_df"
   ]
  },
  {
   "cell_type": "code",
   "execution_count": 10,
   "metadata": {},
   "outputs": [
    {
     "data": {
      "text/plain": [
       "<function matplotlib.pyplot.show(*args, **kw)>"
      ]
     },
     "execution_count": 10,
     "metadata": {},
     "output_type": "execute_result"
    },
    {
     "data": {
      "image/png": "[encoded data removed]",
      "text/plain": [
       "<Figure size 432x288 with 1 Axes>"
      ]
     },
     "metadata": {},
     "output_type": "display_data"
    }
   ],
   "source": [
    "Hobby_Yes_df = Education_df.loc[Education_df[\"Hobby\"] == \"Yes\", :]\n",
    "Hobby_No_df = Education_df.loc[Education_df[\"Hobby\"] == \"No\", :]\n",
    "No_count = Hobby_No_df['Hobby'].count()\n",
    "Yes_count = Hobby_Yes_df['Hobby'].count()\n",
    "\n",
    "labels = [\"Yes\", \"No\"]\n",
    "\n",
    "# The values of each section of the pie chart\n",
    "sizes = [Yes_count, No_count]\n",
    "\n",
    "# The colors of each section of the pie chart\n",
    "colors = [\"lightgreen\", \"lightblue\"]\n",
    "\n",
    "\n",
    "plt.pie(sizes, labels=labels, colors=colors,  autopct=\"%1.1f%%\", shadow=True, startangle=270, )\n",
    "plt.title(\"% of Developers that Code as a Hobby\")\n",
    "\n",
    "# Save Figure\n",
    "plt.savefig(\"Images/Hobby_Percentage.png\")\n",
    "plt.show\n",
    "\n"
   ]
  },
  {
   "cell_type": "code",
   "execution_count": 11,
   "metadata": {
    "scrolled": true
   },
   "outputs": [
    {
     "data": {
      "image/png": "[encoded data removed]",
      "text/plain": [
       "<Figure size 432x288 with 1 Axes>"
      ]
     },
     "metadata": {
      "needs_background": "light"
     },
     "output_type": "display_data"
    },
    {
     "name": "stdout",
     "output_type": "stream",
     "text": [
      "Total Employment Responses: 95321\n"
     ]
    },
    {
     "data": {
      "text/html": [
       "<div>\n",
       "<style scoped>\n",
       "    .dataframe tbody tr th:only-of-type {\n",
       "        vertical-align: middle;\n",
       "    }\n",
       "\n",
       "    .dataframe tbody tr th {\n",
       "        vertical-align: top;\n",
       "    }\n",
       "\n",
       "    .dataframe thead th {\n",
       "        text-align: right;\n",
       "    }\n",
       "</style>\n",
       "<table border=\"1\" class=\"dataframe\">\n",
       "  <thead>\n",
       "    <tr style=\"text-align: right;\">\n",
       "      <th></th>\n",
       "      <th>Labels</th>\n",
       "      <th>Values</th>\n",
       "    </tr>\n",
       "  </thead>\n",
       "  <tbody>\n",
       "    <tr>\n",
       "      <th>0</th>\n",
       "      <td>Employed full-time</td>\n",
       "      <td>70495</td>\n",
       "    </tr>\n",
       "    <tr>\n",
       "      <th>1</th>\n",
       "      <td>Independent contractor, freelancer, or self-em...</td>\n",
       "      <td>9282</td>\n",
       "    </tr>\n",
       "    <tr>\n",
       "      <th>2</th>\n",
       "      <td>Not employed, but looking for work</td>\n",
       "      <td>5805</td>\n",
       "    </tr>\n",
       "    <tr>\n",
       "      <th>3</th>\n",
       "      <td>Employed part-time</td>\n",
       "      <td>5380</td>\n",
       "    </tr>\n",
       "    <tr>\n",
       "      <th>4</th>\n",
       "      <td>Not employed, and not looking for work</td>\n",
       "      <td>4132</td>\n",
       "    </tr>\n",
       "    <tr>\n",
       "      <th>5</th>\n",
       "      <td>Retired</td>\n",
       "      <td>227</td>\n",
       "    </tr>\n",
       "  </tbody>\n",
       "</table>\n",
       "</div>"
      ],
      "text/plain": [
       "                                              Labels  Values\n",
       "0                                 Employed full-time   70495\n",
       "1  Independent contractor, freelancer, or self-em...    9282\n",
       "2                 Not employed, but looking for work    5805\n",
       "3                                 Employed part-time    5380\n",
       "4             Not employed, and not looking for work    4132\n",
       "5                                            Retired     227"
      ]
     },
     "execution_count": 11,
     "metadata": {},
     "output_type": "execute_result"
    }
   ],
   "source": [
    "Employment_temp = Education_df[['Respondent','Employment']]\n",
    "Employment = Employment_temp.dropna()\n",
    "\n",
    "Employment_count = Employment['Employment'].value_counts()\n",
    "\n",
    "Employment_df = pd.DataFrame({'Labels' : Employment_count.index,\n",
    "                            'Values' : Employment_count.values   \n",
    "})\n",
    "\n",
    "\n",
    "plt.barh(Employment_df['Labels'], Employment_df['Values'], color='cyan', alpha=0.5,align=\"center\")\n",
    "plt.grid(alpha = 0.33)\n",
    "plt.title(\"Employment\")\n",
    "#plt.xticks(rotation=90)\n",
    "plt.xlabel(\"# of Respondents\")\n",
    "plt.savefig(\"Images/Employment.png\")\n",
    "plt.show()\n",
    "\n",
    "print(f\"Total Employment Responses: {Employment_count.sum()}\")\n",
    "Employment_df"
   ]
  },
  {
   "cell_type": "code",
   "execution_count": 12,
   "metadata": {},
   "outputs": [
    {
     "data": {
      "image/png": "[encoded data removed]",
      "text/plain": [
       "<Figure size 432x288 with 1 Axes>"
      ]
     },
     "metadata": {
      "needs_background": "light"
     },
     "output_type": "display_data"
    },
    {
     "name": "stdout",
     "output_type": "stream",
     "text": [
      "Total Hope Five Years Responses: 75718\n"
     ]
    },
    {
     "data": {
      "text/html": [
       "<div>\n",
       "<style scoped>\n",
       "    .dataframe tbody tr th:only-of-type {\n",
       "        vertical-align: middle;\n",
       "    }\n",
       "\n",
       "    .dataframe tbody tr th {\n",
       "        vertical-align: top;\n",
       "    }\n",
       "\n",
       "    .dataframe thead th {\n",
       "        text-align: right;\n",
       "    }\n",
       "</style>\n",
       "<table border=\"1\" class=\"dataframe\">\n",
       "  <thead>\n",
       "    <tr style=\"text-align: right;\">\n",
       "      <th></th>\n",
       "      <th>Labels</th>\n",
       "      <th>Values</th>\n",
       "    </tr>\n",
       "  </thead>\n",
       "  <tbody>\n",
       "    <tr>\n",
       "      <th>0</th>\n",
       "      <td>Working in a different or more specialized tec...</td>\n",
       "      <td>25643</td>\n",
       "    </tr>\n",
       "    <tr>\n",
       "      <th>1</th>\n",
       "      <td>Working as a founder or co-founder of my own c...</td>\n",
       "      <td>19444</td>\n",
       "    </tr>\n",
       "    <tr>\n",
       "      <th>2</th>\n",
       "      <td>Doing the same work</td>\n",
       "      <td>14724</td>\n",
       "    </tr>\n",
       "    <tr>\n",
       "      <th>3</th>\n",
       "      <td>Working as an engineering manager or other fun...</td>\n",
       "      <td>7483</td>\n",
       "    </tr>\n",
       "    <tr>\n",
       "      <th>4</th>\n",
       "      <td>Working as a product manager or project manager</td>\n",
       "      <td>5004</td>\n",
       "    </tr>\n",
       "    <tr>\n",
       "      <th>5</th>\n",
       "      <td>Working in a career completely unrelated to so...</td>\n",
       "      <td>2151</td>\n",
       "    </tr>\n",
       "    <tr>\n",
       "      <th>6</th>\n",
       "      <td>Retirement</td>\n",
       "      <td>1269</td>\n",
       "    </tr>\n",
       "  </tbody>\n",
       "</table>\n",
       "</div>"
      ],
      "text/plain": [
       "                                              Labels  Values\n",
       "0  Working in a different or more specialized tec...   25643\n",
       "1  Working as a founder or co-founder of my own c...   19444\n",
       "2                                Doing the same work   14724\n",
       "3  Working as an engineering manager or other fun...    7483\n",
       "4    Working as a product manager or project manager    5004\n",
       "5  Working in a career completely unrelated to so...    2151\n",
       "6                                         Retirement    1269"
      ]
     },
     "execution_count": 12,
     "metadata": {},
     "output_type": "execute_result"
    }
   ],
   "source": [
    "HopeFiveYears_temp = Education_df[['Respondent','HopeFiveYears']]\n",
    "HopeFiveYears = HopeFiveYears_temp.dropna()\n",
    "\n",
    "HopeFiveYears_count = HopeFiveYears['HopeFiveYears'].value_counts()\n",
    "\n",
    "HopeFiveYears_df = pd.DataFrame({'Labels' : HopeFiveYears_count.index,\n",
    "                            'Values' : HopeFiveYears_count.values   \n",
    "})\n",
    "\n",
    "\n",
    "plt.barh(HopeFiveYears_df['Labels'], HopeFiveYears_df['Values'], color='salmon', alpha=0.5, align=\"center\")\n",
    "plt.grid(alpha = 0.33)\n",
    "plt.title(\"HopeFiveYears\")\n",
    "plt.xlabel(\"# of Respondents\")\n",
    "plt.savefig(\"Images/Hope_Five_Years.png\")\n",
    "plt.show()\n",
    "\n",
    "print(f\"Total Hope Five Years Responses: {HopeFiveYears_count.sum()}\")\n",
    "HopeFiveYears_df"
   ]
  },
  {
   "cell_type": "code",
   "execution_count": 13,
   "metadata": {},
   "outputs": [
    {
     "data": {
      "image/png": "[encoded data removed]",
      "text/plain": [
       "<Figure size 432x288 with 1 Axes>"
      ]
     },
     "metadata": {
      "needs_background": "light"
     },
     "output_type": "display_data"
    },
    {
     "name": "stdout",
     "output_type": "stream",
     "text": [
      "Total Career Satisfaction Responses: 76504\n"
     ]
    },
    {
     "data": {
      "text/html": [
       "<div>\n",
       "<style scoped>\n",
       "    .dataframe tbody tr th:only-of-type {\n",
       "        vertical-align: middle;\n",
       "    }\n",
       "\n",
       "    .dataframe tbody tr th {\n",
       "        vertical-align: top;\n",
       "    }\n",
       "\n",
       "    .dataframe thead th {\n",
       "        text-align: right;\n",
       "    }\n",
       "</style>\n",
       "<table border=\"1\" class=\"dataframe\">\n",
       "  <thead>\n",
       "    <tr style=\"text-align: right;\">\n",
       "      <th></th>\n",
       "      <th>Labels</th>\n",
       "      <th>Values</th>\n",
       "    </tr>\n",
       "  </thead>\n",
       "  <tbody>\n",
       "    <tr>\n",
       "      <th>0</th>\n",
       "      <td>Moderately satisfied</td>\n",
       "      <td>27926</td>\n",
       "    </tr>\n",
       "    <tr>\n",
       "      <th>1</th>\n",
       "      <td>Extremely satisfied</td>\n",
       "      <td>14316</td>\n",
       "    </tr>\n",
       "    <tr>\n",
       "      <th>2</th>\n",
       "      <td>Slightly satisfied</td>\n",
       "      <td>13484</td>\n",
       "    </tr>\n",
       "    <tr>\n",
       "      <th>3</th>\n",
       "      <td>Slightly dissatisfied</td>\n",
       "      <td>6587</td>\n",
       "    </tr>\n",
       "    <tr>\n",
       "      <th>4</th>\n",
       "      <td>Neither satisfied nor dissatisfied</td>\n",
       "      <td>6316</td>\n",
       "    </tr>\n",
       "    <tr>\n",
       "      <th>5</th>\n",
       "      <td>Moderately dissatisfied</td>\n",
       "      <td>5262</td>\n",
       "    </tr>\n",
       "    <tr>\n",
       "      <th>6</th>\n",
       "      <td>Extremely dissatisfied</td>\n",
       "      <td>2613</td>\n",
       "    </tr>\n",
       "  </tbody>\n",
       "</table>\n",
       "</div>"
      ],
      "text/plain": [
       "                               Labels  Values\n",
       "0                Moderately satisfied   27926\n",
       "1                 Extremely satisfied   14316\n",
       "2                  Slightly satisfied   13484\n",
       "3               Slightly dissatisfied    6587\n",
       "4  Neither satisfied nor dissatisfied    6316\n",
       "5             Moderately dissatisfied    5262\n",
       "6              Extremely dissatisfied    2613"
      ]
     },
     "execution_count": 13,
     "metadata": {},
     "output_type": "execute_result"
    }
   ],
   "source": [
    "CareerSat_temp = Education_df[['Respondent','CareerSatisfaction']]\n",
    "CareerSat = CareerSat_temp.dropna()\n",
    "\n",
    "CareerSat_count = CareerSat['CareerSatisfaction'].value_counts()\n",
    "\n",
    "CareerSat_df = pd.DataFrame({'Labels' : CareerSat_count.index,\n",
    "                            'Values' : CareerSat_count.values   \n",
    "})\n",
    "\n",
    "\n",
    "plt.barh(CareerSat_df['Labels'], CareerSat_df['Values'], color='green', alpha=0.5, align=\"center\")\n",
    "plt.grid(alpha = 0.33)\n",
    "plt.title(\"Career Satisfaction\")\n",
    "plt.xlabel(\"# of Respondents\")\n",
    "plt.savefig(\"Images/Career_Satisfaction.png\")\n",
    "plt.show()\n",
    "\n",
    "print(f\"Total Career Satisfaction Responses: {CareerSat_count.sum()}\")\n",
    "CareerSat_df"
   ]
  },
  {
   "cell_type": "code",
   "execution_count": 14,
   "metadata": {},
   "outputs": [],
   "source": [
    "CareerSatisfaction_df = Education_df\n",
    "CareerSatisfaction_df[\"Ratings\"] = \"\"\n",
    "CareerSatisfaction_df[\"Hobby_convert\"] = \"\"\n",
    "\n",
    "\n",
    "def label_rating (row):\n",
    "      if row[\"CareerSatisfaction\"] == \"Extremely dissatisfied\":\n",
    "        return 1\n",
    "      if row[\"CareerSatisfaction\"] == \"Extremely satisfied\":\n",
    "        return 7\n",
    "      if row[\"CareerSatisfaction\"] == \"Moderately dissatisfied\":\n",
    "        return 2\n",
    "      if row[\"CareerSatisfaction\"] == \"Moderately satisfied\":\n",
    "        return 6\n",
    "      if row[\"CareerSatisfaction\"] == \"Neither satisfied nor dissatisfied\":\n",
    "        return 3\n",
    "      if row[\"CareerSatisfaction\"] == \"Slightly dissatisfied\":\n",
    "        return 4\n",
    "      if row[\"CareerSatisfaction\"] == \"Slightly satisfied\":\n",
    "        return 5\n",
    "      return 0\n",
    "\n",
    "CareerSatisfaction_df[\"Ratings\"] = CareerSatisfaction_df.apply(lambda row: label_rating(row), axis=1)\n",
    "\n",
    "def label_hobby (row):\n",
    "      if row[\"Hobby\"] == \"Yes\":\n",
    "        return 1\n",
    "      if row[\"Hobby\"] == \"No\":\n",
    "        return 2\n",
    "      return 0\n",
    "\n",
    "CareerSatisfaction_df[\"Hobby_convert\"] = CareerSatisfaction_df.apply(lambda row: label_hobby(row), axis=1)    \n",
    "\n",
    "CareerSatisfaction_clean_temp = CareerSatisfaction_df\n",
    "CareerSatisfaction_clean = CareerSatisfaction_clean_temp.dropna(subset=['CareerSatisfaction'], how='all')\n"
   ]
  },
  {
   "cell_type": "code",
   "execution_count": 15,
   "metadata": {},
   "outputs": [],
   "source": [
    "CS_Anova_df = CareerSatisfaction_clean[['Respondent','Ratings', 'Hobby_convert']]\n"
   ]
  },
  {
   "cell_type": "code",
   "execution_count": 16,
   "metadata": {},
   "outputs": [
    {
     "data": {
      "text/plain": [
       "6    27926\n",
       "7    14316\n",
       "5    13484\n",
       "4     6587\n",
       "3     6316\n",
       "2     5262\n",
       "1     2613\n",
       "Name: Ratings, dtype: int64"
      ]
     },
     "execution_count": 16,
     "metadata": {},
     "output_type": "execute_result"
    }
   ],
   "source": [
    "CS_group = CS_Anova_df[\"Ratings\"].value_counts()\n",
    "CS_group"
   ]
  },
  {
   "cell_type": "code",
   "execution_count": 17,
   "metadata": {},
   "outputs": [
    {
     "data": {
      "text/plain": [
       "F_onewayResult(statistic=154.62562425799004, pvalue=1.8294933058496393e-35)"
      ]
     },
     "execution_count": 17,
     "metadata": {},
     "output_type": "execute_result"
    }
   ],
   "source": [
    "group1 = CS_Anova_df[CS_Anova_df[\"Hobby_convert\"] == 1][\"Ratings\"]\n",
    "group2 = CS_Anova_df[CS_Anova_df[\"Hobby_convert\"] == 2][\"Ratings\"]\n",
    "\n",
    "\n",
    "stats.f_oneway(group1, group2)"
   ]
  },
  {
   "cell_type": "code",
   "execution_count": 18,
   "metadata": {},
   "outputs": [
    {
     "data": {
      "image/png": "[encoded data removed]",
      "text/plain": [
       "<Figure size 1440x720 with 1 Axes>"
      ]
     },
     "metadata": {
      "needs_background": "light"
     },
     "output_type": "display_data"
    }
   ],
   "source": [
    "CS_Anova_df.boxplot(\"Ratings\", by=\"Hobby_convert\", figsize=(20, 10))\n",
    "plt.savefig(\"Images/Hobby_CSat.png\")"
   ]
  },
  {
   "cell_type": "code",
   "execution_count": 20,
   "metadata": {},
   "outputs": [
    {
     "data": {
      "image/png": "[encoded data removed]",
      "text/plain": [
       "<Figure size 432x288 with 1 Axes>"
      ]
     },
     "metadata": {
      "needs_background": "light"
     },
     "output_type": "display_data"
    },
    {
     "name": "stdout",
     "output_type": "stream",
     "text": [
      "Total TimeAfterBootcamp responses: 6652\n"
     ]
    },
    {
     "data": {
      "text/html": [
       "<div>\n",
       "<style scoped>\n",
       "    .dataframe tbody tr th:only-of-type {\n",
       "        vertical-align: middle;\n",
       "    }\n",
       "\n",
       "    .dataframe tbody tr th {\n",
       "        vertical-align: top;\n",
       "    }\n",
       "\n",
       "    .dataframe thead th {\n",
       "        text-align: right;\n",
       "    }\n",
       "</style>\n",
       "<table border=\"1\" class=\"dataframe\">\n",
       "  <thead>\n",
       "    <tr style=\"text-align: right;\">\n",
       "      <th></th>\n",
       "      <th>Labels</th>\n",
       "      <th>Values</th>\n",
       "    </tr>\n",
       "  </thead>\n",
       "  <tbody>\n",
       "    <tr>\n",
       "      <th>0</th>\n",
       "      <td>Already a full-time developer</td>\n",
       "      <td>3025</td>\n",
       "    </tr>\n",
       "    <tr>\n",
       "      <th>1</th>\n",
       "      <td>Immediately after graduating</td>\n",
       "      <td>1085</td>\n",
       "    </tr>\n",
       "    <tr>\n",
       "      <th>2</th>\n",
       "      <td>One to three months</td>\n",
       "      <td>668</td>\n",
       "    </tr>\n",
       "    <tr>\n",
       "      <th>3</th>\n",
       "      <td>I haven’t gotten a developer job</td>\n",
       "      <td>581</td>\n",
       "    </tr>\n",
       "    <tr>\n",
       "      <th>4</th>\n",
       "      <td>Less than a month</td>\n",
       "      <td>496</td>\n",
       "    </tr>\n",
       "    <tr>\n",
       "      <th>5</th>\n",
       "      <td>Four to six months</td>\n",
       "      <td>347</td>\n",
       "    </tr>\n",
       "    <tr>\n",
       "      <th>6</th>\n",
       "      <td>Six months to a year</td>\n",
       "      <td>239</td>\n",
       "    </tr>\n",
       "    <tr>\n",
       "      <th>7</th>\n",
       "      <td>Longer than a year</td>\n",
       "      <td>211</td>\n",
       "    </tr>\n",
       "  </tbody>\n",
       "</table>\n",
       "</div>"
      ],
      "text/plain": [
       "                             Labels  Values\n",
       "0     Already a full-time developer    3025\n",
       "1      Immediately after graduating    1085\n",
       "2               One to three months     668\n",
       "3  I haven’t gotten a developer job     581\n",
       "4                 Less than a month     496\n",
       "5                Four to six months     347\n",
       "6              Six months to a year     239\n",
       "7                Longer than a year     211"
      ]
     },
     "execution_count": 20,
     "metadata": {},
     "output_type": "execute_result"
    }
   ],
   "source": [
    "bootcamp_temp = Education_df[['Respondent','TimeAfterBootcamp']]\n",
    "bootcamp = bootcamp_temp.dropna()\n",
    "\n",
    "bootcamp_count = bootcamp['TimeAfterBootcamp'].value_counts()\n",
    "\n",
    "bootcamp_df = pd.DataFrame({'Labels' : bootcamp_count.index,\n",
    "                            'Values' : bootcamp_count.values   \n",
    "})\n",
    "\n",
    "bootcamp_df['Labels'] = bootcamp_df['Labels'].replace({\"I already had a full-time job as a developer when I began the program\": \"Already a full-time developer\"})\n",
    "\n",
    "\n",
    "plt.barh(bootcamp_df['Labels'], bootcamp_df['Values'], color='orange', alpha=0.5, align=\"center\")\n",
    "#plt.gca().invert_yaxis()\n",
    "plt.grid(alpha = .25)\n",
    "plt.xticks(rotation=75)\n",
    "plt.title(\"Time After BootCamp\")\n",
    "plt.xlabel(\"# of Respondents\")\n",
    "plt.savefig(\"Images/Time_After_BootCamp.png\")\n",
    "plt.show()\n",
    "\n",
    "print(f\"Total TimeAfterBootcamp responses: {bootcamp_count.sum()}\")\n",
    "bootcamp_df"
   ]
  },
  {
   "cell_type": "code",
   "execution_count": null,
   "metadata": {},
   "outputs": [],
   "source": []
  }
 ],
 "metadata": {
  "kernelspec": {
   "display_name": "Python 3",
   "language": "python",
   "name": "python3"
  },
  "language_info": {
   "codemirror_mode": {
    "name": "ipython",
    "version": 3
   },
   "file_extension": ".py",
   "mimetype": "text/x-python",
   "name": "python",
   "nbconvert_exporter": "python",
   "pygments_lexer": "ipython3",
   "version": "3.7.3"
  }
 },
 "nbformat": 4,
 "nbformat_minor": 2
}
