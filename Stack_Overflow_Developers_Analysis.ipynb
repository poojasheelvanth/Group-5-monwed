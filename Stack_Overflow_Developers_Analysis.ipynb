{
 "cells": [
  {
   "cell_type": "markdown",
   "metadata": {},
   "source": [
    "# Importing all the Dependencies"
   ]
  },
  {
   "cell_type": "code",
   "execution_count": 1,
   "metadata": {},
   "outputs": [
    {
     "name": "stderr",
     "output_type": "stream",
     "text": [
      "C:\\ProgramData\\Anaconda3\\lib\\site-packages\\IPython\\core\\interactiveshell.py:3049: DtypeWarning: Columns (8,12,13,14,15,16,50,51,52,53,55,56,57,58,59,60,61,62,63,64,65,66,67,68,69,70,71,72,73,74,75,76,77,78,79,80,81,82,83,84,85,93,94,95,96,97,98,99,100,101,102,103,104,105,106,107,108,109,110,111,112,113,114,115,116,117,118,119,120,121,122,123,124,125,126,127,128) have mixed types. Specify dtype option on import or set low_memory=False.\n",
      "  interactivity=interactivity, compiler=compiler, result=result)\n"
     ]
    }
   ],
   "source": [
    "#matplotlib notebook\n",
    "%matplotlib inline\n",
    "import numpy as np\n",
    "import pandas as pd\n",
    "from config import gkey\n",
    "import matplotlib.pyplot as plt\n",
    "import gmaps\n",
    "import requests\n",
    "import json\n",
    "Data_Files =pd.read_csv(\"survey_results_public.csv\", encoding ='utf-8')"
   ]
  },
  {
   "cell_type": "code",
   "execution_count": 1,
   "metadata": {},
   "outputs": [
    {
     "name": "stderr",
     "output_type": "stream",
     "text": [
      "C:\\ProgramData\\Anaconda3\\lib\\site-packages\\IPython\\core\\interactiveshell.py:3049: DtypeWarning: Columns (8,12,13,14,15,16,50,51,52,53,55,56,57,58,59,60,61,62,63,64,65,66,67,68,69,70,71,72,73,74,75,76,77,78,79,80,81,82,83,84,85,93,94,95,96,97,98,99,100,101,102,103,104,105,106,107,108,109,110,111,112,113,114,115,116,117,118,119,120,121,122,123,124,125,126,127,128) have mixed types. Specify dtype option on import or set low_memory=False.\n",
      "  interactivity=interactivity, compiler=compiler, result=result)\n"
     ]
    }
   ],
   "source": [
    "gmaps.configure(api_key=gkey)\n",
    "GOOGLE_MAPS_API_URL = 'https://maps.googleapis.com/maps/api/geocode/json?'\n"
   ]
  },
  {
   "cell_type": "code",
   "execution_count": 2,
   "metadata": {},
   "outputs": [
    {
     "data": {
      "text/html": [
       "<div>\n",
       "<style scoped>\n",
       "    .dataframe tbody tr th:only-of-type {\n",
       "        vertical-align: middle;\n",
       "    }\n",
       "\n",
       "    .dataframe tbody tr th {\n",
       "        vertical-align: top;\n",
       "    }\n",
       "\n",
       "    .dataframe thead th {\n",
       "        text-align: right;\n",
       "    }\n",
       "</style>\n",
       "<table border=\"1\" class=\"dataframe\">\n",
       "  <thead>\n",
       "    <tr style=\"text-align: right;\">\n",
       "      <th></th>\n",
       "      <th>Respondent</th>\n",
       "      <th>Hobby</th>\n",
       "      <th>OpenSource</th>\n",
       "      <th>Country</th>\n",
       "      <th>Student</th>\n",
       "      <th>Employment</th>\n",
       "      <th>FormalEducation</th>\n",
       "      <th>UndergradMajor</th>\n",
       "      <th>CompanySize</th>\n",
       "      <th>DevType</th>\n",
       "      <th>...</th>\n",
       "      <th>Exercise</th>\n",
       "      <th>Gender</th>\n",
       "      <th>SexualOrientation</th>\n",
       "      <th>EducationParents</th>\n",
       "      <th>RaceEthnicity</th>\n",
       "      <th>Age</th>\n",
       "      <th>Dependents</th>\n",
       "      <th>MilitaryUS</th>\n",
       "      <th>SurveyTooLong</th>\n",
       "      <th>SurveyEasy</th>\n",
       "    </tr>\n",
       "  </thead>\n",
       "  <tbody>\n",
       "    <tr>\n",
       "      <th>0</th>\n",
       "      <td>1</td>\n",
       "      <td>Yes</td>\n",
       "      <td>No</td>\n",
       "      <td>Kenya</td>\n",
       "      <td>No</td>\n",
       "      <td>Employed part-time</td>\n",
       "      <td>Bachelor’s degree (BA, BS, B.Eng., etc.)</td>\n",
       "      <td>Mathematics or statistics</td>\n",
       "      <td>20 to 99 employees</td>\n",
       "      <td>Full-stack developer</td>\n",
       "      <td>...</td>\n",
       "      <td>3 - 4 times per week</td>\n",
       "      <td>Male</td>\n",
       "      <td>Straight or heterosexual</td>\n",
       "      <td>Bachelor’s degree (BA, BS, B.Eng., etc.)</td>\n",
       "      <td>Black or of African descent</td>\n",
       "      <td>25 - 34 years old</td>\n",
       "      <td>Yes</td>\n",
       "      <td>NaN</td>\n",
       "      <td>The survey was an appropriate length</td>\n",
       "      <td>Very easy</td>\n",
       "    </tr>\n",
       "    <tr>\n",
       "      <th>1</th>\n",
       "      <td>3</td>\n",
       "      <td>Yes</td>\n",
       "      <td>Yes</td>\n",
       "      <td>United Kingdom</td>\n",
       "      <td>No</td>\n",
       "      <td>Employed full-time</td>\n",
       "      <td>Bachelor’s degree (BA, BS, B.Eng., etc.)</td>\n",
       "      <td>A natural science (ex. biology, chemistry, phy...</td>\n",
       "      <td>10,000 or more employees</td>\n",
       "      <td>Database administrator;DevOps specialist;Full-...</td>\n",
       "      <td>...</td>\n",
       "      <td>Daily or almost every day</td>\n",
       "      <td>Male</td>\n",
       "      <td>Straight or heterosexual</td>\n",
       "      <td>Bachelor’s degree (BA, BS, B.Eng., etc.)</td>\n",
       "      <td>White or of European descent</td>\n",
       "      <td>35 - 44 years old</td>\n",
       "      <td>Yes</td>\n",
       "      <td>NaN</td>\n",
       "      <td>The survey was an appropriate length</td>\n",
       "      <td>Somewhat easy</td>\n",
       "    </tr>\n",
       "    <tr>\n",
       "      <th>2</th>\n",
       "      <td>4</td>\n",
       "      <td>Yes</td>\n",
       "      <td>Yes</td>\n",
       "      <td>United States</td>\n",
       "      <td>No</td>\n",
       "      <td>Employed full-time</td>\n",
       "      <td>Associate degree</td>\n",
       "      <td>Computer science, computer engineering, or sof...</td>\n",
       "      <td>20 to 99 employees</td>\n",
       "      <td>Engineering manager;Full-stack developer</td>\n",
       "      <td>...</td>\n",
       "      <td>NaN</td>\n",
       "      <td>NaN</td>\n",
       "      <td>NaN</td>\n",
       "      <td>NaN</td>\n",
       "      <td>NaN</td>\n",
       "      <td>NaN</td>\n",
       "      <td>NaN</td>\n",
       "      <td>NaN</td>\n",
       "      <td>NaN</td>\n",
       "      <td>NaN</td>\n",
       "    </tr>\n",
       "    <tr>\n",
       "      <th>3</th>\n",
       "      <td>5</td>\n",
       "      <td>No</td>\n",
       "      <td>No</td>\n",
       "      <td>United States</td>\n",
       "      <td>No</td>\n",
       "      <td>Employed full-time</td>\n",
       "      <td>Bachelor’s degree (BA, BS, B.Eng., etc.)</td>\n",
       "      <td>Computer science, computer engineering, or sof...</td>\n",
       "      <td>100 to 499 employees</td>\n",
       "      <td>Full-stack developer</td>\n",
       "      <td>...</td>\n",
       "      <td>I don't typically exercise</td>\n",
       "      <td>Male</td>\n",
       "      <td>Straight or heterosexual</td>\n",
       "      <td>Some college/university study without earning ...</td>\n",
       "      <td>White or of European descent</td>\n",
       "      <td>35 - 44 years old</td>\n",
       "      <td>No</td>\n",
       "      <td>No</td>\n",
       "      <td>The survey was an appropriate length</td>\n",
       "      <td>Somewhat easy</td>\n",
       "    </tr>\n",
       "    <tr>\n",
       "      <th>4</th>\n",
       "      <td>7</td>\n",
       "      <td>Yes</td>\n",
       "      <td>No</td>\n",
       "      <td>South Africa</td>\n",
       "      <td>Yes, part-time</td>\n",
       "      <td>Employed full-time</td>\n",
       "      <td>Some college/university study without earning ...</td>\n",
       "      <td>Computer science, computer engineering, or sof...</td>\n",
       "      <td>10,000 or more employees</td>\n",
       "      <td>Data or business analyst;Desktop or enterprise...</td>\n",
       "      <td>...</td>\n",
       "      <td>3 - 4 times per week</td>\n",
       "      <td>Male</td>\n",
       "      <td>Straight or heterosexual</td>\n",
       "      <td>Some college/university study without earning ...</td>\n",
       "      <td>White or of European descent</td>\n",
       "      <td>18 - 24 years old</td>\n",
       "      <td>Yes</td>\n",
       "      <td>NaN</td>\n",
       "      <td>The survey was an appropriate length</td>\n",
       "      <td>Somewhat easy</td>\n",
       "    </tr>\n",
       "  </tbody>\n",
       "</table>\n",
       "<p>5 rows × 129 columns</p>\n",
       "</div>"
      ],
      "text/plain": [
       "   Respondent Hobby OpenSource         Country         Student  \\\n",
       "0           1   Yes         No           Kenya              No   \n",
       "1           3   Yes        Yes  United Kingdom              No   \n",
       "2           4   Yes        Yes   United States              No   \n",
       "3           5    No         No   United States              No   \n",
       "4           7   Yes         No    South Africa  Yes, part-time   \n",
       "\n",
       "           Employment                                    FormalEducation  \\\n",
       "0  Employed part-time           Bachelor’s degree (BA, BS, B.Eng., etc.)   \n",
       "1  Employed full-time           Bachelor’s degree (BA, BS, B.Eng., etc.)   \n",
       "2  Employed full-time                                   Associate degree   \n",
       "3  Employed full-time           Bachelor’s degree (BA, BS, B.Eng., etc.)   \n",
       "4  Employed full-time  Some college/university study without earning ...   \n",
       "\n",
       "                                      UndergradMajor  \\\n",
       "0                          Mathematics or statistics   \n",
       "1  A natural science (ex. biology, chemistry, phy...   \n",
       "2  Computer science, computer engineering, or sof...   \n",
       "3  Computer science, computer engineering, or sof...   \n",
       "4  Computer science, computer engineering, or sof...   \n",
       "\n",
       "                CompanySize  \\\n",
       "0        20 to 99 employees   \n",
       "1  10,000 or more employees   \n",
       "2        20 to 99 employees   \n",
       "3      100 to 499 employees   \n",
       "4  10,000 or more employees   \n",
       "\n",
       "                                             DevType  ...  \\\n",
       "0                               Full-stack developer  ...   \n",
       "1  Database administrator;DevOps specialist;Full-...  ...   \n",
       "2           Engineering manager;Full-stack developer  ...   \n",
       "3                               Full-stack developer  ...   \n",
       "4  Data or business analyst;Desktop or enterprise...  ...   \n",
       "\n",
       "                     Exercise Gender         SexualOrientation  \\\n",
       "0        3 - 4 times per week   Male  Straight or heterosexual   \n",
       "1   Daily or almost every day   Male  Straight or heterosexual   \n",
       "2                         NaN    NaN                       NaN   \n",
       "3  I don't typically exercise   Male  Straight or heterosexual   \n",
       "4        3 - 4 times per week   Male  Straight or heterosexual   \n",
       "\n",
       "                                    EducationParents  \\\n",
       "0           Bachelor’s degree (BA, BS, B.Eng., etc.)   \n",
       "1           Bachelor’s degree (BA, BS, B.Eng., etc.)   \n",
       "2                                                NaN   \n",
       "3  Some college/university study without earning ...   \n",
       "4  Some college/university study without earning ...   \n",
       "\n",
       "                  RaceEthnicity                Age Dependents  MilitaryUS  \\\n",
       "0   Black or of African descent  25 - 34 years old        Yes         NaN   \n",
       "1  White or of European descent  35 - 44 years old        Yes         NaN   \n",
       "2                           NaN                NaN        NaN         NaN   \n",
       "3  White or of European descent  35 - 44 years old         No          No   \n",
       "4  White or of European descent  18 - 24 years old        Yes         NaN   \n",
       "\n",
       "                          SurveyTooLong     SurveyEasy  \n",
       "0  The survey was an appropriate length      Very easy  \n",
       "1  The survey was an appropriate length  Somewhat easy  \n",
       "2                                   NaN            NaN  \n",
       "3  The survey was an appropriate length  Somewhat easy  \n",
       "4  The survey was an appropriate length  Somewhat easy  \n",
       "\n",
       "[5 rows x 129 columns]"
      ]
     },
     "execution_count": 2,
     "metadata": {},
     "output_type": "execute_result"
    }
   ],
   "source": [
    "Data_Files.head()"
   ]
  },
  {
   "cell_type": "markdown",
   "metadata": {},
   "source": [
    "# Age Demographics"
   ]
  },
  {
   "cell_type": "markdown",
   "metadata": {},
   "source": [
    "* Categorized the existing developers using the age bins\n",
    "* Calculated the numbers and percentages by age group\n",
    "* Created a summary data frame to hold the results\n"
   ]
  },
  {
   "cell_type": "code",
   "execution_count": 193,
   "metadata": {},
   "outputs": [
    {
     "data": {
      "text/html": [
       "<div>\n",
       "<style scoped>\n",
       "    .dataframe tbody tr th:only-of-type {\n",
       "        vertical-align: middle;\n",
       "    }\n",
       "\n",
       "    .dataframe tbody tr th {\n",
       "        vertical-align: top;\n",
       "    }\n",
       "\n",
       "    .dataframe thead th {\n",
       "        text-align: right;\n",
       "    }\n",
       "</style>\n",
       "<table border=\"1\" class=\"dataframe\">\n",
       "  <thead>\n",
       "    <tr style=\"text-align: right;\">\n",
       "      <th></th>\n",
       "      <th>Country</th>\n",
       "      <th>Gender</th>\n",
       "      <th>Age</th>\n",
       "    </tr>\n",
       "  </thead>\n",
       "  <tbody>\n",
       "    <tr>\n",
       "      <th>0</th>\n",
       "      <td>Kenya</td>\n",
       "      <td>Male</td>\n",
       "      <td>25-34</td>\n",
       "    </tr>\n",
       "    <tr>\n",
       "      <th>1</th>\n",
       "      <td>United Kingdom</td>\n",
       "      <td>Male</td>\n",
       "      <td>35 - 44</td>\n",
       "    </tr>\n",
       "    <tr>\n",
       "      <th>2</th>\n",
       "      <td>United States</td>\n",
       "      <td>NaN</td>\n",
       "      <td>NaN</td>\n",
       "    </tr>\n",
       "    <tr>\n",
       "      <th>3</th>\n",
       "      <td>United States</td>\n",
       "      <td>Male</td>\n",
       "      <td>35 - 44</td>\n",
       "    </tr>\n",
       "    <tr>\n",
       "      <th>4</th>\n",
       "      <td>South Africa</td>\n",
       "      <td>Male</td>\n",
       "      <td>18 - 24</td>\n",
       "    </tr>\n",
       "  </tbody>\n",
       "</table>\n",
       "</div>"
      ],
      "text/plain": [
       "          Country Gender      Age\n",
       "0           Kenya   Male    25-34\n",
       "1  United Kingdom   Male  35 - 44\n",
       "2   United States    NaN      NaN\n",
       "3   United States   Male  35 - 44\n",
       "4    South Africa   Male  18 - 24"
      ]
     },
     "execution_count": 193,
     "metadata": {},
     "output_type": "execute_result"
    }
   ],
   "source": [
    "Age_Gender_DF = Data_Files.loc[:,[\"Country\",\"Gender\",\"Age\"]]\n",
    "Age_Gender_DF[\"Age\"]= Age_Gender_DF[\"Age\"].replace({\"25 - 34 years old\":\"25-34\",\"18 - 24 years old\":\"18 - 24\",\"35 - 44 years old\":\"35 - 44\",\"45 - 54 years old\":\"45 - 54\",\"Under 18 years old\":\"< 18\",\"55 - 64 years old\":\"55 - 64\",\"65 years or older\":\"> 65\"})\n",
    "Age_Gender_DF[\"Age\"].value_counts()\n",
    "Age_Gender_DF.head()"
   ]
  },
  {
   "cell_type": "markdown",
   "metadata": {},
   "source": [
    "*Data Cleaning for Gender Demographics\n",
    "\n",
    "*Cleaned Gender Column to just Three Gender Groups: Male, Female, Other / Non-Disclosed\n",
    "\n",
    "*Rounded the percentage column to two decimal points\n",
    "\n",
    "*Display Age Demographics Table\n"
   ]
  },
  {
   "cell_type": "code",
   "execution_count": null,
   "metadata": {},
   "outputs": [],
   "source": []
  },
  {
   "cell_type": "code",
   "execution_count": 217,
   "metadata": {},
   "outputs": [
    {
     "data": {
      "text/html": [
       "<div>\n",
       "<style scoped>\n",
       "    .dataframe tbody tr th:only-of-type {\n",
       "        vertical-align: middle;\n",
       "    }\n",
       "\n",
       "    .dataframe tbody tr th {\n",
       "        vertical-align: top;\n",
       "    }\n",
       "\n",
       "    .dataframe thead th {\n",
       "        text-align: right;\n",
       "    }\n",
       "</style>\n",
       "<table border=\"1\" class=\"dataframe\">\n",
       "  <thead>\n",
       "    <tr style=\"text-align: right;\">\n",
       "      <th></th>\n",
       "      <th>Gender</th>\n",
       "      <th>Percentage Of Developers</th>\n",
       "    </tr>\n",
       "  </thead>\n",
       "  <tbody>\n",
       "    <tr>\n",
       "      <th>Male</th>\n",
       "      <td>58658</td>\n",
       "      <td>92.55</td>\n",
       "    </tr>\n",
       "    <tr>\n",
       "      <th>Female</th>\n",
       "      <td>4145</td>\n",
       "      <td>6.54</td>\n",
       "    </tr>\n",
       "    <tr>\n",
       "      <th>Other / Non-Disclosed</th>\n",
       "      <td>579</td>\n",
       "      <td>0.91</td>\n",
       "    </tr>\n",
       "  </tbody>\n",
       "</table>\n",
       "</div>"
      ],
      "text/plain": [
       "                       Gender  Percentage Of Developers\n",
       "Male                    58658                     92.55\n",
       "Female                   4145                      6.54\n",
       "Other / Non-Disclosed     579                      0.91"
      ]
     },
     "execution_count": 217,
     "metadata": {},
     "output_type": "execute_result"
    }
   ],
   "source": [
    "Age_Gender_DF[\"Gender\"]=Age_Gender_DF[\"Gender\"].replace({\"Non-binary, genderqueer, or gender non-conforming\":\"Other / Non-Disclosed\",\"Female;Transgender\":\"Female\",\\\n",
    "                                                        \"Male;Non-binary, genderqueer, or gender non-conforming\":\"Male\",\"Transgender\":\"Other / Non-Disclosed\",\"Female;Male\":\"Other / Non-Disclosed\",\\\n",
    "                                                        \"Transgender;Non-binary, genderqueer, or gender non-conforming\":\"Other / Non-Disclosed\",\"Female;Non-binary, genderqueer, or gender non-conforming\":\"Female\",\\\n",
    "                                                         \"Female;Male;Transgender;Non-binary, genderqueer, or gender non-conforming\":\"Other / Non-Disclosed\",\"Male;Transgender\":\"Male\",\"Female;Transgender;Non-binary, genderqueer, or gender non-conforming\":\"Female\",\\\n",
    "                                                         \"Female;Male;Transgender\":\"Other / Non-Disclosed\",\"Male;Transgender;Non-binary, genderqueer, or gender non-conforming\":\"Male\",\\\n",
    "                                                        \"Female;Male;Non-binary, genderqueer, or gender non-conforming\":\"Other / Non-Disclosed\"})\n",
    "Count_Gender= Age_Gender_DF[\"Gender\"].value_counts()\n",
    "Gender_df=pd.DataFrame(Count_Gender)\n",
    "Tot= Count_Gender.sum()\n",
    "Gender_df[\"Percentage Of Developers\"]=round(Count_Gender*100/Tot,2)\n",
    "Gender_df"
   ]
  },
  {
   "cell_type": "code",
   "execution_count": 218,
   "metadata": {},
   "outputs": [
    {
     "data": {
      "image/png": "[encoded data removed]",
      "text/plain": [
       "<Figure size 432x288 with 1 Axes>"
      ]
     },
     "metadata": {},
     "output_type": "display_data"
    }
   ],
   "source": [
    "Labels= [\"Male\",\"Female\",\"Other/ Non-Disclosed\"]\n",
    "Sizes =Gender_df[\"Percentage Of Developers\"].values\n",
    "colors = [\"dodgerblue\", \"deeppink\", \"salmon\"]\n",
    "explode = (0.2, 0, 0)\n",
    "plt.pie(Sizes, explode=explode, labels=Labels, colors=colors,\n",
    "        autopct=\"%1.1f%%\", shadow=True, startangle=140,counterclock=False,pctdistance =0.6)\n",
    "plt.title(\"Percentage of Developers based on Gender\")\n",
    "plt.axis(\"normal\")\n",
    "# Save Figure\n",
    "plt.savefig(\"Images/Gender_Percentage.png\")\n",
    "plt.show()"
   ]
  },
  {
   "cell_type": "markdown",
   "metadata": {},
   "source": [
    "# Gender Demographics"
   ]
  },
  {
   "cell_type": "markdown",
   "metadata": {},
   "source": [
    "*Created DataFrame to Analyze Gender Demographics using Country, Age Group, Gender\n",
    "\n",
    "*Cleaned the Data to Remove NAs"
   ]
  },
  {
   "cell_type": "code",
   "execution_count": 221,
   "metadata": {},
   "outputs": [
    {
     "data": {
      "text/plain": [
       "25-34      31203\n",
       "18 - 24    14956\n",
       "35 - 44    11276\n",
       "45 - 54     3243\n",
       "< 18        1596\n",
       "55 - 64      937\n",
       "> 65         171\n",
       "Name: Age, dtype: int64"
      ]
     },
     "execution_count": 221,
     "metadata": {},
     "output_type": "execute_result"
    }
   ],
   "source": [
    "Age_Gender_DF =Age_Gender_DF.dropna()\n",
    "Age_Gender_DF[\"Age\"].value_counts()"
   ]
  },
  {
   "cell_type": "markdown",
   "metadata": {},
   "source": [
    "# DataFrames by Gender and Age Group"
   ]
  },
  {
   "cell_type": "code",
   "execution_count": 228,
   "metadata": {},
   "outputs": [
    {
     "data": {
      "text/html": [
       "<div>\n",
       "<style scoped>\n",
       "    .dataframe tbody tr th:only-of-type {\n",
       "        vertical-align: middle;\n",
       "    }\n",
       "\n",
       "    .dataframe tbody tr th {\n",
       "        vertical-align: top;\n",
       "    }\n",
       "\n",
       "    .dataframe thead th {\n",
       "        text-align: right;\n",
       "    }\n",
       "</style>\n",
       "<table border=\"1\" class=\"dataframe\">\n",
       "  <thead>\n",
       "    <tr style=\"text-align: right;\">\n",
       "      <th></th>\n",
       "      <th>Gender</th>\n",
       "      <th>Number Of Developers</th>\n",
       "      <th>Percentage of Developers</th>\n",
       "    </tr>\n",
       "  </thead>\n",
       "  <tbody>\n",
       "    <tr>\n",
       "      <th>25-34</th>\n",
       "      <td>Male</td>\n",
       "      <td>28756</td>\n",
       "      <td>49.02</td>\n",
       "    </tr>\n",
       "    <tr>\n",
       "      <th>18 - 24</th>\n",
       "      <td>Male</td>\n",
       "      <td>13651</td>\n",
       "      <td>23.27</td>\n",
       "    </tr>\n",
       "    <tr>\n",
       "      <th>35 - 44</th>\n",
       "      <td>Male</td>\n",
       "      <td>10660</td>\n",
       "      <td>18.17</td>\n",
       "    </tr>\n",
       "    <tr>\n",
       "      <th>45 - 54</th>\n",
       "      <td>Male</td>\n",
       "      <td>3056</td>\n",
       "      <td>5.21</td>\n",
       "    </tr>\n",
       "    <tr>\n",
       "      <th>&lt; 18</th>\n",
       "      <td>Male</td>\n",
       "      <td>1505</td>\n",
       "      <td>2.57</td>\n",
       "    </tr>\n",
       "    <tr>\n",
       "      <th>55 - 64</th>\n",
       "      <td>Male</td>\n",
       "      <td>877</td>\n",
       "      <td>1.50</td>\n",
       "    </tr>\n",
       "    <tr>\n",
       "      <th>&gt; 65</th>\n",
       "      <td>Male</td>\n",
       "      <td>153</td>\n",
       "      <td>0.26</td>\n",
       "    </tr>\n",
       "  </tbody>\n",
       "</table>\n",
       "</div>"
      ],
      "text/plain": [
       "        Gender  Number Of Developers  Percentage of Developers\n",
       "25-34     Male                 28756                     49.02\n",
       "18 - 24   Male                 13651                     23.27\n",
       "35 - 44   Male                 10660                     18.17\n",
       "45 - 54   Male                  3056                      5.21\n",
       "< 18      Male                  1505                      2.57\n",
       "55 - 64   Male                   877                      1.50\n",
       "> 65      Male                   153                      0.26"
      ]
     },
     "execution_count": 228,
     "metadata": {},
     "output_type": "execute_result"
    }
   ],
   "source": [
    "Age_Male_DF=Age_Gender_DF.loc[Age_Gender_DF[\"Gender\"]==\"Male\",:]\n",
    "Male_Age = Age_Male_DF[\"Age\"].value_counts()\n",
    "Male_Age_df = pd.DataFrame({\"Gender\":\"Male\",\"Number Of Developers\": Male_Age})\n",
    "Male_Age_df[\"Percentage of Developers\"]=round(Male_Age_df[\"Number Of Developers\"]*100/Male_Age_df[\"Number Of Developers\"].sum(),2)\n",
    "Male_Age_df"
   ]
  },
  {
   "cell_type": "code",
   "execution_count": 241,
   "metadata": {},
   "outputs": [
    {
     "data": {
      "image/png": "[encoded data removed]",
      "text/plain": [
       "<Figure size 360x360 with 1 Axes>"
      ]
     },
     "metadata": {
      "needs_background": "light"
     },
     "output_type": "display_data"
    }
   ],
   "source": [
    "plt.figure(figsize=(5,5))\n",
    "x_axis_male=Male_Age_df.index.values\n",
    "plt.bar(x_axis_male, Male_Age_df[\"Number Of Developers\"], align='center', alpha=0.85, color =\"dodgerblue\")\n",
    "plt.title(\"Male Developers vs Age Group\")\n",
    "plt.xlabel(\"Age Groups\")\n",
    "plt.xticks(rotation=45)\n",
    "plt.ylabel(\"Number of Developers\")\n",
    "plt.savefig(\"Images/Male Developers vs Age Group.png\")\n",
    "plt.show()"
   ]
  },
  {
   "cell_type": "code",
   "execution_count": 232,
   "metadata": {},
   "outputs": [
    {
     "data": {
      "text/html": [
       "<div>\n",
       "<style scoped>\n",
       "    .dataframe tbody tr th:only-of-type {\n",
       "        vertical-align: middle;\n",
       "    }\n",
       "\n",
       "    .dataframe tbody tr th {\n",
       "        vertical-align: top;\n",
       "    }\n",
       "\n",
       "    .dataframe thead th {\n",
       "        text-align: right;\n",
       "    }\n",
       "</style>\n",
       "<table border=\"1\" class=\"dataframe\">\n",
       "  <thead>\n",
       "    <tr style=\"text-align: right;\">\n",
       "      <th></th>\n",
       "      <th>Gender</th>\n",
       "      <th>Number Of Developers</th>\n",
       "      <th>Percentage of Developers</th>\n",
       "    </tr>\n",
       "  </thead>\n",
       "  <tbody>\n",
       "    <tr>\n",
       "      <th>25-34</th>\n",
       "      <td>Female</td>\n",
       "      <td>2189</td>\n",
       "      <td>52.81</td>\n",
       "    </tr>\n",
       "    <tr>\n",
       "      <th>18 - 24</th>\n",
       "      <td>Female</td>\n",
       "      <td>1117</td>\n",
       "      <td>26.95</td>\n",
       "    </tr>\n",
       "    <tr>\n",
       "      <th>35 - 44</th>\n",
       "      <td>Female</td>\n",
       "      <td>557</td>\n",
       "      <td>13.44</td>\n",
       "    </tr>\n",
       "    <tr>\n",
       "      <th>45 - 54</th>\n",
       "      <td>Female</td>\n",
       "      <td>168</td>\n",
       "      <td>4.05</td>\n",
       "    </tr>\n",
       "    <tr>\n",
       "      <th>&lt; 18</th>\n",
       "      <td>Female</td>\n",
       "      <td>54</td>\n",
       "      <td>1.30</td>\n",
       "    </tr>\n",
       "    <tr>\n",
       "      <th>55 - 64</th>\n",
       "      <td>Female</td>\n",
       "      <td>52</td>\n",
       "      <td>1.25</td>\n",
       "    </tr>\n",
       "    <tr>\n",
       "      <th>&gt; 65</th>\n",
       "      <td>Female</td>\n",
       "      <td>8</td>\n",
       "      <td>0.19</td>\n",
       "    </tr>\n",
       "  </tbody>\n",
       "</table>\n",
       "</div>"
      ],
      "text/plain": [
       "         Gender  Number Of Developers  Percentage of Developers\n",
       "25-34    Female                  2189                     52.81\n",
       "18 - 24  Female                  1117                     26.95\n",
       "35 - 44  Female                   557                     13.44\n",
       "45 - 54  Female                   168                      4.05\n",
       "< 18     Female                    54                      1.30\n",
       "55 - 64  Female                    52                      1.25\n",
       "> 65     Female                     8                      0.19"
      ]
     },
     "execution_count": 232,
     "metadata": {},
     "output_type": "execute_result"
    }
   ],
   "source": [
    "Age_Female_DF=Age_Gender_DF.loc[Age_Gender_DF[\"Gender\"]==\"Female\",:]\n",
    "Female_Age = Age_Female_DF[\"Age\"].value_counts()\n",
    "Female_Age_df = pd.DataFrame({\"Gender\":\"Female\",\"Number Of Developers\": Female_Age})\n",
    "Female_Age_df[\"Percentage of Developers\"]=round(Female_Age_df[\"Number Of Developers\"]*100/Female_Age_df[\"Number Of Developers\"].sum(),2)\n",
    "Female_Age_df"
   ]
  },
  {
   "cell_type": "code",
   "execution_count": 242,
   "metadata": {},
   "outputs": [
    {
     "data": {
      "image/png": "[encoded data removed]",
      "text/plain": [
       "<Figure size 360x360 with 1 Axes>"
      ]
     },
     "metadata": {
      "needs_background": "light"
     },
     "output_type": "display_data"
    }
   ],
   "source": [
    "plt.figure(figsize=(5,5))\n",
    "x_axis_female=Female_Age_df.index.values\n",
    "plt.bar(x_axis_female, Female_Age_df[\"Number Of Developers\"], align='center', alpha=0.85,color= \"deeppink\")\n",
    "plt.title(\"Female Developers vs Age Group\")\n",
    "plt.xlabel(\"Age Groups\")\n",
    "plt.xticks(rotation=45)\n",
    "plt.ylabel(\"Number of Developers\")\n",
    "plt.savefig(\"Images/Female Developers vs Age Group.png\")\n",
    "plt.show()"
   ]
  },
  {
   "cell_type": "code",
   "execution_count": 235,
   "metadata": {},
   "outputs": [
    {
     "data": {
      "text/html": [
       "<div>\n",
       "<style scoped>\n",
       "    .dataframe tbody tr th:only-of-type {\n",
       "        vertical-align: middle;\n",
       "    }\n",
       "\n",
       "    .dataframe tbody tr th {\n",
       "        vertical-align: top;\n",
       "    }\n",
       "\n",
       "    .dataframe thead th {\n",
       "        text-align: right;\n",
       "    }\n",
       "</style>\n",
       "<table border=\"1\" class=\"dataframe\">\n",
       "  <thead>\n",
       "    <tr style=\"text-align: right;\">\n",
       "      <th></th>\n",
       "      <th>Gender</th>\n",
       "      <th>Number Of Developers</th>\n",
       "      <th>Percentage of Developers</th>\n",
       "    </tr>\n",
       "  </thead>\n",
       "  <tbody>\n",
       "    <tr>\n",
       "      <th>25-34</th>\n",
       "      <td>Other / Non-Disclosed</td>\n",
       "      <td>258</td>\n",
       "      <td>44.56</td>\n",
       "    </tr>\n",
       "    <tr>\n",
       "      <th>18 - 24</th>\n",
       "      <td>Other / Non-Disclosed</td>\n",
       "      <td>188</td>\n",
       "      <td>32.47</td>\n",
       "    </tr>\n",
       "    <tr>\n",
       "      <th>35 - 44</th>\n",
       "      <td>Other / Non-Disclosed</td>\n",
       "      <td>59</td>\n",
       "      <td>10.19</td>\n",
       "    </tr>\n",
       "    <tr>\n",
       "      <th>&lt; 18</th>\n",
       "      <td>Other / Non-Disclosed</td>\n",
       "      <td>37</td>\n",
       "      <td>6.39</td>\n",
       "    </tr>\n",
       "    <tr>\n",
       "      <th>45 - 54</th>\n",
       "      <td>Other / Non-Disclosed</td>\n",
       "      <td>19</td>\n",
       "      <td>3.28</td>\n",
       "    </tr>\n",
       "    <tr>\n",
       "      <th>&gt; 65</th>\n",
       "      <td>Other / Non-Disclosed</td>\n",
       "      <td>10</td>\n",
       "      <td>1.73</td>\n",
       "    </tr>\n",
       "    <tr>\n",
       "      <th>55 - 64</th>\n",
       "      <td>Other / Non-Disclosed</td>\n",
       "      <td>8</td>\n",
       "      <td>1.38</td>\n",
       "    </tr>\n",
       "  </tbody>\n",
       "</table>\n",
       "</div>"
      ],
      "text/plain": [
       "                        Gender  Number Of Developers  Percentage of Developers\n",
       "25-34    Other / Non-Disclosed                   258                     44.56\n",
       "18 - 24  Other / Non-Disclosed                   188                     32.47\n",
       "35 - 44  Other / Non-Disclosed                    59                     10.19\n",
       "< 18     Other / Non-Disclosed                    37                      6.39\n",
       "45 - 54  Other / Non-Disclosed                    19                      3.28\n",
       "> 65     Other / Non-Disclosed                    10                      1.73\n",
       "55 - 64  Other / Non-Disclosed                     8                      1.38"
      ]
     },
     "execution_count": 235,
     "metadata": {},
     "output_type": "execute_result"
    }
   ],
   "source": [
    "Age_Other_DF=Age_Gender_DF.loc[Age_Gender_DF[\"Gender\"]==\"Other / Non-Disclosed\",:]\n",
    "Other_Age = Age_Other_DF[\"Age\"].value_counts()\n",
    "Other_Age_df = pd.DataFrame({\"Gender\":\"Other / Non-Disclosed\",\"Number Of Developers\": Other_Age})\n",
    "Other_Age_df[\"Percentage of Developers\"]=round(Other_Age_df[\"Number Of Developers\"]*100/Other_Age_df[\"Number Of Developers\"].sum(),2)\n",
    "Other_Age_df\n"
   ]
  },
  {
   "cell_type": "code",
   "execution_count": 244,
   "metadata": {},
   "outputs": [
    {
     "data": {
      "image/png": "[encoded data removed]",
      "text/plain": [
       "<Figure size 360x360 with 1 Axes>"
      ]
     },
     "metadata": {
      "needs_background": "light"
     },
     "output_type": "display_data"
    }
   ],
   "source": [
    "plt.figure(figsize=(5,5))\n",
    "x_axis=Other_Age_df.index.values\n",
    "plt.bar(x_axis, Other_Age_df[\"Number Of Developers\"], align='center', alpha=0.85,color= \"salmon\")\n",
    "plt.title(\"Other / Non-Disclosed Responders vs Age Group\")\n",
    "plt.xlabel(\"Age Groups\")\n",
    "plt.xticks(rotation=45)\n",
    "plt.ylabel(\"Number of Responders\")\n",
    "plt.savefig(\"Images/Other-Non-Disclosed Responders vs Age Group.png\")\n",
    "plt.show()"
   ]
  },
  {
   "cell_type": "code",
   "execution_count": 245,
   "metadata": {},
   "outputs": [
    {
     "data": {
      "text/plain": [
       "Text(2.5, 0.5, 'Number of Developers')"
      ]
     },
     "execution_count": 245,
     "metadata": {},
     "output_type": "execute_result"
    },
    {
     "data": {
      "image/png": "[encoded data removed]",
      "text/plain": [
       "<Figure size 360x360 with 1 Axes>"
      ]
     },
     "metadata": {
      "needs_background": "light"
     },
     "output_type": "display_data"
    }
   ],
   "source": [
    "x_axis = np.arange(7)\n",
    "plt.figure(figsize=(5,5))\n",
    "bar_width = 0.25\n",
    "opacity = 0.8\n",
    "male_plot = plt.bar(x_axis, Male_Age_df[\"Number Of Developers\"],bar_width, align='center', alpha=0.85, color =\"dodgerblue\", Label =\"Male\")\n",
    "female_plot =plt.bar(x_axis+bar_width, Female_Age_df[\"Number Of Developers\"],bar_width, align='center', alpha=0.85,color= \"deeppink\", Label=\"Female\")\n",
    "Others_plot=plt.bar(x_axis+bar_width+bar_width, Other_Age_df[\"Number Of Developers\"], bar_width,align='center', alpha=0.85,color= \"salmon\",Label=\"Other / Non-Disclosed\")\n",
    "plt.title(\"Number Of Developers vs Age Group\")\n",
    "plt.xlabel(\"Age Groups\")\n",
    "#plt.ylim(0,500)\n",
    "plt.xticks(x_axis + bar_width, (\"25-34\",\"18-24\",\"35-44\",\"45-54\",\"<18\",\"55-64\",\">65\"),rotation=45)\n",
    "plt.legend((male_plot,female_plot,Others_plot),(\"Male\",\"Female\",\"Other / Non-Disclosed\"))\n",
    "plt.savefig(\"Images/Number Of Developers vs Age Group.png\")\n",
    "plt.ylabel(\"Number of Developers\")\n"
   ]
  },
  {
   "cell_type": "code",
   "execution_count": null,
   "metadata": {},
   "outputs": [],
   "source": []
  },
  {
   "cell_type": "markdown",
   "metadata": {},
   "source": [
    "# Female DataFrame"
   ]
  },
  {
   "cell_type": "code",
   "execution_count": 6,
   "metadata": {},
   "outputs": [],
   "source": [
    "\n",
    "Demographics_Female = Demographics_Gender.loc[(Demographics_Gender[\"Gender\"]==\"Female\"),:]\n",
    "Demographics_Female.reset_index(level=0, inplace=True)\n",
    "Female_Responders=  Demographics_Female[\"Country\"].value_counts()\n",
    "df_Female=pd.DataFrame(Female_Responders)\n",
    "df_Female=df_Female.drop(\"Other Country (Not Listed Above)\", axis=0)\n",
    "df_Female[\"Gender\"]=\"Female\"\n",
    "df_Female.reset_index(level=0, inplace=True)\n",
    "df_Female=df_Female.rename(columns = {\"index\":\"Country\",\"Country\": \"Number Of Responders\"})\n",
    "df_Female[\"Longitude\"]=\"\"\n",
    "df_Female[\"Latitude\"]=\"\"\n",
    "\n",
    "for index, row in df_Female.iterrows():\n",
    "    address = row['Country']\n",
    "    params = {'address': address,'key':gkey}\n",
    "    Response= requests.get(GOOGLE_MAPS_API_URL, params=params).json()\n",
    "    df_Female.loc[index, 'Longitude']=Response[\"results\"][0][\"geometry\"][\"location\"][\"lng\"]\n",
    "    df_Female.loc[index, 'Latitude']=Response[\"results\"][0][\"geometry\"][\"location\"][\"lat\"]\n"
   ]
  },
  {
   "cell_type": "code",
   "execution_count": 7,
   "metadata": {},
   "outputs": [
    {
     "data": {
      "text/html": [
       "<div>\n",
       "<style scoped>\n",
       "    .dataframe tbody tr th:only-of-type {\n",
       "        vertical-align: middle;\n",
       "    }\n",
       "\n",
       "    .dataframe tbody tr th {\n",
       "        vertical-align: top;\n",
       "    }\n",
       "\n",
       "    .dataframe thead th {\n",
       "        text-align: right;\n",
       "    }\n",
       "</style>\n",
       "<table border=\"1\" class=\"dataframe\">\n",
       "  <thead>\n",
       "    <tr style=\"text-align: right;\">\n",
       "      <th></th>\n",
       "      <th>Country</th>\n",
       "      <th>Number Of Responders</th>\n",
       "      <th>Gender</th>\n",
       "      <th>Longitude</th>\n",
       "      <th>Latitude</th>\n",
       "    </tr>\n",
       "  </thead>\n",
       "  <tbody>\n",
       "    <tr>\n",
       "      <th>0</th>\n",
       "      <td>United States</td>\n",
       "      <td>1385</td>\n",
       "      <td>Female</td>\n",
       "      <td>-95.7129</td>\n",
       "      <td>37.0902</td>\n",
       "    </tr>\n",
       "    <tr>\n",
       "      <th>1</th>\n",
       "      <td>India</td>\n",
       "      <td>407</td>\n",
       "      <td>Female</td>\n",
       "      <td>78.9629</td>\n",
       "      <td>20.5937</td>\n",
       "    </tr>\n",
       "    <tr>\n",
       "      <th>2</th>\n",
       "      <td>United Kingdom</td>\n",
       "      <td>278</td>\n",
       "      <td>Female</td>\n",
       "      <td>-3.43597</td>\n",
       "      <td>55.3781</td>\n",
       "    </tr>\n",
       "    <tr>\n",
       "      <th>3</th>\n",
       "      <td>Canada</td>\n",
       "      <td>217</td>\n",
       "      <td>Female</td>\n",
       "      <td>-106.347</td>\n",
       "      <td>56.1304</td>\n",
       "    </tr>\n",
       "    <tr>\n",
       "      <th>4</th>\n",
       "      <td>Germany</td>\n",
       "      <td>202</td>\n",
       "      <td>Female</td>\n",
       "      <td>10.4515</td>\n",
       "      <td>51.1657</td>\n",
       "    </tr>\n",
       "  </tbody>\n",
       "</table>\n",
       "</div>"
      ],
      "text/plain": [
       "          Country  Number Of Responders  Gender Longitude Latitude\n",
       "0   United States                  1385  Female  -95.7129  37.0902\n",
       "1           India                   407  Female   78.9629  20.5937\n",
       "2  United Kingdom                   278  Female  -3.43597  55.3781\n",
       "3          Canada                   217  Female  -106.347  56.1304\n",
       "4         Germany                   202  Female   10.4515  51.1657"
      ]
     },
     "execution_count": 7,
     "metadata": {},
     "output_type": "execute_result"
    }
   ],
   "source": [
    "df_Female.head()"
   ]
  },
  {
   "cell_type": "code",
   "execution_count": 18,
   "metadata": {},
   "outputs": [
    {
     "data": {
      "application/vnd.jupyter.widget-view+json": {
       "model_id": "3e4e144b3fcc482a91471fbde5f1e52e",
       "version_major": 2,
       "version_minor": 0
      },
      "text/plain": [
       "Figure(layout=FigureLayout(height='420px'))"
      ]
     },
     "metadata": {},
     "output_type": "display_data"
    }
   ],
   "source": [
    "locations = df_Female[[\"Latitude\", \"Longitude\"]]\n",
    "\n",
    "# Fill NaN values and convert to float\n",
    "rating = df_Female[\"Number Of Responders\"].astype(float)\n",
    "fig = gmaps.figure()\n",
    "\n",
    "# Create heat layer\n",
    "heat_layer = gmaps.heatmap_layer(locations, weights=rating, \n",
    "                                 dissipating=False, max_intensity=10,\n",
    "                                 point_radius=5)\n",
    "fig.add_layer(heat_layer)\n",
    "fig"
   ]
  },
  {
   "cell_type": "code",
   "execution_count": 9,
   "metadata": {
    "scrolled": true
   },
   "outputs": [
    {
     "data": {
      "application/vnd.jupyter.widget-view+json": {
       "model_id": "d45d3d8949b542228f1a2a3f29c8039f",
       "version_major": 2,
       "version_minor": 0
      },
      "text/plain": [
       "Figure(layout=FigureLayout(height='420px'))"
      ]
     },
     "metadata": {},
     "output_type": "display_data"
    }
   ],
   "source": [
    "fig = gmaps.figure()\n",
    "fig"
   ]
  },
  {
   "cell_type": "markdown",
   "metadata": {},
   "source": [
    "# Male DataFrame"
   ]
  },
  {
   "cell_type": "code",
   "execution_count": 11,
   "metadata": {},
   "outputs": [],
   "source": [
    "\n",
    "Demographics_Male = Demographics_Gender.loc[(Demographics_Gender[\"Gender\"]==\"Male\"),:]\n",
    "Demographics_Male.reset_index(level=0, inplace=True)\n",
    "Male_Responders=  Demographics_Male[\"Country\"].value_counts()\n",
    "df_Male=pd.DataFrame(Male_Responders)\n",
    "df_Male=df_Male.drop(\"Other Country (Not Listed Above)\", axis=0)\n",
    "df_Male[\"Gender\"]=\"Male\"\n",
    "df_Male.reset_index(level=0, inplace=True)\n",
    "df_Male=df_Male.rename(columns = {\"index\":\"Country\",\"Country\": \"Number Of Responders\"})\n",
    "df_Male[\"Longitude\"]=\"\"\n",
    "df_Male[\"Latitude\"]=\"\"\n",
    "\n",
    "for index, row in df_Male.iterrows():\n",
    "    address = row['Country']\n",
    "    params = {'address': address,'key':gkey}\n",
    "    Response= requests.get(GOOGLE_MAPS_API_URL, params=params).json()\n",
    "    df_Male.loc[index, 'Longitude']=Response[\"results\"][0][\"geometry\"][\"location\"][\"lng\"]\n",
    "    df_Male.loc[index, 'Latitude']=Response[\"results\"][0][\"geometry\"][\"location\"][\"lat\"]\n"
   ]
  },
  {
   "cell_type": "code",
   "execution_count": 12,
   "metadata": {},
   "outputs": [
    {
     "data": {
      "text/html": [
       "<div>\n",
       "<style scoped>\n",
       "    .dataframe tbody tr th:only-of-type {\n",
       "        vertical-align: middle;\n",
       "    }\n",
       "\n",
       "    .dataframe tbody tr th {\n",
       "        vertical-align: top;\n",
       "    }\n",
       "\n",
       "    .dataframe thead th {\n",
       "        text-align: right;\n",
       "    }\n",
       "</style>\n",
       "<table border=\"1\" class=\"dataframe\">\n",
       "  <thead>\n",
       "    <tr style=\"text-align: right;\">\n",
       "      <th></th>\n",
       "      <th>Country</th>\n",
       "      <th>Number Of Responders</th>\n",
       "      <th>Gender</th>\n",
       "      <th>Longitude</th>\n",
       "      <th>Latitude</th>\n",
       "    </tr>\n",
       "  </thead>\n",
       "  <tbody>\n",
       "    <tr>\n",
       "      <th>0</th>\n",
       "      <td>United States</td>\n",
       "      <td>13787</td>\n",
       "      <td>Male</td>\n",
       "      <td>-95.7129</td>\n",
       "      <td>37.0902</td>\n",
       "    </tr>\n",
       "    <tr>\n",
       "      <th>1</th>\n",
       "      <td>India</td>\n",
       "      <td>5973</td>\n",
       "      <td>Male</td>\n",
       "      <td>78.9629</td>\n",
       "      <td>20.5937</td>\n",
       "    </tr>\n",
       "    <tr>\n",
       "      <th>2</th>\n",
       "      <td>United Kingdom</td>\n",
       "      <td>4223</td>\n",
       "      <td>Male</td>\n",
       "      <td>-3.43597</td>\n",
       "      <td>55.3781</td>\n",
       "    </tr>\n",
       "    <tr>\n",
       "      <th>3</th>\n",
       "      <td>Germany</td>\n",
       "      <td>4159</td>\n",
       "      <td>Male</td>\n",
       "      <td>10.4515</td>\n",
       "      <td>51.1657</td>\n",
       "    </tr>\n",
       "    <tr>\n",
       "      <th>4</th>\n",
       "      <td>Canada</td>\n",
       "      <td>2179</td>\n",
       "      <td>Male</td>\n",
       "      <td>-106.347</td>\n",
       "      <td>56.1304</td>\n",
       "    </tr>\n",
       "  </tbody>\n",
       "</table>\n",
       "</div>"
      ],
      "text/plain": [
       "          Country  Number Of Responders Gender Longitude Latitude\n",
       "0   United States                 13787   Male  -95.7129  37.0902\n",
       "1           India                  5973   Male   78.9629  20.5937\n",
       "2  United Kingdom                  4223   Male  -3.43597  55.3781\n",
       "3         Germany                  4159   Male   10.4515  51.1657\n",
       "4          Canada                  2179   Male  -106.347  56.1304"
      ]
     },
     "execution_count": 12,
     "metadata": {},
     "output_type": "execute_result"
    }
   ],
   "source": [
    "df_Male.head()"
   ]
  },
  {
   "cell_type": "code",
   "execution_count": 13,
   "metadata": {},
   "outputs": [
    {
     "data": {
      "application/vnd.jupyter.widget-view+json": {
       "model_id": "cd0aa80a893a43f887cf2971b0fa5fed",
       "version_major": 2,
       "version_minor": 0
      },
      "text/plain": [
       "Figure(layout=FigureLayout(height='420px'))"
      ]
     },
     "metadata": {},
     "output_type": "display_data"
    }
   ],
   "source": [
    "locations = df_Male[[\"Latitude\", \"Longitude\"]]\n",
    "\n",
    "# Fill NaN values and convert to float\n",
    "rating = df_Male[\"Number Of Responders\"].astype(float)\n",
    "fig = gmaps.figure()\n",
    "\n",
    "# Create heat layer\n",
    "heat_layer = gmaps.heatmap_layer(locations, weights=rating, \n",
    "                                 dissipating=False, max_intensity=10,\n",
    "                                 point_radius=5)\n",
    "fig.add_layer(heat_layer)\n",
    "fig"
   ]
  },
  {
   "cell_type": "markdown",
   "metadata": {},
   "source": [
    "# Other/Not Defined"
   ]
  },
  {
   "cell_type": "code",
   "execution_count": 15,
   "metadata": {},
   "outputs": [
    {
     "data": {
      "text/html": [
       "<div>\n",
       "<style scoped>\n",
       "    .dataframe tbody tr th:only-of-type {\n",
       "        vertical-align: middle;\n",
       "    }\n",
       "\n",
       "    .dataframe tbody tr th {\n",
       "        vertical-align: top;\n",
       "    }\n",
       "\n",
       "    .dataframe thead th {\n",
       "        text-align: right;\n",
       "    }\n",
       "</style>\n",
       "<table border=\"1\" class=\"dataframe\">\n",
       "  <thead>\n",
       "    <tr style=\"text-align: right;\">\n",
       "      <th></th>\n",
       "      <th>Country</th>\n",
       "      <th>Number Of Responders</th>\n",
       "      <th>Gender</th>\n",
       "      <th>Longitude</th>\n",
       "      <th>Latitude</th>\n",
       "    </tr>\n",
       "  </thead>\n",
       "  <tbody>\n",
       "    <tr>\n",
       "      <th>0</th>\n",
       "      <td>United States</td>\n",
       "      <td>167</td>\n",
       "      <td>Other / Non-Disclosed</td>\n",
       "      <td>-95.7129</td>\n",
       "      <td>37.0902</td>\n",
       "    </tr>\n",
       "    <tr>\n",
       "      <th>1</th>\n",
       "      <td>India</td>\n",
       "      <td>54</td>\n",
       "      <td>Other / Non-Disclosed</td>\n",
       "      <td>78.9629</td>\n",
       "      <td>20.5937</td>\n",
       "    </tr>\n",
       "    <tr>\n",
       "      <th>2</th>\n",
       "      <td>United Kingdom</td>\n",
       "      <td>48</td>\n",
       "      <td>Other / Non-Disclosed</td>\n",
       "      <td>-3.43597</td>\n",
       "      <td>55.3781</td>\n",
       "    </tr>\n",
       "    <tr>\n",
       "      <th>3</th>\n",
       "      <td>Germany</td>\n",
       "      <td>43</td>\n",
       "      <td>Other / Non-Disclosed</td>\n",
       "      <td>10.4515</td>\n",
       "      <td>51.1657</td>\n",
       "    </tr>\n",
       "    <tr>\n",
       "      <th>4</th>\n",
       "      <td>Canada</td>\n",
       "      <td>27</td>\n",
       "      <td>Other / Non-Disclosed</td>\n",
       "      <td>-106.347</td>\n",
       "      <td>56.1304</td>\n",
       "    </tr>\n",
       "  </tbody>\n",
       "</table>\n",
       "</div>"
      ],
      "text/plain": [
       "          Country  Number Of Responders                 Gender Longitude  \\\n",
       "0   United States                   167  Other / Non-Disclosed  -95.7129   \n",
       "1           India                    54  Other / Non-Disclosed   78.9629   \n",
       "2  United Kingdom                    48  Other / Non-Disclosed  -3.43597   \n",
       "3         Germany                    43  Other / Non-Disclosed   10.4515   \n",
       "4          Canada                    27  Other / Non-Disclosed  -106.347   \n",
       "\n",
       "  Latitude  \n",
       "0  37.0902  \n",
       "1  20.5937  \n",
       "2  55.3781  \n",
       "3  51.1657  \n",
       "4  56.1304  "
      ]
     },
     "execution_count": 15,
     "metadata": {},
     "output_type": "execute_result"
    }
   ],
   "source": [
    "Demographics_Other = Demographics_Gender.loc[(Demographics_Gender[\"Gender\"]==\"Other / Non-Disclosed\"),:]\n",
    "Demographics_Other.reset_index(level=0, inplace=True)\n",
    "Other_Responders=  Demographics_Other[\"Country\"].value_counts()\n",
    "df_Other=pd.DataFrame(Other_Responders)\n",
    "df_Other=df_Other.drop(\"Other Country (Not Listed Above)\", axis=0)\n",
    "df_Other[\"Gender\"]=\"Other / Non-Disclosed\"\n",
    "df_Other.reset_index(level=0, inplace=True)\n",
    "df_Other=df_Other.rename(columns = {\"index\":\"Country\",\"Country\": \"Number Of Responders\"})\n",
    "df_Other[\"Longitude\"]=\"\"\n",
    "df_Other[\"Latitude\"]=\"\"\n",
    "\n",
    "for index, row in df_Other.iterrows():\n",
    "    address = row['Country']\n",
    "    params = {'address': address,'key':gkey}\n",
    "    Response= requests.get(GOOGLE_MAPS_API_URL, params=params).json()\n",
    "    df_Other.loc[index, 'Longitude']=Response[\"results\"][0][\"geometry\"][\"location\"][\"lng\"]\n",
    "    df_Other.loc[index, 'Latitude']=Response[\"results\"][0][\"geometry\"][\"location\"][\"lat\"]\n",
    "df_Other.head()"
   ]
  },
  {
   "cell_type": "code",
   "execution_count": 16,
   "metadata": {},
   "outputs": [
    {
     "data": {
      "application/vnd.jupyter.widget-view+json": {
       "model_id": "418ea87b60f6422291872e6e3aa6598d",
       "version_major": 2,
       "version_minor": 0
      },
      "text/plain": [
       "Figure(layout=FigureLayout(height='420px'))"
      ]
     },
     "metadata": {},
     "output_type": "display_data"
    }
   ],
   "source": [
    "locations = df_Other[[\"Latitude\", \"Longitude\"]]\n",
    "\n",
    "# Fill NaN values and convert to float\n",
    "rating = df_Other[\"Number Of Responders\"].astype(float)\n",
    "fig = gmaps.figure()\n",
    "\n",
    "# Create heat layer\n",
    "heat_layer = gmaps.heatmap_layer(locations, weights=rating, \n",
    "                                 dissipating=False, max_intensity=10,\n",
    "                                 point_radius=5)\n",
    "fig.add_layer(heat_layer)\n",
    "fig"
   ]
  },
  {
   "cell_type": "code",
   "execution_count": null,
   "metadata": {},
   "outputs": [],
   "source": []
  },
  {
   "cell_type": "code",
   "execution_count": null,
   "metadata": {},
   "outputs": [],
   "source": []
  },
  {
   "cell_type": "code",
   "execution_count": null,
   "metadata": {},
   "outputs": [],
   "source": []
  },
  {
   "cell_type": "code",
   "execution_count": null,
   "metadata": {},
   "outputs": [],
   "source": []
  },
  {
   "cell_type": "code",
   "execution_count": null,
   "metadata": {},
   "outputs": [],
   "source": []
  },
  {
   "cell_type": "code",
   "execution_count": null,
   "metadata": {},
   "outputs": [],
   "source": []
  },
  {
   "cell_type": "code",
   "execution_count": null,
   "metadata": {},
   "outputs": [],
   "source": []
  },
  {
   "cell_type": "code",
   "execution_count": null,
   "metadata": {},
   "outputs": [],
   "source": []
  },
  {
   "cell_type": "code",
   "execution_count": null,
   "metadata": {},
   "outputs": [],
   "source": []
  },
  {
   "cell_type": "code",
   "execution_count": null,
   "metadata": {},
   "outputs": [],
   "source": []
  }
 ],
 "metadata": {
  "kernelspec": {
   "display_name": "Python 3",
   "language": "python",
   "name": "python3"
  },
  "language_info": {
   "codemirror_mode": {
    "name": "ipython",
    "version": 3
   },
   "file_extension": ".py",
   "mimetype": "text/x-python",
   "name": "python",
   "nbconvert_exporter": "python",
   "pygments_lexer": "ipython3",
   "version": "3.7.3"
  }
 },
 "nbformat": 4,
 "nbformat_minor": 2
}
